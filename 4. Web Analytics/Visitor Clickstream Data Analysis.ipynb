{
 "cells": [
  {
   "cell_type": "code",
   "execution_count": 109,
   "id": "7abeacf0",
   "metadata": {
    "collapsed": true
   },
   "outputs": [
    {
     "name": "stderr",
     "output_type": "stream",
     "text": [
      "C:\\ProgramData\\Anaconda3\\lib\\site-packages\\IPython\\core\\interactiveshell.py:3165: DtypeWarning: Columns (17,18,19) have mixed types.Specify dtype option on import or set low_memory=False.\n",
      "  has_raised = await self.run_ast_nodes(code_ast.body, cell_name,\n"
     ]
    },
    {
     "data": {
      "text/html": [
       "<div>\n",
       "<style scoped>\n",
       "    .dataframe tbody tr th:only-of-type {\n",
       "        vertical-align: middle;\n",
       "    }\n",
       "\n",
       "    .dataframe tbody tr th {\n",
       "        vertical-align: top;\n",
       "    }\n",
       "\n",
       "    .dataframe thead th {\n",
       "        text-align: right;\n",
       "    }\n",
       "</style>\n",
       "<table border=\"1\" class=\"dataframe\">\n",
       "  <thead>\n",
       "    <tr style=\"text-align: right;\">\n",
       "      <th></th>\n",
       "      <th>0</th>\n",
       "      <th>1</th>\n",
       "      <th>2</th>\n",
       "      <th>3</th>\n",
       "      <th>4</th>\n",
       "      <th>5</th>\n",
       "      <th>6</th>\n",
       "      <th>7</th>\n",
       "      <th>8</th>\n",
       "      <th>9</th>\n",
       "      <th>...</th>\n",
       "      <th>11</th>\n",
       "      <th>12</th>\n",
       "      <th>13</th>\n",
       "      <th>14</th>\n",
       "      <th>15</th>\n",
       "      <th>16</th>\n",
       "      <th>17</th>\n",
       "      <th>18</th>\n",
       "      <th>19</th>\n",
       "      <th>20</th>\n",
       "    </tr>\n",
       "  </thead>\n",
       "  <tbody>\n",
       "    <tr>\n",
       "      <th>0</th>\n",
       "      <td>linkedin_share</td>\n",
       "      <td>android</td>\n",
       "      <td>blog_1</td>\n",
       "      <td>home</td>\n",
       "      <td>pricing</td>\n",
       "      <td>purchase_start</td>\n",
       "      <td>purchase_enter_address</td>\n",
       "      <td>purchase_success</td>\n",
       "      <td>NaN</td>\n",
       "      <td>NaN</td>\n",
       "      <td>...</td>\n",
       "      <td>NaN</td>\n",
       "      <td>NaN</td>\n",
       "      <td>NaN</td>\n",
       "      <td>NaN</td>\n",
       "      <td>NaN</td>\n",
       "      <td>NaN</td>\n",
       "      <td>NaN</td>\n",
       "      <td>NaN</td>\n",
       "      <td>NaN</td>\n",
       "      <td>NaN</td>\n",
       "    </tr>\n",
       "    <tr>\n",
       "      <th>1</th>\n",
       "      <td>facebook_share</td>\n",
       "      <td>ios</td>\n",
       "      <td>blog_1</td>\n",
       "      <td>pricing</td>\n",
       "      <td>purchase_start</td>\n",
       "      <td>blog_1</td>\n",
       "      <td>NaN</td>\n",
       "      <td>NaN</td>\n",
       "      <td>NaN</td>\n",
       "      <td>NaN</td>\n",
       "      <td>...</td>\n",
       "      <td>NaN</td>\n",
       "      <td>NaN</td>\n",
       "      <td>NaN</td>\n",
       "      <td>NaN</td>\n",
       "      <td>NaN</td>\n",
       "      <td>NaN</td>\n",
       "      <td>NaN</td>\n",
       "      <td>NaN</td>\n",
       "      <td>NaN</td>\n",
       "      <td>NaN</td>\n",
       "    </tr>\n",
       "    <tr>\n",
       "      <th>2</th>\n",
       "      <td>search</td>\n",
       "      <td>android</td>\n",
       "      <td>home</td>\n",
       "      <td>blog_1</td>\n",
       "      <td>NaN</td>\n",
       "      <td>NaN</td>\n",
       "      <td>NaN</td>\n",
       "      <td>NaN</td>\n",
       "      <td>NaN</td>\n",
       "      <td>NaN</td>\n",
       "      <td>...</td>\n",
       "      <td>NaN</td>\n",
       "      <td>NaN</td>\n",
       "      <td>NaN</td>\n",
       "      <td>NaN</td>\n",
       "      <td>NaN</td>\n",
       "      <td>NaN</td>\n",
       "      <td>NaN</td>\n",
       "      <td>NaN</td>\n",
       "      <td>NaN</td>\n",
       "      <td>NaN</td>\n",
       "    </tr>\n",
       "    <tr>\n",
       "      <th>3</th>\n",
       "      <td>facebook_share</td>\n",
       "      <td>windows</td>\n",
       "      <td>blog_2</td>\n",
       "      <td>home</td>\n",
       "      <td>blog_1</td>\n",
       "      <td>NaN</td>\n",
       "      <td>NaN</td>\n",
       "      <td>NaN</td>\n",
       "      <td>NaN</td>\n",
       "      <td>NaN</td>\n",
       "      <td>...</td>\n",
       "      <td>NaN</td>\n",
       "      <td>NaN</td>\n",
       "      <td>NaN</td>\n",
       "      <td>NaN</td>\n",
       "      <td>NaN</td>\n",
       "      <td>NaN</td>\n",
       "      <td>NaN</td>\n",
       "      <td>NaN</td>\n",
       "      <td>NaN</td>\n",
       "      <td>NaN</td>\n",
       "    </tr>\n",
       "    <tr>\n",
       "      <th>4</th>\n",
       "      <td>facebook_share</td>\n",
       "      <td>ios</td>\n",
       "      <td>home</td>\n",
       "      <td>blog_1</td>\n",
       "      <td>NaN</td>\n",
       "      <td>NaN</td>\n",
       "      <td>NaN</td>\n",
       "      <td>NaN</td>\n",
       "      <td>NaN</td>\n",
       "      <td>NaN</td>\n",
       "      <td>...</td>\n",
       "      <td>NaN</td>\n",
       "      <td>NaN</td>\n",
       "      <td>NaN</td>\n",
       "      <td>NaN</td>\n",
       "      <td>NaN</td>\n",
       "      <td>NaN</td>\n",
       "      <td>NaN</td>\n",
       "      <td>NaN</td>\n",
       "      <td>NaN</td>\n",
       "      <td>NaN</td>\n",
       "    </tr>\n",
       "  </tbody>\n",
       "</table>\n",
       "<p>5 rows × 21 columns</p>\n",
       "</div>"
      ],
      "text/plain": [
       "               0        1       2        3               4               5   \\\n",
       "0  linkedin_share  android  blog_1     home         pricing  purchase_start   \n",
       "1  facebook_share      ios  blog_1  pricing  purchase_start          blog_1   \n",
       "2          search  android    home   blog_1             NaN             NaN   \n",
       "3  facebook_share  windows  blog_2     home          blog_1             NaN   \n",
       "4  facebook_share      ios    home   blog_1             NaN             NaN   \n",
       "\n",
       "                       6                 7    8    9   ...   11   12   13  \\\n",
       "0  purchase_enter_address  purchase_success  NaN  NaN  ...  NaN  NaN  NaN   \n",
       "1                     NaN               NaN  NaN  NaN  ...  NaN  NaN  NaN   \n",
       "2                     NaN               NaN  NaN  NaN  ...  NaN  NaN  NaN   \n",
       "3                     NaN               NaN  NaN  NaN  ...  NaN  NaN  NaN   \n",
       "4                     NaN               NaN  NaN  NaN  ...  NaN  NaN  NaN   \n",
       "\n",
       "    14   15   16   17   18   19  20  \n",
       "0  NaN  NaN  NaN  NaN  NaN  NaN NaN  \n",
       "1  NaN  NaN  NaN  NaN  NaN  NaN NaN  \n",
       "2  NaN  NaN  NaN  NaN  NaN  NaN NaN  \n",
       "3  NaN  NaN  NaN  NaN  NaN  NaN NaN  \n",
       "4  NaN  NaN  NaN  NaN  NaN  NaN NaN  \n",
       "\n",
       "[5 rows x 21 columns]"
      ]
     },
     "execution_count": 109,
     "metadata": {},
     "output_type": "execute_result"
    }
   ],
   "source": [
    "import pandas as pd\n",
    "import numpy as np\n",
    "import matplotlib.pyplot as plt\n",
    "import re\n",
    "\n",
    "# Loading the data\n",
    "data_file = \"visitor_data_clickstream.csv\"\n",
    "data_file_delimiter = ','\n",
    "\n",
    "# Column count\n",
    "largest_column_count = 0\n",
    "with open(data_file, 'r') as temp_f:\n",
    "    lines = temp_f.readlines()\n",
    "    for l in lines:\n",
    "        # Count the column count for the current line\n",
    "        column_count = len(l.split(data_file_delimiter)) + 1\n",
    "        # Set the new most column count\n",
    "        largest_column_count = column_count if largest_column_count < column_count else largest_column_count\n",
    "\n",
    "# Generate column names (0, 1, ..., largest_column_count - 1)\n",
    "column_names = [i for i in range(0, largest_column_count)]\n",
    "\n",
    "# Read csv\n",
    "visitor_data = pd.read_csv(data_file, header=None, delimiter=data_file_delimiter, names=column_names)\n",
    "visitor_data.head()"
   ]
  },
  {
   "cell_type": "code",
   "execution_count": 110,
   "id": "0e57bbab",
   "metadata": {
    "collapsed": true
   },
   "outputs": [
    {
     "data": {
      "text/html": [
       "<div>\n",
       "<style scoped>\n",
       "    .dataframe tbody tr th:only-of-type {\n",
       "        vertical-align: middle;\n",
       "    }\n",
       "\n",
       "    .dataframe tbody tr th {\n",
       "        vertical-align: top;\n",
       "    }\n",
       "\n",
       "    .dataframe thead th {\n",
       "        text-align: right;\n",
       "    }\n",
       "</style>\n",
       "<table border=\"1\" class=\"dataframe\">\n",
       "  <thead>\n",
       "    <tr style=\"text-align: right;\">\n",
       "      <th></th>\n",
       "      <th>source</th>\n",
       "      <th>platform</th>\n",
       "      <th>2</th>\n",
       "      <th>3</th>\n",
       "      <th>4</th>\n",
       "      <th>5</th>\n",
       "      <th>6</th>\n",
       "      <th>7</th>\n",
       "      <th>8</th>\n",
       "      <th>9</th>\n",
       "      <th>...</th>\n",
       "      <th>11</th>\n",
       "      <th>12</th>\n",
       "      <th>13</th>\n",
       "      <th>14</th>\n",
       "      <th>15</th>\n",
       "      <th>16</th>\n",
       "      <th>17</th>\n",
       "      <th>18</th>\n",
       "      <th>19</th>\n",
       "      <th>20</th>\n",
       "    </tr>\n",
       "  </thead>\n",
       "  <tbody>\n",
       "    <tr>\n",
       "      <th>0</th>\n",
       "      <td>linkedin_share</td>\n",
       "      <td>android</td>\n",
       "      <td>blog_1</td>\n",
       "      <td>home</td>\n",
       "      <td>pricing</td>\n",
       "      <td>purchase_start</td>\n",
       "      <td>purchase_enter_address</td>\n",
       "      <td>purchase_success</td>\n",
       "      <td>NaN</td>\n",
       "      <td>NaN</td>\n",
       "      <td>...</td>\n",
       "      <td>NaN</td>\n",
       "      <td>NaN</td>\n",
       "      <td>NaN</td>\n",
       "      <td>NaN</td>\n",
       "      <td>NaN</td>\n",
       "      <td>NaN</td>\n",
       "      <td>NaN</td>\n",
       "      <td>NaN</td>\n",
       "      <td>NaN</td>\n",
       "      <td>NaN</td>\n",
       "    </tr>\n",
       "    <tr>\n",
       "      <th>1</th>\n",
       "      <td>facebook_share</td>\n",
       "      <td>ios</td>\n",
       "      <td>blog_1</td>\n",
       "      <td>pricing</td>\n",
       "      <td>purchase_start</td>\n",
       "      <td>blog_1</td>\n",
       "      <td>NaN</td>\n",
       "      <td>NaN</td>\n",
       "      <td>NaN</td>\n",
       "      <td>NaN</td>\n",
       "      <td>...</td>\n",
       "      <td>NaN</td>\n",
       "      <td>NaN</td>\n",
       "      <td>NaN</td>\n",
       "      <td>NaN</td>\n",
       "      <td>NaN</td>\n",
       "      <td>NaN</td>\n",
       "      <td>NaN</td>\n",
       "      <td>NaN</td>\n",
       "      <td>NaN</td>\n",
       "      <td>NaN</td>\n",
       "    </tr>\n",
       "    <tr>\n",
       "      <th>2</th>\n",
       "      <td>search</td>\n",
       "      <td>android</td>\n",
       "      <td>home</td>\n",
       "      <td>blog_1</td>\n",
       "      <td>NaN</td>\n",
       "      <td>NaN</td>\n",
       "      <td>NaN</td>\n",
       "      <td>NaN</td>\n",
       "      <td>NaN</td>\n",
       "      <td>NaN</td>\n",
       "      <td>...</td>\n",
       "      <td>NaN</td>\n",
       "      <td>NaN</td>\n",
       "      <td>NaN</td>\n",
       "      <td>NaN</td>\n",
       "      <td>NaN</td>\n",
       "      <td>NaN</td>\n",
       "      <td>NaN</td>\n",
       "      <td>NaN</td>\n",
       "      <td>NaN</td>\n",
       "      <td>NaN</td>\n",
       "    </tr>\n",
       "    <tr>\n",
       "      <th>3</th>\n",
       "      <td>facebook_share</td>\n",
       "      <td>windows</td>\n",
       "      <td>blog_2</td>\n",
       "      <td>home</td>\n",
       "      <td>blog_1</td>\n",
       "      <td>NaN</td>\n",
       "      <td>NaN</td>\n",
       "      <td>NaN</td>\n",
       "      <td>NaN</td>\n",
       "      <td>NaN</td>\n",
       "      <td>...</td>\n",
       "      <td>NaN</td>\n",
       "      <td>NaN</td>\n",
       "      <td>NaN</td>\n",
       "      <td>NaN</td>\n",
       "      <td>NaN</td>\n",
       "      <td>NaN</td>\n",
       "      <td>NaN</td>\n",
       "      <td>NaN</td>\n",
       "      <td>NaN</td>\n",
       "      <td>NaN</td>\n",
       "    </tr>\n",
       "    <tr>\n",
       "      <th>4</th>\n",
       "      <td>facebook_share</td>\n",
       "      <td>ios</td>\n",
       "      <td>home</td>\n",
       "      <td>blog_1</td>\n",
       "      <td>NaN</td>\n",
       "      <td>NaN</td>\n",
       "      <td>NaN</td>\n",
       "      <td>NaN</td>\n",
       "      <td>NaN</td>\n",
       "      <td>NaN</td>\n",
       "      <td>...</td>\n",
       "      <td>NaN</td>\n",
       "      <td>NaN</td>\n",
       "      <td>NaN</td>\n",
       "      <td>NaN</td>\n",
       "      <td>NaN</td>\n",
       "      <td>NaN</td>\n",
       "      <td>NaN</td>\n",
       "      <td>NaN</td>\n",
       "      <td>NaN</td>\n",
       "      <td>NaN</td>\n",
       "    </tr>\n",
       "  </tbody>\n",
       "</table>\n",
       "<p>5 rows × 21 columns</p>\n",
       "</div>"
      ],
      "text/plain": [
       "           source platform       2        3               4               5  \\\n",
       "0  linkedin_share  android  blog_1     home         pricing  purchase_start   \n",
       "1  facebook_share      ios  blog_1  pricing  purchase_start          blog_1   \n",
       "2          search  android    home   blog_1             NaN             NaN   \n",
       "3  facebook_share  windows  blog_2     home          blog_1             NaN   \n",
       "4  facebook_share      ios    home   blog_1             NaN             NaN   \n",
       "\n",
       "                        6                 7    8    9  ...   11   12   13  \\\n",
       "0  purchase_enter_address  purchase_success  NaN  NaN  ...  NaN  NaN  NaN   \n",
       "1                     NaN               NaN  NaN  NaN  ...  NaN  NaN  NaN   \n",
       "2                     NaN               NaN  NaN  NaN  ...  NaN  NaN  NaN   \n",
       "3                     NaN               NaN  NaN  NaN  ...  NaN  NaN  NaN   \n",
       "4                     NaN               NaN  NaN  NaN  ...  NaN  NaN  NaN   \n",
       "\n",
       "    14   15   16   17   18   19  20  \n",
       "0  NaN  NaN  NaN  NaN  NaN  NaN NaN  \n",
       "1  NaN  NaN  NaN  NaN  NaN  NaN NaN  \n",
       "2  NaN  NaN  NaN  NaN  NaN  NaN NaN  \n",
       "3  NaN  NaN  NaN  NaN  NaN  NaN NaN  \n",
       "4  NaN  NaN  NaN  NaN  NaN  NaN NaN  \n",
       "\n",
       "[5 rows x 21 columns]"
      ]
     },
     "execution_count": 110,
     "metadata": {},
     "output_type": "execute_result"
    }
   ],
   "source": [
    "visitor_data.rename(columns={0:'source', 1:'platform'}, inplace=True)\n",
    "visitor_data.head()"
   ]
  },
  {
   "cell_type": "markdown",
   "id": "014db9d1",
   "metadata": {},
   "source": [
    "Do the three campaigns perform differently, and what could these differences mean? "
   ]
  },
  {
   "cell_type": "code",
   "execution_count": 111,
   "id": "2875c4f6",
   "metadata": {
    "collapsed": true
   },
   "outputs": [
    {
     "data": {
      "text/html": [
       "<div>\n",
       "<style scoped>\n",
       "    .dataframe tbody tr th:only-of-type {\n",
       "        vertical-align: middle;\n",
       "    }\n",
       "\n",
       "    .dataframe tbody tr th {\n",
       "        vertical-align: top;\n",
       "    }\n",
       "\n",
       "    .dataframe thead th {\n",
       "        text-align: right;\n",
       "    }\n",
       "</style>\n",
       "<table border=\"1\" class=\"dataframe\">\n",
       "  <thead>\n",
       "    <tr style=\"text-align: right;\">\n",
       "      <th></th>\n",
       "      <th>source</th>\n",
       "      <th>2</th>\n",
       "      <th>3</th>\n",
       "      <th>4</th>\n",
       "      <th>5</th>\n",
       "      <th>6</th>\n",
       "      <th>7</th>\n",
       "      <th>8</th>\n",
       "      <th>9</th>\n",
       "      <th>10</th>\n",
       "      <th>11</th>\n",
       "      <th>12</th>\n",
       "      <th>13</th>\n",
       "      <th>14</th>\n",
       "      <th>15</th>\n",
       "      <th>16</th>\n",
       "      <th>17</th>\n",
       "      <th>18</th>\n",
       "      <th>19</th>\n",
       "      <th>20</th>\n",
       "    </tr>\n",
       "  </thead>\n",
       "  <tbody>\n",
       "    <tr>\n",
       "      <th>0</th>\n",
       "      <td>linkedin_share</td>\n",
       "      <td>blog_1</td>\n",
       "      <td>home</td>\n",
       "      <td>pricing</td>\n",
       "      <td>purchase_start</td>\n",
       "      <td>purchase_enter_address</td>\n",
       "      <td>purchase_success</td>\n",
       "      <td>NaN</td>\n",
       "      <td>NaN</td>\n",
       "      <td>NaN</td>\n",
       "      <td>NaN</td>\n",
       "      <td>NaN</td>\n",
       "      <td>NaN</td>\n",
       "      <td>NaN</td>\n",
       "      <td>NaN</td>\n",
       "      <td>NaN</td>\n",
       "      <td>NaN</td>\n",
       "      <td>NaN</td>\n",
       "      <td>NaN</td>\n",
       "      <td>NaN</td>\n",
       "    </tr>\n",
       "    <tr>\n",
       "      <th>1</th>\n",
       "      <td>facebook_share</td>\n",
       "      <td>blog_1</td>\n",
       "      <td>pricing</td>\n",
       "      <td>purchase_start</td>\n",
       "      <td>blog_1</td>\n",
       "      <td>NaN</td>\n",
       "      <td>NaN</td>\n",
       "      <td>NaN</td>\n",
       "      <td>NaN</td>\n",
       "      <td>NaN</td>\n",
       "      <td>NaN</td>\n",
       "      <td>NaN</td>\n",
       "      <td>NaN</td>\n",
       "      <td>NaN</td>\n",
       "      <td>NaN</td>\n",
       "      <td>NaN</td>\n",
       "      <td>NaN</td>\n",
       "      <td>NaN</td>\n",
       "      <td>NaN</td>\n",
       "      <td>NaN</td>\n",
       "    </tr>\n",
       "    <tr>\n",
       "      <th>2</th>\n",
       "      <td>search</td>\n",
       "      <td>home</td>\n",
       "      <td>blog_1</td>\n",
       "      <td>NaN</td>\n",
       "      <td>NaN</td>\n",
       "      <td>NaN</td>\n",
       "      <td>NaN</td>\n",
       "      <td>NaN</td>\n",
       "      <td>NaN</td>\n",
       "      <td>NaN</td>\n",
       "      <td>NaN</td>\n",
       "      <td>NaN</td>\n",
       "      <td>NaN</td>\n",
       "      <td>NaN</td>\n",
       "      <td>NaN</td>\n",
       "      <td>NaN</td>\n",
       "      <td>NaN</td>\n",
       "      <td>NaN</td>\n",
       "      <td>NaN</td>\n",
       "      <td>NaN</td>\n",
       "    </tr>\n",
       "    <tr>\n",
       "      <th>3</th>\n",
       "      <td>facebook_share</td>\n",
       "      <td>blog_2</td>\n",
       "      <td>home</td>\n",
       "      <td>blog_1</td>\n",
       "      <td>NaN</td>\n",
       "      <td>NaN</td>\n",
       "      <td>NaN</td>\n",
       "      <td>NaN</td>\n",
       "      <td>NaN</td>\n",
       "      <td>NaN</td>\n",
       "      <td>NaN</td>\n",
       "      <td>NaN</td>\n",
       "      <td>NaN</td>\n",
       "      <td>NaN</td>\n",
       "      <td>NaN</td>\n",
       "      <td>NaN</td>\n",
       "      <td>NaN</td>\n",
       "      <td>NaN</td>\n",
       "      <td>NaN</td>\n",
       "      <td>NaN</td>\n",
       "    </tr>\n",
       "    <tr>\n",
       "      <th>4</th>\n",
       "      <td>facebook_share</td>\n",
       "      <td>home</td>\n",
       "      <td>blog_1</td>\n",
       "      <td>NaN</td>\n",
       "      <td>NaN</td>\n",
       "      <td>NaN</td>\n",
       "      <td>NaN</td>\n",
       "      <td>NaN</td>\n",
       "      <td>NaN</td>\n",
       "      <td>NaN</td>\n",
       "      <td>NaN</td>\n",
       "      <td>NaN</td>\n",
       "      <td>NaN</td>\n",
       "      <td>NaN</td>\n",
       "      <td>NaN</td>\n",
       "      <td>NaN</td>\n",
       "      <td>NaN</td>\n",
       "      <td>NaN</td>\n",
       "      <td>NaN</td>\n",
       "      <td>NaN</td>\n",
       "    </tr>\n",
       "  </tbody>\n",
       "</table>\n",
       "</div>"
      ],
      "text/plain": [
       "           source       2        3               4               5  \\\n",
       "0  linkedin_share  blog_1     home         pricing  purchase_start   \n",
       "1  facebook_share  blog_1  pricing  purchase_start          blog_1   \n",
       "2          search    home   blog_1             NaN             NaN   \n",
       "3  facebook_share  blog_2     home          blog_1             NaN   \n",
       "4  facebook_share    home   blog_1             NaN             NaN   \n",
       "\n",
       "                        6                 7    8    9   10   11   12   13  \\\n",
       "0  purchase_enter_address  purchase_success  NaN  NaN  NaN  NaN  NaN  NaN   \n",
       "1                     NaN               NaN  NaN  NaN  NaN  NaN  NaN  NaN   \n",
       "2                     NaN               NaN  NaN  NaN  NaN  NaN  NaN  NaN   \n",
       "3                     NaN               NaN  NaN  NaN  NaN  NaN  NaN  NaN   \n",
       "4                     NaN               NaN  NaN  NaN  NaN  NaN  NaN  NaN   \n",
       "\n",
       "    14   15   16   17   18   19  20  \n",
       "0  NaN  NaN  NaN  NaN  NaN  NaN NaN  \n",
       "1  NaN  NaN  NaN  NaN  NaN  NaN NaN  \n",
       "2  NaN  NaN  NaN  NaN  NaN  NaN NaN  \n",
       "3  NaN  NaN  NaN  NaN  NaN  NaN NaN  \n",
       "4  NaN  NaN  NaN  NaN  NaN  NaN NaN  "
      ]
     },
     "execution_count": 111,
     "metadata": {},
     "output_type": "execute_result"
    }
   ],
   "source": [
    "to_remove = ['platform']\n",
    "def remove_columns(dataset, to_remove):\n",
    "    sources = dataset.copy()   \n",
    "    sources = dataset.drop(to_remove, axis=1)  \n",
    "    return sources\n",
    "\n",
    "sources_only = remove_columns(visitor_data, to_remove)\n",
    "sources_only.head()"
   ]
  },
  {
   "cell_type": "code",
   "execution_count": 112,
   "id": "b062df39",
   "metadata": {
    "collapsed": true
   },
   "outputs": [
    {
     "data": {
      "text/plain": [
       "['linkedin_share',\n",
       " 'facebook_share',\n",
       " 'search',\n",
       " 'direct',\n",
       " 'partner_advert',\n",
       " 'facebook_advert',\n",
       " 'linkedin_advert']"
      ]
     },
     "execution_count": 112,
     "metadata": {},
     "output_type": "execute_result"
    }
   ],
   "source": [
    "sources = sources_only['source'].unique().tolist()\n",
    "sources"
   ]
  },
  {
   "cell_type": "code",
   "execution_count": 113,
   "id": "150bd36e",
   "metadata": {
    "collapsed": true
   },
   "outputs": [],
   "source": [
    "linkedin_share = sources_only.loc[sources_only['source'] == \"linkedin_share\"]\n",
    "facebook_share = sources_only.loc[sources_only['source'] == \"facebook_share\"]\n",
    "search = sources_only.loc[sources_only['source'] == \"search\"]\n",
    "direct = sources_only.loc[sources_only['source'] == \"direct\"]\n",
    "partner_advert = sources_only.loc[sources_only['source'] == \"partner_advert\"]\n",
    "facebook_advert = sources_only.loc[sources_only['source'] == \"facebook_advert\"]\n",
    "linkedin_advert = sources_only.loc[sources_only['source'] == \"linkedin_advert\"]"
   ]
  },
  {
   "cell_type": "code",
   "execution_count": 114,
   "id": "0e781b6f",
   "metadata": {
    "collapsed": true
   },
   "outputs": [],
   "source": [
    "def get_bounce_rate(dataset):\n",
    "    count = dataset.count(axis=1)\n",
    "    move_count = count.value_counts()\n",
    "    move_count = pd.DataFrame(data=move_count)\n",
    "    if 2 in move_count.index.tolist():\n",
    "        bounce_rate = move_count[0][2] / move_count[0].sum()\n",
    "    else:\n",
    "        bounce_rate = 0\n",
    "    return round(bounce_rate,2)"
   ]
  },
  {
   "cell_type": "code",
   "execution_count": 115,
   "id": "12d95427",
   "metadata": {
    "collapsed": true
   },
   "outputs": [
    {
     "data": {
      "text/plain": [
       "[0.2, 0.16, 0.18, 0.1, 0, 0.43, 0]"
      ]
     },
     "execution_count": 115,
     "metadata": {},
     "output_type": "execute_result"
    }
   ],
   "source": [
    "source_list = [linkedin_share, facebook_share, search, direct, partner_advert, facebook_advert, linkedin_advert]\n",
    "bounces = []\n",
    "for source in source_list:\n",
    "    source = source.reset_index(drop=True)\n",
    "    bounces.append(round(get_bounce_rate(source),2))\n",
    "bounces"
   ]
  },
  {
   "cell_type": "code",
   "execution_count": 116,
   "id": "9b06f7c1",
   "metadata": {
    "collapsed": true
   },
   "outputs": [],
   "source": [
    "def get_conversion(dataset):\n",
    "    dataset1 = dataset.reset_index(drop=True)\n",
    "    columns = list(dataset1.columns)\n",
    "    rows = list(range(0,len(dataset1)))\n",
    "    successes = []\n",
    "    for column in columns:\n",
    "        if dataset1[dataset1[column] == 'purchase_success'].shape[0] > 0:\n",
    "            successes.append(dataset1[dataset1[column] == 'purchase_success'].shape[0])\n",
    "    conversion = sum(successes)/len(rows)\n",
    "    return round(conversion, 2)"
   ]
  },
  {
   "cell_type": "code",
   "execution_count": 117,
   "id": "bd89e0f7",
   "metadata": {
    "collapsed": true
   },
   "outputs": [
    {
     "data": {
      "text/plain": [
       "[0.12, 0.13, 0.15, 0.32, 0.11, 0.01, 0.25]"
      ]
     },
     "execution_count": 117,
     "metadata": {},
     "output_type": "execute_result"
    }
   ],
   "source": [
    "conversions = []\n",
    "for source in source_list:\n",
    "    source = source.reset_index(drop=True)\n",
    "    conversions.append(get_conversion(source))\n",
    "conversions"
   ]
  },
  {
   "cell_type": "code",
   "execution_count": 118,
   "id": "9c000082",
   "metadata": {
    "collapsed": true
   },
   "outputs": [],
   "source": [
    "def get_avg_length(dataset):\n",
    "    lengths = dataset.count(axis=1).to_frame()\n",
    "    avg_length = round(lengths[0].sum()/len(lengths),0)\n",
    "    return avg_length"
   ]
  },
  {
   "cell_type": "code",
   "execution_count": 119,
   "id": "b7e45f0b",
   "metadata": {
    "collapsed": true
   },
   "outputs": [
    {
     "data": {
      "text/plain": [
       "[4.0, 4.0, 4.0, 5.0, 5.0, 3.0, 5.0]"
      ]
     },
     "execution_count": 119,
     "metadata": {},
     "output_type": "execute_result"
    }
   ],
   "source": [
    "avg_lengths = []\n",
    "for source in source_list:\n",
    "    source = source.reset_index(drop=True)\n",
    "    avg_lengths.append(get_avg_length(source))\n",
    "avg_lengths"
   ]
  },
  {
   "cell_type": "code",
   "execution_count": 120,
   "id": "6fc93d65",
   "metadata": {
    "collapsed": true
   },
   "outputs": [
    {
     "data": {
      "text/html": [
       "<div>\n",
       "<style scoped>\n",
       "    .dataframe tbody tr th:only-of-type {\n",
       "        vertical-align: middle;\n",
       "    }\n",
       "\n",
       "    .dataframe tbody tr th {\n",
       "        vertical-align: top;\n",
       "    }\n",
       "\n",
       "    .dataframe thead th {\n",
       "        text-align: right;\n",
       "    }\n",
       "</style>\n",
       "<table border=\"1\" class=\"dataframe\">\n",
       "  <thead>\n",
       "    <tr style=\"text-align: right;\">\n",
       "      <th></th>\n",
       "      <th>Source</th>\n",
       "      <th>Bounce</th>\n",
       "      <th>Conversion</th>\n",
       "      <th>Avg Visited Pages</th>\n",
       "    </tr>\n",
       "  </thead>\n",
       "  <tbody>\n",
       "    <tr>\n",
       "      <th>0</th>\n",
       "      <td>linkedin_share</td>\n",
       "      <td>0.20</td>\n",
       "      <td>0.12</td>\n",
       "      <td>4.0</td>\n",
       "    </tr>\n",
       "    <tr>\n",
       "      <th>1</th>\n",
       "      <td>facebook_share</td>\n",
       "      <td>0.16</td>\n",
       "      <td>0.13</td>\n",
       "      <td>4.0</td>\n",
       "    </tr>\n",
       "    <tr>\n",
       "      <th>2</th>\n",
       "      <td>search</td>\n",
       "      <td>0.18</td>\n",
       "      <td>0.15</td>\n",
       "      <td>4.0</td>\n",
       "    </tr>\n",
       "    <tr>\n",
       "      <th>3</th>\n",
       "      <td>direct</td>\n",
       "      <td>0.10</td>\n",
       "      <td>0.32</td>\n",
       "      <td>5.0</td>\n",
       "    </tr>\n",
       "    <tr>\n",
       "      <th>4</th>\n",
       "      <td>partner_advert</td>\n",
       "      <td>0.00</td>\n",
       "      <td>0.11</td>\n",
       "      <td>5.0</td>\n",
       "    </tr>\n",
       "    <tr>\n",
       "      <th>5</th>\n",
       "      <td>facebook_advert</td>\n",
       "      <td>0.43</td>\n",
       "      <td>0.01</td>\n",
       "      <td>3.0</td>\n",
       "    </tr>\n",
       "    <tr>\n",
       "      <th>6</th>\n",
       "      <td>linkedin_advert</td>\n",
       "      <td>0.00</td>\n",
       "      <td>0.25</td>\n",
       "      <td>5.0</td>\n",
       "    </tr>\n",
       "  </tbody>\n",
       "</table>\n",
       "</div>"
      ],
      "text/plain": [
       "            Source  Bounce  Conversion  Avg Visited Pages\n",
       "0   linkedin_share    0.20        0.12                4.0\n",
       "1   facebook_share    0.16        0.13                4.0\n",
       "2           search    0.18        0.15                4.0\n",
       "3           direct    0.10        0.32                5.0\n",
       "4   partner_advert    0.00        0.11                5.0\n",
       "5  facebook_advert    0.43        0.01                3.0\n",
       "6  linkedin_advert    0.00        0.25                5.0"
      ]
     },
     "execution_count": 120,
     "metadata": {},
     "output_type": "execute_result"
    }
   ],
   "source": [
    "d = {'Source': sources, 'Bounce': bounces, 'Conversion': conversions, 'Avg Visited Pages': avg_lengths}\n",
    "df = pd.DataFrame(data=d)\n",
    "df"
   ]
  },
  {
   "cell_type": "code",
   "execution_count": 121,
   "id": "d90f6fbf",
   "metadata": {
    "collapsed": true
   },
   "outputs": [
    {
     "data": {
      "text/html": [
       "<div>\n",
       "<style scoped>\n",
       "    .dataframe tbody tr th:only-of-type {\n",
       "        vertical-align: middle;\n",
       "    }\n",
       "\n",
       "    .dataframe tbody tr th {\n",
       "        vertical-align: top;\n",
       "    }\n",
       "\n",
       "    .dataframe thead th {\n",
       "        text-align: right;\n",
       "    }\n",
       "</style>\n",
       "<table border=\"1\" class=\"dataframe\">\n",
       "  <thead>\n",
       "    <tr style=\"text-align: right;\">\n",
       "      <th></th>\n",
       "      <th>Source</th>\n",
       "      <th>Bounce</th>\n",
       "      <th>Conversion</th>\n",
       "      <th>Avg Visited Pages</th>\n",
       "    </tr>\n",
       "  </thead>\n",
       "  <tbody>\n",
       "    <tr>\n",
       "      <th>0</th>\n",
       "      <td>linkedin_share</td>\n",
       "      <td>0.20</td>\n",
       "      <td>0.12</td>\n",
       "      <td>4.0</td>\n",
       "    </tr>\n",
       "    <tr>\n",
       "      <th>1</th>\n",
       "      <td>facebook_share</td>\n",
       "      <td>0.16</td>\n",
       "      <td>0.13</td>\n",
       "      <td>4.0</td>\n",
       "    </tr>\n",
       "    <tr>\n",
       "      <th>2</th>\n",
       "      <td>search</td>\n",
       "      <td>0.18</td>\n",
       "      <td>0.15</td>\n",
       "      <td>4.0</td>\n",
       "    </tr>\n",
       "    <tr>\n",
       "      <th>3</th>\n",
       "      <td>direct</td>\n",
       "      <td>0.10</td>\n",
       "      <td>0.32</td>\n",
       "      <td>5.0</td>\n",
       "    </tr>\n",
       "  </tbody>\n",
       "</table>\n",
       "</div>"
      ],
      "text/plain": [
       "           Source  Bounce  Conversion  Avg Visited Pages\n",
       "0  linkedin_share    0.20        0.12                4.0\n",
       "1  facebook_share    0.16        0.13                4.0\n",
       "2          search    0.18        0.15                4.0\n",
       "3          direct    0.10        0.32                5.0"
      ]
     },
     "execution_count": 121,
     "metadata": {},
     "output_type": "execute_result"
    }
   ],
   "source": [
    "df.drop(labels=[4,5,6], axis=0)"
   ]
  },
  {
   "cell_type": "markdown",
   "id": "a8aab204",
   "metadata": {},
   "source": [
    "Do the users from different platforms behave differently? There were concerns that\n",
    "some platforms struggled at a particular stage of the process, can you find these\n",
    "stages?"
   ]
  },
  {
   "cell_type": "code",
   "execution_count": 122,
   "id": "f810c920",
   "metadata": {
    "collapsed": true
   },
   "outputs": [
    {
     "data": {
      "text/plain": [
       "['android', 'ios', 'windows', 'unknown', 'mac']"
      ]
     },
     "execution_count": 122,
     "metadata": {},
     "output_type": "execute_result"
    }
   ],
   "source": [
    "platforms = visitor_data['platform'].unique().tolist()\n",
    "platforms"
   ]
  },
  {
   "cell_type": "code",
   "execution_count": 123,
   "id": "d855a8fd",
   "metadata": {
    "collapsed": true
   },
   "outputs": [],
   "source": [
    "android_people = visitor_data.loc[visitor_data['platform'] == \"android\"] \n",
    "ios_people = visitor_data.loc[visitor_data['platform'] == \"ios\"]\n",
    "windows_people = visitor_data.loc[visitor_data['platform'] == \"windows\"]\n",
    "mac_people = visitor_data.loc[visitor_data['platform'] == \"mac\"]\n",
    "unknown_people = visitor_data.loc[visitor_data['platform'] == \"unknown\"]\n",
    "\n",
    "platform_groups = [android_people, ios_people, windows_people, mac_people, unknown_people]"
   ]
  },
  {
   "cell_type": "code",
   "execution_count": 124,
   "id": "15dbd6e3",
   "metadata": {
    "collapsed": true
   },
   "outputs": [],
   "source": [
    "def get_dropouts(platform_group):\n",
    "    start_purchase = platform_group[(platform_group == 'purchase_start').any(axis=1)]\n",
    "    success_purchase = platform_group[(platform_group == 'purchase_success').any(axis=1)]\n",
    "    dropout = 1-(len(success_purchase)/len(start_purchase))\n",
    "    return round(dropout*100,2)"
   ]
  },
  {
   "cell_type": "code",
   "execution_count": 125,
   "id": "5024ae8b",
   "metadata": {
    "collapsed": true
   },
   "outputs": [
    {
     "data": {
      "text/plain": [
       "[60.1, 66.01, 57.56, 58.42, 65.21]"
      ]
     },
     "execution_count": 125,
     "metadata": {},
     "output_type": "execute_result"
    }
   ],
   "source": [
    "dropouts = []\n",
    "for platform_group in platform_groups:\n",
    "    dropouts.append(get_dropouts(platform_group))\n",
    "dropouts    "
   ]
  },
  {
   "cell_type": "code",
   "execution_count": 126,
   "id": "aa19d2a9",
   "metadata": {
    "collapsed": true
   },
   "outputs": [
    {
     "data": {
      "text/html": [
       "<div>\n",
       "<style scoped>\n",
       "    .dataframe tbody tr th:only-of-type {\n",
       "        vertical-align: middle;\n",
       "    }\n",
       "\n",
       "    .dataframe tbody tr th {\n",
       "        vertical-align: top;\n",
       "    }\n",
       "\n",
       "    .dataframe thead th {\n",
       "        text-align: right;\n",
       "    }\n",
       "</style>\n",
       "<table border=\"1\" class=\"dataframe\">\n",
       "  <thead>\n",
       "    <tr style=\"text-align: right;\">\n",
       "      <th></th>\n",
       "      <th>Platforms</th>\n",
       "      <th>Drop-outs (%)</th>\n",
       "    </tr>\n",
       "  </thead>\n",
       "  <tbody>\n",
       "    <tr>\n",
       "      <th>0</th>\n",
       "      <td>android</td>\n",
       "      <td>60.10</td>\n",
       "    </tr>\n",
       "    <tr>\n",
       "      <th>1</th>\n",
       "      <td>ios</td>\n",
       "      <td>66.01</td>\n",
       "    </tr>\n",
       "    <tr>\n",
       "      <th>2</th>\n",
       "      <td>windows</td>\n",
       "      <td>57.56</td>\n",
       "    </tr>\n",
       "    <tr>\n",
       "      <th>3</th>\n",
       "      <td>unknown</td>\n",
       "      <td>58.42</td>\n",
       "    </tr>\n",
       "    <tr>\n",
       "      <th>4</th>\n",
       "      <td>mac</td>\n",
       "      <td>65.21</td>\n",
       "    </tr>\n",
       "  </tbody>\n",
       "</table>\n",
       "</div>"
      ],
      "text/plain": [
       "  Platforms  Drop-outs (%)\n",
       "0   android          60.10\n",
       "1       ios          66.01\n",
       "2   windows          57.56\n",
       "3   unknown          58.42\n",
       "4       mac          65.21"
      ]
     },
     "execution_count": 126,
     "metadata": {},
     "output_type": "execute_result"
    }
   ],
   "source": [
    "d2 = {'Platforms': platforms, 'Drop-outs (%)': dropouts}\n",
    "df2 = pd.DataFrame(data=d2)\n",
    "df2"
   ]
  },
  {
   "cell_type": "code",
   "execution_count": 127,
   "id": "99f99fce",
   "metadata": {
    "collapsed": true
   },
   "outputs": [
    {
     "name": "stdout",
     "output_type": "stream",
     "text": [
      "63.05\n",
      "57.99\n"
     ]
    }
   ],
   "source": [
    "# Looking at drop-out as mobile vs desktop\n",
    "mobile_people = android_people.append(ios_people)\n",
    "desktop_people = windows_people.append(mac_people)\n",
    "print(get_dropouts(mobile_people))\n",
    "print(get_dropouts(desktop_people))"
   ]
  },
  {
   "cell_type": "code",
   "execution_count": 128,
   "id": "87c6adb9",
   "metadata": {
    "collapsed": true
   },
   "outputs": [
    {
     "data": {
      "text/plain": [
       "[0.15, 0.13, 0.16, 0.16, 0.13]"
      ]
     },
     "execution_count": 128,
     "metadata": {},
     "output_type": "execute_result"
    }
   ],
   "source": [
    "# Conversion per platform\n",
    "conversions_p = []\n",
    "for platform_group in platform_groups:\n",
    "    conversions_p.append(get_conversion(platform_group))\n",
    "conversions_p"
   ]
  },
  {
   "cell_type": "code",
   "execution_count": 129,
   "id": "a081e7fe",
   "metadata": {
    "collapsed": true
   },
   "outputs": [
    {
     "data": {
      "text/plain": [
       "[0.18, 0.18, 0.16, 0.16, 0.22]"
      ]
     },
     "execution_count": 129,
     "metadata": {},
     "output_type": "execute_result"
    }
   ],
   "source": [
    "# Bounce rate per platform\n",
    "bounces_p = []\n",
    "for platform_group in platform_groups:\n",
    "    to_remove = ['source']\n",
    "    platform_group = remove_columns(platform_group, to_remove)\n",
    "    bounces_p.append(get_bounce_rate(platform_group))\n",
    "bounces_p"
   ]
  },
  {
   "cell_type": "code",
   "execution_count": 130,
   "id": "1af09ee4",
   "metadata": {
    "collapsed": true
   },
   "outputs": [
    {
     "data": {
      "text/html": [
       "<div>\n",
       "<style scoped>\n",
       "    .dataframe tbody tr th:only-of-type {\n",
       "        vertical-align: middle;\n",
       "    }\n",
       "\n",
       "    .dataframe tbody tr th {\n",
       "        vertical-align: top;\n",
       "    }\n",
       "\n",
       "    .dataframe thead th {\n",
       "        text-align: right;\n",
       "    }\n",
       "</style>\n",
       "<table border=\"1\" class=\"dataframe\">\n",
       "  <thead>\n",
       "    <tr style=\"text-align: right;\">\n",
       "      <th></th>\n",
       "      <th>Platforms</th>\n",
       "      <th>Bounce</th>\n",
       "      <th>Conversion</th>\n",
       "    </tr>\n",
       "  </thead>\n",
       "  <tbody>\n",
       "    <tr>\n",
       "      <th>0</th>\n",
       "      <td>android</td>\n",
       "      <td>0.18</td>\n",
       "      <td>0.15</td>\n",
       "    </tr>\n",
       "    <tr>\n",
       "      <th>1</th>\n",
       "      <td>ios</td>\n",
       "      <td>0.18</td>\n",
       "      <td>0.13</td>\n",
       "    </tr>\n",
       "    <tr>\n",
       "      <th>2</th>\n",
       "      <td>windows</td>\n",
       "      <td>0.16</td>\n",
       "      <td>0.16</td>\n",
       "    </tr>\n",
       "    <tr>\n",
       "      <th>3</th>\n",
       "      <td>unknown</td>\n",
       "      <td>0.16</td>\n",
       "      <td>0.16</td>\n",
       "    </tr>\n",
       "    <tr>\n",
       "      <th>4</th>\n",
       "      <td>mac</td>\n",
       "      <td>0.22</td>\n",
       "      <td>0.13</td>\n",
       "    </tr>\n",
       "  </tbody>\n",
       "</table>\n",
       "</div>"
      ],
      "text/plain": [
       "  Platforms  Bounce  Conversion\n",
       "0   android    0.18        0.15\n",
       "1       ios    0.18        0.13\n",
       "2   windows    0.16        0.16\n",
       "3   unknown    0.16        0.16\n",
       "4       mac    0.22        0.13"
      ]
     },
     "execution_count": 130,
     "metadata": {},
     "output_type": "execute_result"
    }
   ],
   "source": [
    "d3 = {'Platforms': platforms, 'Bounce': bounces_p, 'Conversion': conversions_p}\n",
    "df3 = pd.DataFrame(data=d3)\n",
    "df3"
   ]
  },
  {
   "cell_type": "code",
   "execution_count": 131,
   "id": "9856bb7e",
   "metadata": {
    "collapsed": true
   },
   "outputs": [],
   "source": [
    "# Checking exits per platform\n",
    "def exit_page_per_visit(dataset):\n",
    "    if dataset.last_valid_index() is None:\n",
    "        return np.nan\n",
    "    else:\n",
    "        return dataset[dataset.last_valid_index()]"
   ]
  },
  {
   "cell_type": "code",
   "execution_count": 132,
   "id": "6da026c1",
   "metadata": {
    "collapsed": true
   },
   "outputs": [
    {
     "name": "stderr",
     "output_type": "stream",
     "text": [
      "<ipython-input-132-c25da6fe3026>:1: SettingWithCopyWarning: \n",
      "A value is trying to be set on a copy of a slice from a DataFrame.\n",
      "Try using .loc[row_indexer,col_indexer] = value instead\n",
      "\n",
      "See the caveats in the documentation: https://pandas.pydata.org/pandas-docs/stable/user_guide/indexing.html#returning-a-view-versus-a-copy\n",
      "  android_people['exit page'] = android_people.apply(exit_page_per_visit, axis=1)\n",
      "<ipython-input-132-c25da6fe3026>:2: SettingWithCopyWarning: \n",
      "A value is trying to be set on a copy of a slice from a DataFrame.\n",
      "Try using .loc[row_indexer,col_indexer] = value instead\n",
      "\n",
      "See the caveats in the documentation: https://pandas.pydata.org/pandas-docs/stable/user_guide/indexing.html#returning-a-view-versus-a-copy\n",
      "  ios_people['exit page'] = ios_people.apply(exit_page_per_visit, axis=1)\n",
      "<ipython-input-132-c25da6fe3026>:3: SettingWithCopyWarning: \n",
      "A value is trying to be set on a copy of a slice from a DataFrame.\n",
      "Try using .loc[row_indexer,col_indexer] = value instead\n",
      "\n",
      "See the caveats in the documentation: https://pandas.pydata.org/pandas-docs/stable/user_guide/indexing.html#returning-a-view-versus-a-copy\n",
      "  windows_people['exit page'] = windows_people.apply(exit_page_per_visit, axis=1)\n",
      "<ipython-input-132-c25da6fe3026>:4: SettingWithCopyWarning: \n",
      "A value is trying to be set on a copy of a slice from a DataFrame.\n",
      "Try using .loc[row_indexer,col_indexer] = value instead\n",
      "\n",
      "See the caveats in the documentation: https://pandas.pydata.org/pandas-docs/stable/user_guide/indexing.html#returning-a-view-versus-a-copy\n",
      "  mac_people['exit page'] = mac_people.apply(exit_page_per_visit, axis=1)\n"
     ]
    }
   ],
   "source": [
    "android_people['exit page'] = android_people.apply(exit_page_per_visit, axis=1)\n",
    "ios_people['exit page'] = ios_people.apply(exit_page_per_visit, axis=1)\n",
    "windows_people['exit page'] = windows_people.apply(exit_page_per_visit, axis=1)\n",
    "mac_people['exit page'] = mac_people.apply(exit_page_per_visit, axis=1)"
   ]
  },
  {
   "cell_type": "code",
   "execution_count": 133,
   "id": "03c69229",
   "metadata": {
    "collapsed": true
   },
   "outputs": [],
   "source": [
    "def get_exit_rates(platform_group):\n",
    "    platform_exit = platform_group['exit page'].value_counts().to_frame()\n",
    "    platform_exit['exit rate'] = round(platform_exit['exit page']/platform_exit['exit page'].sum()*100,2)\n",
    "    return platform_exit['exit rate']"
   ]
  },
  {
   "cell_type": "code",
   "execution_count": 134,
   "id": "1c875899",
   "metadata": {
    "collapsed": true
   },
   "outputs": [],
   "source": [
    "pages_list = set(list(get_exit_rates(android_people).index) + list(get_exit_rates(ios_people).index) + list(get_exit_rates(windows_people).index) + list(get_exit_rates(mac_people).index))\n",
    "platforms = platforms.remove('unknown')"
   ]
  },
  {
   "cell_type": "code",
   "execution_count": 135,
   "id": "4fbc3afd",
   "metadata": {
    "collapsed": true
   },
   "outputs": [
    {
     "data": {
      "text/html": [
       "<div>\n",
       "<style scoped>\n",
       "    .dataframe tbody tr th:only-of-type {\n",
       "        vertical-align: middle;\n",
       "    }\n",
       "\n",
       "    .dataframe tbody tr th {\n",
       "        vertical-align: top;\n",
       "    }\n",
       "\n",
       "    .dataframe thead th {\n",
       "        text-align: right;\n",
       "    }\n",
       "</style>\n",
       "<table border=\"1\" class=\"dataframe\">\n",
       "  <thead>\n",
       "    <tr style=\"text-align: right;\">\n",
       "      <th></th>\n",
       "      <th>contact_us</th>\n",
       "      <th>home</th>\n",
       "      <th>blog_1</th>\n",
       "      <th>pricing</th>\n",
       "      <th>purchase_success</th>\n",
       "      <th>purchase_start</th>\n",
       "      <th>purchase_enter_address</th>\n",
       "      <th>blog_2</th>\n",
       "      <th>special_advert_deal</th>\n",
       "    </tr>\n",
       "  </thead>\n",
       "  <tbody>\n",
       "    <tr>\n",
       "      <th>exit rate</th>\n",
       "      <td>22.96</td>\n",
       "      <td>16.68</td>\n",
       "      <td>15.64</td>\n",
       "      <td>14.0</td>\n",
       "      <td>12.19</td>\n",
       "      <td>8.13</td>\n",
       "      <td>5.91</td>\n",
       "      <td>2.69</td>\n",
       "      <td>1.81</td>\n",
       "    </tr>\n",
       "  </tbody>\n",
       "</table>\n",
       "</div>"
      ],
      "text/plain": [
       "           contact_us   home  blog_1  pricing  purchase_success  \\\n",
       "exit rate       22.96  16.68   15.64     14.0             12.19   \n",
       "\n",
       "           purchase_start  purchase_enter_address  blog_2  special_advert_deal  \n",
       "exit rate            8.13                    5.91    2.69                 1.81  "
      ]
     },
     "execution_count": 135,
     "metadata": {},
     "output_type": "execute_result"
    }
   ],
   "source": [
    "get_exit_rates(android_people).to_frame().transpose()"
   ]
  },
  {
   "cell_type": "code",
   "execution_count": 136,
   "id": "ef5bf8c4",
   "metadata": {
    "collapsed": true
   },
   "outputs": [
    {
     "data": {
      "text/html": [
       "<div>\n",
       "<style scoped>\n",
       "    .dataframe tbody tr th:only-of-type {\n",
       "        vertical-align: middle;\n",
       "    }\n",
       "\n",
       "    .dataframe tbody tr th {\n",
       "        vertical-align: top;\n",
       "    }\n",
       "\n",
       "    .dataframe thead th {\n",
       "        text-align: right;\n",
       "    }\n",
       "</style>\n",
       "<table border=\"1\" class=\"dataframe\">\n",
       "  <thead>\n",
       "    <tr style=\"text-align: right;\">\n",
       "      <th></th>\n",
       "      <th>contact_us</th>\n",
       "      <th>home</th>\n",
       "      <th>blog_1</th>\n",
       "      <th>pricing</th>\n",
       "      <th>purchase_success</th>\n",
       "      <th>purchase_enter_address</th>\n",
       "      <th>purchase_start</th>\n",
       "      <th>blog_2</th>\n",
       "      <th>special_advert_deal</th>\n",
       "    </tr>\n",
       "  </thead>\n",
       "  <tbody>\n",
       "    <tr>\n",
       "      <th>exit rate</th>\n",
       "      <td>22.14</td>\n",
       "      <td>16.13</td>\n",
       "      <td>15.49</td>\n",
       "      <td>13.36</td>\n",
       "      <td>10.6</td>\n",
       "      <td>9.78</td>\n",
       "      <td>7.82</td>\n",
       "      <td>2.69</td>\n",
       "      <td>1.99</td>\n",
       "    </tr>\n",
       "  </tbody>\n",
       "</table>\n",
       "</div>"
      ],
      "text/plain": [
       "           contact_us   home  blog_1  pricing  purchase_success  \\\n",
       "exit rate       22.14  16.13   15.49    13.36              10.6   \n",
       "\n",
       "           purchase_enter_address  purchase_start  blog_2  special_advert_deal  \n",
       "exit rate                    9.78            7.82    2.69                 1.99  "
      ]
     },
     "execution_count": 136,
     "metadata": {},
     "output_type": "execute_result"
    }
   ],
   "source": [
    "get_exit_rates(ios_people).to_frame().transpose()"
   ]
  },
  {
   "cell_type": "code",
   "execution_count": 137,
   "id": "ab28a948",
   "metadata": {
    "collapsed": true
   },
   "outputs": [
    {
     "data": {
      "text/html": [
       "<div>\n",
       "<style scoped>\n",
       "    .dataframe tbody tr th:only-of-type {\n",
       "        vertical-align: middle;\n",
       "    }\n",
       "\n",
       "    .dataframe tbody tr th {\n",
       "        vertical-align: top;\n",
       "    }\n",
       "\n",
       "    .dataframe thead th {\n",
       "        text-align: right;\n",
       "    }\n",
       "</style>\n",
       "<table border=\"1\" class=\"dataframe\">\n",
       "  <thead>\n",
       "    <tr style=\"text-align: right;\">\n",
       "      <th></th>\n",
       "      <th>contact_us</th>\n",
       "      <th>home</th>\n",
       "      <th>pricing</th>\n",
       "      <th>purchase_success</th>\n",
       "      <th>blog_1</th>\n",
       "      <th>purchase_start</th>\n",
       "      <th>purchase_enter_address</th>\n",
       "      <th>special_advert_deal</th>\n",
       "      <th>blog_2</th>\n",
       "    </tr>\n",
       "  </thead>\n",
       "  <tbody>\n",
       "    <tr>\n",
       "      <th>exit rate</th>\n",
       "      <td>22.25</td>\n",
       "      <td>17.67</td>\n",
       "      <td>14.62</td>\n",
       "      <td>13.58</td>\n",
       "      <td>12.95</td>\n",
       "      <td>8.98</td>\n",
       "      <td>4.37</td>\n",
       "      <td>3.05</td>\n",
       "      <td>2.53</td>\n",
       "    </tr>\n",
       "  </tbody>\n",
       "</table>\n",
       "</div>"
      ],
      "text/plain": [
       "           contact_us   home  pricing  purchase_success  blog_1  \\\n",
       "exit rate       22.25  17.67    14.62             13.58   12.95   \n",
       "\n",
       "           purchase_start  purchase_enter_address  special_advert_deal  blog_2  \n",
       "exit rate            8.98                    4.37                 3.05    2.53  "
      ]
     },
     "execution_count": 137,
     "metadata": {},
     "output_type": "execute_result"
    }
   ],
   "source": [
    "get_exit_rates(windows_people).to_frame().transpose()"
   ]
  },
  {
   "cell_type": "code",
   "execution_count": 138,
   "id": "88854d2a",
   "metadata": {
    "collapsed": true
   },
   "outputs": [
    {
     "data": {
      "text/html": [
       "<div>\n",
       "<style scoped>\n",
       "    .dataframe tbody tr th:only-of-type {\n",
       "        vertical-align: middle;\n",
       "    }\n",
       "\n",
       "    .dataframe tbody tr th {\n",
       "        vertical-align: top;\n",
       "    }\n",
       "\n",
       "    .dataframe thead th {\n",
       "        text-align: right;\n",
       "    }\n",
       "</style>\n",
       "<table border=\"1\" class=\"dataframe\">\n",
       "  <thead>\n",
       "    <tr style=\"text-align: right;\">\n",
       "      <th></th>\n",
       "      <th>contact_us</th>\n",
       "      <th>home</th>\n",
       "      <th>pricing</th>\n",
       "      <th>purchase_success</th>\n",
       "      <th>blog_1</th>\n",
       "      <th>purchase_start</th>\n",
       "      <th>purchase_enter_address</th>\n",
       "      <th>special_advert_deal</th>\n",
       "      <th>blog_2</th>\n",
       "    </tr>\n",
       "  </thead>\n",
       "  <tbody>\n",
       "    <tr>\n",
       "      <th>exit rate</th>\n",
       "      <td>22.12</td>\n",
       "      <td>17.5</td>\n",
       "      <td>14.82</td>\n",
       "      <td>13.32</td>\n",
       "      <td>13.16</td>\n",
       "      <td>9.15</td>\n",
       "      <td>4.4</td>\n",
       "      <td>3.0</td>\n",
       "      <td>2.51</td>\n",
       "    </tr>\n",
       "  </tbody>\n",
       "</table>\n",
       "</div>"
      ],
      "text/plain": [
       "           contact_us  home  pricing  purchase_success  blog_1  \\\n",
       "exit rate       22.12  17.5    14.82             13.32   13.16   \n",
       "\n",
       "           purchase_start  purchase_enter_address  special_advert_deal  blog_2  \n",
       "exit rate            9.15                     4.4                  3.0    2.51  "
      ]
     },
     "execution_count": 138,
     "metadata": {},
     "output_type": "execute_result"
    }
   ],
   "source": [
    "get_exit_rates(mac_people).to_frame().transpose()"
   ]
  },
  {
   "cell_type": "code",
   "execution_count": 139,
   "id": "88e1cdae",
   "metadata": {
    "collapsed": true
   },
   "outputs": [],
   "source": [
    "# find from which page people go to contact_us\n",
    "def page_before_contact(dataset):\n",
    "    rows = list(range(0,len(dataset)))\n",
    "    pre_contact = []\n",
    "    for row in rows:\n",
    "        for column in dataset.columns:\n",
    "            if dataset[column].iloc[row] == 'contact_us':\n",
    "                index = dataset.columns.get_loc(column) - 1\n",
    "                #wanted_column = dataset.iloc[:, np.r_[index]]\n",
    "                if index > 1:\n",
    "                    pre_contact.append(dataset.iat[row, index])\n",
    "    df = pd.DataFrame(pre_contact, columns=['pages'])\n",
    "    return df"
   ]
  },
  {
   "cell_type": "code",
   "execution_count": 178,
   "id": "fe7e1adc",
   "metadata": {},
   "outputs": [
    {
     "data": {
      "text/html": [
       "<div>\n",
       "<style scoped>\n",
       "    .dataframe tbody tr th:only-of-type {\n",
       "        vertical-align: middle;\n",
       "    }\n",
       "\n",
       "    .dataframe tbody tr th {\n",
       "        vertical-align: top;\n",
       "    }\n",
       "\n",
       "    .dataframe thead th {\n",
       "        text-align: right;\n",
       "    }\n",
       "</style>\n",
       "<table border=\"1\" class=\"dataframe\">\n",
       "  <thead>\n",
       "    <tr style=\"text-align: right;\">\n",
       "      <th></th>\n",
       "      <th>0</th>\n",
       "    </tr>\n",
       "    <tr>\n",
       "      <th>pages</th>\n",
       "      <th></th>\n",
       "    </tr>\n",
       "  </thead>\n",
       "  <tbody>\n",
       "    <tr>\n",
       "      <th>pricing</th>\n",
       "      <td>13042</td>\n",
       "    </tr>\n",
       "    <tr>\n",
       "      <th>home</th>\n",
       "      <td>12350</td>\n",
       "    </tr>\n",
       "    <tr>\n",
       "      <th>blog_1</th>\n",
       "      <td>5282</td>\n",
       "    </tr>\n",
       "    <tr>\n",
       "      <th>purchase_enter_address</th>\n",
       "      <td>4198</td>\n",
       "    </tr>\n",
       "    <tr>\n",
       "      <th>purchase_start</th>\n",
       "      <td>2122</td>\n",
       "    </tr>\n",
       "    <tr>\n",
       "      <th>blog_2</th>\n",
       "      <td>1321</td>\n",
       "    </tr>\n",
       "    <tr>\n",
       "      <th>purchase_success</th>\n",
       "      <td>1018</td>\n",
       "    </tr>\n",
       "    <tr>\n",
       "      <th>special_advert_deal</th>\n",
       "      <td>659</td>\n",
       "    </tr>\n",
       "    <tr>\n",
       "      <th>contact_us</th>\n",
       "      <td>352</td>\n",
       "    </tr>\n",
       "  </tbody>\n",
       "</table>\n",
       "</div>"
      ],
      "text/plain": [
       "                            0\n",
       "pages                        \n",
       "pricing                 13042\n",
       "home                    12350\n",
       "blog_1                   5282\n",
       "purchase_enter_address   4198\n",
       "purchase_start           2122\n",
       "blog_2                   1321\n",
       "purchase_success         1018\n",
       "special_advert_deal       659\n",
       "contact_us                352"
      ]
     },
     "execution_count": 178,
     "metadata": {},
     "output_type": "execute_result"
    }
   ],
   "source": [
    "table = page_before_contact(visitor_data).dropna().value_counts().to_frame()\n",
    "table"
   ]
  },
  {
   "cell_type": "code",
   "execution_count": 199,
   "id": "06c4a18a",
   "metadata": {},
   "outputs": [
    {
     "data": {
      "text/plain": [
       "[13042, 12350, 5282, 4198, 2122, 1321, 1018, 659, 352]"
      ]
     },
     "execution_count": 199,
     "metadata": {},
     "output_type": "execute_result"
    }
   ],
   "source": [
    "table[0].tolist()"
   ]
  },
  {
   "cell_type": "code",
   "execution_count": 209,
   "id": "ea6d0024",
   "metadata": {},
   "outputs": [],
   "source": [
    "views = [13042, 12350, 5282, 4198, 2122, 1321, 1018, 659]\n",
    "pages = ['pricing','home','blog_1', 'purchase_enter_address', 'purchase_start', 'blog_2', 'purchase_success', 'special_advert_deal']"
   ]
  },
  {
   "cell_type": "code",
   "execution_count": 211,
   "id": "4359c6a7",
   "metadata": {},
   "outputs": [
    {
     "data": {
      "text/html": [
       "<div>\n",
       "<style scoped>\n",
       "    .dataframe tbody tr th:only-of-type {\n",
       "        vertical-align: middle;\n",
       "    }\n",
       "\n",
       "    .dataframe tbody tr th {\n",
       "        vertical-align: top;\n",
       "    }\n",
       "\n",
       "    .dataframe thead th {\n",
       "        text-align: right;\n",
       "    }\n",
       "</style>\n",
       "<table border=\"1\" class=\"dataframe\">\n",
       "  <thead>\n",
       "    <tr style=\"text-align: right;\">\n",
       "      <th></th>\n",
       "      <th>Pages</th>\n",
       "      <th>Views</th>\n",
       "    </tr>\n",
       "  </thead>\n",
       "  <tbody>\n",
       "    <tr>\n",
       "      <th>0</th>\n",
       "      <td>pricing</td>\n",
       "      <td>13042</td>\n",
       "    </tr>\n",
       "    <tr>\n",
       "      <th>1</th>\n",
       "      <td>home</td>\n",
       "      <td>12350</td>\n",
       "    </tr>\n",
       "    <tr>\n",
       "      <th>2</th>\n",
       "      <td>blog_1</td>\n",
       "      <td>5282</td>\n",
       "    </tr>\n",
       "    <tr>\n",
       "      <th>3</th>\n",
       "      <td>purchase_enter_address</td>\n",
       "      <td>4198</td>\n",
       "    </tr>\n",
       "    <tr>\n",
       "      <th>4</th>\n",
       "      <td>purchase_start</td>\n",
       "      <td>2122</td>\n",
       "    </tr>\n",
       "    <tr>\n",
       "      <th>5</th>\n",
       "      <td>blog_2</td>\n",
       "      <td>1321</td>\n",
       "    </tr>\n",
       "    <tr>\n",
       "      <th>6</th>\n",
       "      <td>purchase_success</td>\n",
       "      <td>1018</td>\n",
       "    </tr>\n",
       "    <tr>\n",
       "      <th>7</th>\n",
       "      <td>special_advert_deal</td>\n",
       "      <td>659</td>\n",
       "    </tr>\n",
       "  </tbody>\n",
       "</table>\n",
       "</div>"
      ],
      "text/plain": [
       "                    Pages  Views\n",
       "0                 pricing  13042\n",
       "1                    home  12350\n",
       "2                  blog_1   5282\n",
       "3  purchase_enter_address   4198\n",
       "4          purchase_start   2122\n",
       "5                  blog_2   1321\n",
       "6        purchase_success   1018\n",
       "7     special_advert_deal    659"
      ]
     },
     "execution_count": 211,
     "metadata": {},
     "output_type": "execute_result"
    }
   ],
   "source": [
    "d = {'Pages': pages, 'Views': views}\n",
    "df = pd.DataFrame(data=d)\n",
    "df"
   ]
  },
  {
   "cell_type": "code",
   "execution_count": 212,
   "id": "2bc27d30",
   "metadata": {},
   "outputs": [
    {
     "data": {
      "text/plain": [
       "<AxesSubplot:xlabel='Pages'>"
      ]
     },
     "execution_count": 212,
     "metadata": {},
     "output_type": "execute_result"
    },
    {
     "data": {
      "image/png": "[encoded data removed]",
      "text/plain": [
       "<Figure size 432x288 with 1 Axes>"
      ]
     },
     "metadata": {
      "needs_background": "light"
     },
     "output_type": "display_data"
    }
   ],
   "source": [
    "df.plot.bar(x='Pages', y='Views')"
   ]
  },
  {
   "cell_type": "code",
   "execution_count": 141,
   "id": "b3a97589",
   "metadata": {
    "collapsed": true
   },
   "outputs": [
    {
     "data": {
      "text/html": [
       "<div>\n",
       "<style scoped>\n",
       "    .dataframe tbody tr th:only-of-type {\n",
       "        vertical-align: middle;\n",
       "    }\n",
       "\n",
       "    .dataframe tbody tr th {\n",
       "        vertical-align: top;\n",
       "    }\n",
       "\n",
       "    .dataframe thead tr th {\n",
       "        text-align: left;\n",
       "    }\n",
       "</style>\n",
       "<table border=\"1\" class=\"dataframe\">\n",
       "  <thead>\n",
       "    <tr>\n",
       "      <th>pages</th>\n",
       "      <th>pricing</th>\n",
       "      <th>home</th>\n",
       "      <th>purchase_enter_address</th>\n",
       "      <th>blog_1</th>\n",
       "      <th>purchase_start</th>\n",
       "      <th>blog_2</th>\n",
       "      <th>purchase_success</th>\n",
       "      <th>special_advert_deal</th>\n",
       "      <th>contact_us</th>\n",
       "    </tr>\n",
       "  </thead>\n",
       "  <tbody>\n",
       "    <tr>\n",
       "      <th>0</th>\n",
       "      <td>2362</td>\n",
       "      <td>2322</td>\n",
       "      <td>861</td>\n",
       "      <td>799</td>\n",
       "      <td>403</td>\n",
       "      <td>185</td>\n",
       "      <td>174</td>\n",
       "      <td>135</td>\n",
       "      <td>75</td>\n",
       "    </tr>\n",
       "  </tbody>\n",
       "</table>\n",
       "</div>"
      ],
      "text/plain": [
       "pages pricing  home purchase_enter_address blog_1 purchase_start blog_2  \\\n",
       "0        2362  2322                    861    799            403    185   \n",
       "\n",
       "pages purchase_success special_advert_deal contact_us  \n",
       "0                  174                 135         75  "
      ]
     },
     "execution_count": 141,
     "metadata": {},
     "output_type": "execute_result"
    }
   ],
   "source": [
    "page_before_contact(mac_people).dropna().value_counts().to_frame().transpose()"
   ]
  },
  {
   "cell_type": "code",
   "execution_count": 142,
   "id": "edb166ff",
   "metadata": {
    "collapsed": true
   },
   "outputs": [
    {
     "data": {
      "text/html": [
       "<div>\n",
       "<style scoped>\n",
       "    .dataframe tbody tr th:only-of-type {\n",
       "        vertical-align: middle;\n",
       "    }\n",
       "\n",
       "    .dataframe tbody tr th {\n",
       "        vertical-align: top;\n",
       "    }\n",
       "\n",
       "    .dataframe thead tr th {\n",
       "        text-align: left;\n",
       "    }\n",
       "</style>\n",
       "<table border=\"1\" class=\"dataframe\">\n",
       "  <thead>\n",
       "    <tr>\n",
       "      <th>pages</th>\n",
       "      <th>pricing</th>\n",
       "      <th>home</th>\n",
       "      <th>blog_1</th>\n",
       "      <th>purchase_enter_address</th>\n",
       "      <th>purchase_start</th>\n",
       "      <th>blog_2</th>\n",
       "      <th>purchase_success</th>\n",
       "      <th>special_advert_deal</th>\n",
       "      <th>contact_us</th>\n",
       "    </tr>\n",
       "  </thead>\n",
       "  <tbody>\n",
       "    <tr>\n",
       "      <th>0</th>\n",
       "      <td>2324</td>\n",
       "      <td>2318</td>\n",
       "      <td>830</td>\n",
       "      <td>803</td>\n",
       "      <td>378</td>\n",
       "      <td>203</td>\n",
       "      <td>193</td>\n",
       "      <td>127</td>\n",
       "      <td>55</td>\n",
       "    </tr>\n",
       "  </tbody>\n",
       "</table>\n",
       "</div>"
      ],
      "text/plain": [
       "pages pricing  home blog_1 purchase_enter_address purchase_start blog_2  \\\n",
       "0        2324  2318    830                    803            378    203   \n",
       "\n",
       "pages purchase_success special_advert_deal contact_us  \n",
       "0                  193                 127         55  "
      ]
     },
     "execution_count": 142,
     "metadata": {},
     "output_type": "execute_result"
    }
   ],
   "source": [
    "page_before_contact(windows_people).dropna().value_counts().to_frame().transpose()"
   ]
  },
  {
   "cell_type": "code",
   "execution_count": 143,
   "id": "768820e6",
   "metadata": {
    "collapsed": true
   },
   "outputs": [
    {
     "data": {
      "text/html": [
       "<div>\n",
       "<style scoped>\n",
       "    .dataframe tbody tr th:only-of-type {\n",
       "        vertical-align: middle;\n",
       "    }\n",
       "\n",
       "    .dataframe tbody tr th {\n",
       "        vertical-align: top;\n",
       "    }\n",
       "\n",
       "    .dataframe thead tr th {\n",
       "        text-align: left;\n",
       "    }\n",
       "</style>\n",
       "<table border=\"1\" class=\"dataframe\">\n",
       "  <thead>\n",
       "    <tr>\n",
       "      <th>pages</th>\n",
       "      <th>pricing</th>\n",
       "      <th>home</th>\n",
       "      <th>blog_1</th>\n",
       "      <th>purchase_enter_address</th>\n",
       "      <th>purchase_start</th>\n",
       "      <th>blog_2</th>\n",
       "      <th>purchase_success</th>\n",
       "      <th>special_advert_deal</th>\n",
       "      <th>contact_us</th>\n",
       "    </tr>\n",
       "  </thead>\n",
       "  <tbody>\n",
       "    <tr>\n",
       "      <th>0</th>\n",
       "      <td>3528</td>\n",
       "      <td>3361</td>\n",
       "      <td>1589</td>\n",
       "      <td>935</td>\n",
       "      <td>569</td>\n",
       "      <td>426</td>\n",
       "      <td>253</td>\n",
       "      <td>127</td>\n",
       "      <td>93</td>\n",
       "    </tr>\n",
       "  </tbody>\n",
       "</table>\n",
       "</div>"
      ],
      "text/plain": [
       "pages pricing  home blog_1 purchase_enter_address purchase_start blog_2  \\\n",
       "0        3528  3361   1589                    935            569    426   \n",
       "\n",
       "pages purchase_success special_advert_deal contact_us  \n",
       "0                  253                 127         93  "
      ]
     },
     "execution_count": 143,
     "metadata": {},
     "output_type": "execute_result"
    }
   ],
   "source": [
    "page_before_contact(ios_people).dropna().value_counts().to_frame().transpose()"
   ]
  },
  {
   "cell_type": "markdown",
   "id": "dd4bcbe7",
   "metadata": {},
   "source": [
    "How does performance of users coming via adverts compare with those that came via social media shares? "
   ]
  },
  {
   "cell_type": "code",
   "execution_count": 144,
   "id": "496f928a",
   "metadata": {
    "collapsed": true
   },
   "outputs": [
    {
     "data": {
      "text/html": [
       "<div>\n",
       "<style scoped>\n",
       "    .dataframe tbody tr th:only-of-type {\n",
       "        vertical-align: middle;\n",
       "    }\n",
       "\n",
       "    .dataframe tbody tr th {\n",
       "        vertical-align: top;\n",
       "    }\n",
       "\n",
       "    .dataframe thead th {\n",
       "        text-align: right;\n",
       "    }\n",
       "</style>\n",
       "<table border=\"1\" class=\"dataframe\">\n",
       "  <thead>\n",
       "    <tr style=\"text-align: right;\">\n",
       "      <th></th>\n",
       "      <th>Source</th>\n",
       "      <th>Bounce</th>\n",
       "      <th>Conversion</th>\n",
       "      <th>Avg Visited Pages</th>\n",
       "    </tr>\n",
       "  </thead>\n",
       "  <tbody>\n",
       "    <tr>\n",
       "      <th>0</th>\n",
       "      <td>linkedin_share</td>\n",
       "      <td>0.20</td>\n",
       "      <td>0.12</td>\n",
       "      <td>4.0</td>\n",
       "    </tr>\n",
       "    <tr>\n",
       "      <th>1</th>\n",
       "      <td>facebook_share</td>\n",
       "      <td>0.16</td>\n",
       "      <td>0.13</td>\n",
       "      <td>4.0</td>\n",
       "    </tr>\n",
       "    <tr>\n",
       "      <th>4</th>\n",
       "      <td>partner_advert</td>\n",
       "      <td>0.00</td>\n",
       "      <td>0.11</td>\n",
       "      <td>5.0</td>\n",
       "    </tr>\n",
       "    <tr>\n",
       "      <th>5</th>\n",
       "      <td>facebook_advert</td>\n",
       "      <td>0.43</td>\n",
       "      <td>0.01</td>\n",
       "      <td>3.0</td>\n",
       "    </tr>\n",
       "    <tr>\n",
       "      <th>6</th>\n",
       "      <td>linkedin_advert</td>\n",
       "      <td>0.00</td>\n",
       "      <td>0.25</td>\n",
       "      <td>5.0</td>\n",
       "    </tr>\n",
       "  </tbody>\n",
       "</table>\n",
       "</div>"
      ],
      "text/plain": [
       "            Source  Bounce  Conversion  Avg Visited Pages\n",
       "0   linkedin_share    0.20        0.12                4.0\n",
       "1   facebook_share    0.16        0.13                4.0\n",
       "4   partner_advert    0.00        0.11                5.0\n",
       "5  facebook_advert    0.43        0.01                3.0\n",
       "6  linkedin_advert    0.00        0.25                5.0"
      ]
     },
     "execution_count": 144,
     "metadata": {},
     "output_type": "execute_result"
    }
   ],
   "source": [
    "# get advert vs share data from above source performance tables\n",
    "df.drop(labels=[2,3], axis=0)"
   ]
  },
  {
   "cell_type": "code",
   "execution_count": 145,
   "id": "dd35e016",
   "metadata": {
    "collapsed": true
   },
   "outputs": [],
   "source": [
    "advert_people = pd.concat([linkedin_advert, facebook_advert])\n",
    "share_people = pd.concat([linkedin_share, facebook_share])"
   ]
  },
  {
   "cell_type": "code",
   "execution_count": 146,
   "id": "653a45c6",
   "metadata": {
    "collapsed": true
   },
   "outputs": [
    {
     "data": {
      "text/plain": [
       "85.86"
      ]
     },
     "execution_count": 146,
     "metadata": {},
     "output_type": "execute_result"
    }
   ],
   "source": [
    "get_dropouts(advert_people)"
   ]
  },
  {
   "cell_type": "code",
   "execution_count": 147,
   "id": "8871b2c3",
   "metadata": {
    "collapsed": true
   },
   "outputs": [
    {
     "data": {
      "text/plain": [
       "65.22"
      ]
     },
     "execution_count": 147,
     "metadata": {},
     "output_type": "execute_result"
    }
   ],
   "source": [
    "get_dropouts(share_people)"
   ]
  },
  {
   "cell_type": "code",
   "execution_count": 148,
   "id": "54a52207",
   "metadata": {
    "collapsed": true
   },
   "outputs": [
    {
     "data": {
      "image/png": "[encoded data removed]",
      "text/plain": [
       "<Figure size 432x288 with 1 Axes>"
      ]
     },
     "metadata": {
      "needs_background": "light"
     },
     "output_type": "display_data"
    }
   ],
   "source": [
    "labels  = 'Advert' , 'Share'\n",
    "dropouts = [85.86, 65.22]\n",
    "plt.bar(labels, dropouts, align='center',width=0.8)\n",
    "plt.xticks(labels)\n",
    "plt.ylabel('source')\n",
    "plt.title('Advert vs Share Drop-outs (%)')\n",
    "plt.show()"
   ]
  },
  {
   "cell_type": "code",
   "execution_count": 216,
   "id": "3b419f65",
   "metadata": {},
   "outputs": [
    {
     "data": {
      "text/plain": [
       "0.05"
      ]
     },
     "execution_count": 216,
     "metadata": {},
     "output_type": "execute_result"
    }
   ],
   "source": [
    "get_conversion(advert_people)"
   ]
  },
  {
   "cell_type": "code",
   "execution_count": 217,
   "id": "9afdcd04",
   "metadata": {},
   "outputs": [
    {
     "data": {
      "text/plain": [
       "0.13"
      ]
     },
     "execution_count": 217,
     "metadata": {},
     "output_type": "execute_result"
    }
   ],
   "source": [
    "get_conversion(share_people)"
   ]
  },
  {
   "cell_type": "code",
   "execution_count": 218,
   "id": "9aea3521",
   "metadata": {},
   "outputs": [
    {
     "data": {
      "image/png": "[encoded data removed]",
      "text/plain": [
       "<Figure size 432x288 with 1 Axes>"
      ]
     },
     "metadata": {
      "needs_background": "light"
     },
     "output_type": "display_data"
    }
   ],
   "source": [
    "labels  = 'Advert' , 'Share'\n",
    "dropouts = [5, 13]\n",
    "plt.bar(labels, dropouts, align='center',width=0.8)\n",
    "plt.xticks(labels)\n",
    "plt.ylabel('source')\n",
    "plt.title('Advert vs Share Conversions (%)')\n",
    "plt.show()"
   ]
  },
  {
   "cell_type": "code",
   "execution_count": 149,
   "id": "3c11a8a5",
   "metadata": {
    "collapsed": true
   },
   "outputs": [],
   "source": [
    "ls = [advert_people, share_people]\n",
    "s = ['advert', 'share']"
   ]
  },
  {
   "cell_type": "code",
   "execution_count": 150,
   "id": "db876626",
   "metadata": {
    "collapsed": true
   },
   "outputs": [
    {
     "data": {
      "text/plain": [
       "[0.36, 0.17]"
      ]
     },
     "execution_count": 150,
     "metadata": {},
     "output_type": "execute_result"
    }
   ],
   "source": [
    "bounces = []\n",
    "for l in ls:\n",
    "    bounces.append(get_bounce_rate(l))\n",
    "bounces"
   ]
  },
  {
   "cell_type": "code",
   "execution_count": 151,
   "id": "1494405d",
   "metadata": {
    "collapsed": true
   },
   "outputs": [
    {
     "data": {
      "text/plain": [
       "[0.05, 0.13]"
      ]
     },
     "execution_count": 151,
     "metadata": {},
     "output_type": "execute_result"
    }
   ],
   "source": [
    "conversions = []\n",
    "for l in ls:\n",
    "    conversions.append(get_conversion(l))\n",
    "conversions"
   ]
  },
  {
   "cell_type": "code",
   "execution_count": 152,
   "id": "8e9241a7",
   "metadata": {
    "collapsed": true
   },
   "outputs": [
    {
     "data": {
      "text/plain": [
       "[3.0, 4.0]"
      ]
     },
     "execution_count": 152,
     "metadata": {},
     "output_type": "execute_result"
    }
   ],
   "source": [
    "pages = []\n",
    "for l in ls:\n",
    "    pages.append(get_avg_length(l))\n",
    "pages"
   ]
  },
  {
   "cell_type": "code",
   "execution_count": 153,
   "id": "41d9ed40",
   "metadata": {
    "collapsed": true
   },
   "outputs": [
    {
     "data": {
      "text/html": [
       "<div>\n",
       "<style scoped>\n",
       "    .dataframe tbody tr th:only-of-type {\n",
       "        vertical-align: middle;\n",
       "    }\n",
       "\n",
       "    .dataframe tbody tr th {\n",
       "        vertical-align: top;\n",
       "    }\n",
       "\n",
       "    .dataframe thead th {\n",
       "        text-align: right;\n",
       "    }\n",
       "</style>\n",
       "<table border=\"1\" class=\"dataframe\">\n",
       "  <thead>\n",
       "    <tr style=\"text-align: right;\">\n",
       "      <th></th>\n",
       "      <th>Source</th>\n",
       "      <th>Bounce</th>\n",
       "      <th>Conversion</th>\n",
       "      <th>Avg.Visited Pages</th>\n",
       "    </tr>\n",
       "  </thead>\n",
       "  <tbody>\n",
       "    <tr>\n",
       "      <th>0</th>\n",
       "      <td>advert</td>\n",
       "      <td>0.36</td>\n",
       "      <td>0.05</td>\n",
       "      <td>3.0</td>\n",
       "    </tr>\n",
       "    <tr>\n",
       "      <th>1</th>\n",
       "      <td>share</td>\n",
       "      <td>0.17</td>\n",
       "      <td>0.13</td>\n",
       "      <td>4.0</td>\n",
       "    </tr>\n",
       "  </tbody>\n",
       "</table>\n",
       "</div>"
      ],
      "text/plain": [
       "   Source  Bounce  Conversion  Avg.Visited Pages\n",
       "0  advert    0.36        0.05                3.0\n",
       "1   share    0.17        0.13                4.0"
      ]
     },
     "execution_count": 153,
     "metadata": {},
     "output_type": "execute_result"
    }
   ],
   "source": [
    "d4 = {'Source': s, 'Bounce': bounces, 'Conversion': conversions, 'Avg.Visited Pages': pages}\n",
    "df4 = pd.DataFrame(data=d4)\n",
    "df4"
   ]
  },
  {
   "cell_type": "markdown",
   "id": "37ebe323",
   "metadata": {},
   "source": [
    "How about those who came to the site directly, or via search engine?"
   ]
  },
  {
   "cell_type": "code",
   "execution_count": 154,
   "id": "b77b3e00",
   "metadata": {
    "collapsed": true
   },
   "outputs": [
    {
     "data": {
      "text/html": [
       "<div>\n",
       "<style scoped>\n",
       "    .dataframe tbody tr th:only-of-type {\n",
       "        vertical-align: middle;\n",
       "    }\n",
       "\n",
       "    .dataframe tbody tr th {\n",
       "        vertical-align: top;\n",
       "    }\n",
       "\n",
       "    .dataframe thead th {\n",
       "        text-align: right;\n",
       "    }\n",
       "</style>\n",
       "<table border=\"1\" class=\"dataframe\">\n",
       "  <thead>\n",
       "    <tr style=\"text-align: right;\">\n",
       "      <th></th>\n",
       "      <th>Source</th>\n",
       "      <th>Bounce</th>\n",
       "      <th>Conversion</th>\n",
       "      <th>Avg Visited Pages</th>\n",
       "    </tr>\n",
       "  </thead>\n",
       "  <tbody>\n",
       "    <tr>\n",
       "      <th>2</th>\n",
       "      <td>search</td>\n",
       "      <td>0.18</td>\n",
       "      <td>0.15</td>\n",
       "      <td>4.0</td>\n",
       "    </tr>\n",
       "    <tr>\n",
       "      <th>3</th>\n",
       "      <td>direct</td>\n",
       "      <td>0.10</td>\n",
       "      <td>0.32</td>\n",
       "      <td>5.0</td>\n",
       "    </tr>\n",
       "  </tbody>\n",
       "</table>\n",
       "</div>"
      ],
      "text/plain": [
       "   Source  Bounce  Conversion  Avg Visited Pages\n",
       "2  search    0.18        0.15                4.0\n",
       "3  direct    0.10        0.32                5.0"
      ]
     },
     "execution_count": 154,
     "metadata": {},
     "output_type": "execute_result"
    }
   ],
   "source": [
    "# get direct vs search data from above source performance tables\n",
    "df.drop(labels=[0,1,4,5,6], axis=0)"
   ]
  },
  {
   "cell_type": "code",
   "execution_count": 155,
   "id": "e6daa744",
   "metadata": {
    "collapsed": true
   },
   "outputs": [
    {
     "data": {
      "text/plain": [
       "21.79"
      ]
     },
     "execution_count": 155,
     "metadata": {},
     "output_type": "execute_result"
    }
   ],
   "source": [
    "get_dropouts(direct)"
   ]
  },
  {
   "cell_type": "code",
   "execution_count": 156,
   "id": "2bb13e73",
   "metadata": {
    "collapsed": true
   },
   "outputs": [
    {
     "data": {
      "text/plain": [
       "58.17"
      ]
     },
     "execution_count": 156,
     "metadata": {},
     "output_type": "execute_result"
    }
   ],
   "source": [
    "get_dropouts(search)"
   ]
  },
  {
   "cell_type": "code",
   "execution_count": 157,
   "id": "18556657",
   "metadata": {
    "collapsed": true
   },
   "outputs": [
    {
     "data": {
      "image/png": "[encoded data removed]",
      "text/plain": [
       "<Figure size 432x288 with 1 Axes>"
      ]
     },
     "metadata": {
      "needs_background": "light"
     },
     "output_type": "display_data"
    }
   ],
   "source": [
    "labels  = 'Search' , 'Direct'\n",
    "dropouts = [58.17, 21.79]\n",
    "plt.bar(labels, dropouts, align='center',width=0.8)\n",
    "plt.xticks(labels)\n",
    "plt.ylabel('source')\n",
    "plt.title('Search vs Direct Drop-outs (%)')\n",
    "plt.show()"
   ]
  },
  {
   "cell_type": "code",
   "execution_count": 213,
   "id": "67c64988",
   "metadata": {},
   "outputs": [
    {
     "data": {
      "text/plain": [
       "0.32"
      ]
     },
     "execution_count": 213,
     "metadata": {},
     "output_type": "execute_result"
    }
   ],
   "source": [
    "get_conversion(direct)"
   ]
  },
  {
   "cell_type": "code",
   "execution_count": 214,
   "id": "cbc9674e",
   "metadata": {},
   "outputs": [
    {
     "data": {
      "text/plain": [
       "0.15"
      ]
     },
     "execution_count": 214,
     "metadata": {},
     "output_type": "execute_result"
    }
   ],
   "source": [
    "get_conversion(search)"
   ]
  },
  {
   "cell_type": "code",
   "execution_count": 219,
   "id": "b9e408c9",
   "metadata": {},
   "outputs": [
    {
     "data": {
      "image/png": "[encoded data removed]",
      "text/plain": [
       "<Figure size 432x288 with 1 Axes>"
      ]
     },
     "metadata": {
      "needs_background": "light"
     },
     "output_type": "display_data"
    }
   ],
   "source": [
    "labels  = 'Search' , 'Direct'\n",
    "converts = [15, 32]\n",
    "plt.bar(labels, converts, align='center',width=0.8)\n",
    "plt.xticks(labels)\n",
    "plt.ylabel('source')\n",
    "plt.title('Search vs Direct Conversions (%)')\n",
    "plt.show()"
   ]
  },
  {
   "cell_type": "markdown",
   "id": "89d8ec60",
   "metadata": {},
   "source": [
    "Which blog converts better? (so that you know you should write more of similar ones in the future)"
   ]
  },
  {
   "cell_type": "code",
   "execution_count": 158,
   "id": "04dca5e9",
   "metadata": {},
   "outputs": [
    {
     "data": {
      "text/plain": [
       "61533"
      ]
     },
     "execution_count": 158,
     "metadata": {},
     "output_type": "execute_result"
    }
   ],
   "source": [
    "# blog_2 has lower exit rate take from above exit rate table\n",
    "# total visits:\n",
    "count = 0\n",
    "for column in visitor_data.columns:\n",
    "    for row in range(len(visitor_data)):\n",
    "        if visitor_data[column][row] == 'blog_1':\n",
    "            count += 1\n",
    "count"
   ]
  },
  {
   "cell_type": "code",
   "execution_count": 159,
   "id": "88e0f614",
   "metadata": {},
   "outputs": [
    {
     "data": {
      "text/plain": [
       "26980"
      ]
     },
     "execution_count": 159,
     "metadata": {},
     "output_type": "execute_result"
    }
   ],
   "source": [
    "count = 0\n",
    "for column in visitor_data.columns:\n",
    "    for row in range(len(visitor_data)):\n",
    "        if visitor_data[column][row] == 'blog_2':\n",
    "            count += 1\n",
    "count"
   ]
  },
  {
   "cell_type": "code",
   "execution_count": 160,
   "id": "bffb63f2",
   "metadata": {},
   "outputs": [
    {
     "data": {
      "image/png": "[encoded data removed]",
      "text/plain": [
       "<Figure size 432x288 with 1 Axes>"
      ]
     },
     "metadata": {
      "needs_background": "light"
     },
     "output_type": "display_data"
    }
   ],
   "source": [
    "labels  = 'Blog_1' , 'Blog_2'\n",
    "blogs = [61533, 26980]\n",
    "plt.bar(labels, blogs, align='center',width=0.8)\n",
    "plt.xticks(labels)\n",
    "plt.ylabel('Views')\n",
    "plt.title('Blog Views')\n",
    "plt.show()"
   ]
  },
  {
   "cell_type": "code",
   "execution_count": 161,
   "id": "9eede4d9",
   "metadata": {
    "collapsed": true
   },
   "outputs": [],
   "source": [
    "visitor_data['exit page'] = visitor_data.apply(exit_page_per_visit, axis=1)"
   ]
  },
  {
   "cell_type": "code",
   "execution_count": 162,
   "id": "2199a4a5",
   "metadata": {},
   "outputs": [
    {
     "data": {
      "text/html": [
       "<div>\n",
       "<style scoped>\n",
       "    .dataframe tbody tr th:only-of-type {\n",
       "        vertical-align: middle;\n",
       "    }\n",
       "\n",
       "    .dataframe tbody tr th {\n",
       "        vertical-align: top;\n",
       "    }\n",
       "\n",
       "    .dataframe thead th {\n",
       "        text-align: right;\n",
       "    }\n",
       "</style>\n",
       "<table border=\"1\" class=\"dataframe\">\n",
       "  <thead>\n",
       "    <tr style=\"text-align: right;\">\n",
       "      <th></th>\n",
       "      <th>exit rate</th>\n",
       "    </tr>\n",
       "  </thead>\n",
       "  <tbody>\n",
       "    <tr>\n",
       "      <th>contact_us</th>\n",
       "      <td>22.47</td>\n",
       "    </tr>\n",
       "    <tr>\n",
       "      <th>home</th>\n",
       "      <td>16.54</td>\n",
       "    </tr>\n",
       "    <tr>\n",
       "      <th>blog_1</th>\n",
       "      <td>14.58</td>\n",
       "    </tr>\n",
       "    <tr>\n",
       "      <th>pricing</th>\n",
       "      <td>14.10</td>\n",
       "    </tr>\n",
       "    <tr>\n",
       "      <th>purchase_success</th>\n",
       "      <td>12.01</td>\n",
       "    </tr>\n",
       "    <tr>\n",
       "      <th>purchase_start</th>\n",
       "      <td>8.51</td>\n",
       "    </tr>\n",
       "    <tr>\n",
       "      <th>purchase_enter_address</th>\n",
       "      <td>6.50</td>\n",
       "    </tr>\n",
       "    <tr>\n",
       "      <th>special_advert_deal</th>\n",
       "      <td>2.66</td>\n",
       "    </tr>\n",
       "    <tr>\n",
       "      <th>blog_2</th>\n",
       "      <td>2.63</td>\n",
       "    </tr>\n",
       "  </tbody>\n",
       "</table>\n",
       "</div>"
      ],
      "text/plain": [
       "                        exit rate\n",
       "contact_us                  22.47\n",
       "home                        16.54\n",
       "blog_1                      14.58\n",
       "pricing                     14.10\n",
       "purchase_success            12.01\n",
       "purchase_start               8.51\n",
       "purchase_enter_address       6.50\n",
       "special_advert_deal          2.66\n",
       "blog_2                       2.63"
      ]
     },
     "execution_count": 162,
     "metadata": {},
     "output_type": "execute_result"
    }
   ],
   "source": [
    "blog = get_exit_rates(visitor_data).to_frame()\n",
    "blog"
   ]
  },
  {
   "cell_type": "code",
   "execution_count": 163,
   "id": "1ea1de26",
   "metadata": {},
   "outputs": [
    {
     "data": {
      "text/html": [
       "<div>\n",
       "<style scoped>\n",
       "    .dataframe tbody tr th:only-of-type {\n",
       "        vertical-align: middle;\n",
       "    }\n",
       "\n",
       "    .dataframe tbody tr th {\n",
       "        vertical-align: top;\n",
       "    }\n",
       "\n",
       "    .dataframe thead th {\n",
       "        text-align: right;\n",
       "    }\n",
       "</style>\n",
       "<table border=\"1\" class=\"dataframe\">\n",
       "  <thead>\n",
       "    <tr style=\"text-align: right;\">\n",
       "      <th></th>\n",
       "      <th>exit rate</th>\n",
       "      <th>Page</th>\n",
       "    </tr>\n",
       "  </thead>\n",
       "  <tbody>\n",
       "    <tr>\n",
       "      <th>contact_us</th>\n",
       "      <td>22.47</td>\n",
       "      <td>contact_us</td>\n",
       "    </tr>\n",
       "    <tr>\n",
       "      <th>home</th>\n",
       "      <td>16.54</td>\n",
       "      <td>home</td>\n",
       "    </tr>\n",
       "    <tr>\n",
       "      <th>blog_1</th>\n",
       "      <td>14.58</td>\n",
       "      <td>blog_1</td>\n",
       "    </tr>\n",
       "    <tr>\n",
       "      <th>pricing</th>\n",
       "      <td>14.10</td>\n",
       "      <td>pricing</td>\n",
       "    </tr>\n",
       "    <tr>\n",
       "      <th>purchase_success</th>\n",
       "      <td>12.01</td>\n",
       "      <td>purchase_success</td>\n",
       "    </tr>\n",
       "    <tr>\n",
       "      <th>purchase_start</th>\n",
       "      <td>8.51</td>\n",
       "      <td>purchase_start</td>\n",
       "    </tr>\n",
       "    <tr>\n",
       "      <th>purchase_enter_address</th>\n",
       "      <td>6.50</td>\n",
       "      <td>purchase_enter_address</td>\n",
       "    </tr>\n",
       "    <tr>\n",
       "      <th>special_advert_deal</th>\n",
       "      <td>2.66</td>\n",
       "      <td>special_advert_deal</td>\n",
       "    </tr>\n",
       "    <tr>\n",
       "      <th>blog_2</th>\n",
       "      <td>2.63</td>\n",
       "      <td>blog_2</td>\n",
       "    </tr>\n",
       "  </tbody>\n",
       "</table>\n",
       "</div>"
      ],
      "text/plain": [
       "                        exit rate                    Page\n",
       "contact_us                  22.47              contact_us\n",
       "home                        16.54                    home\n",
       "blog_1                      14.58                  blog_1\n",
       "pricing                     14.10                 pricing\n",
       "purchase_success            12.01        purchase_success\n",
       "purchase_start               8.51          purchase_start\n",
       "purchase_enter_address       6.50  purchase_enter_address\n",
       "special_advert_deal          2.66     special_advert_deal\n",
       "blog_2                       2.63                  blog_2"
      ]
     },
     "execution_count": 163,
     "metadata": {},
     "output_type": "execute_result"
    }
   ],
   "source": [
    "blog['Page'] = blog.index"
   ]
  },
  {
   "cell_type": "code",
   "execution_count": 222,
   "id": "234f5bc3",
   "metadata": {},
   "outputs": [
    {
     "data": {
      "text/html": [
       "<div>\n",
       "<style scoped>\n",
       "    .dataframe tbody tr th:only-of-type {\n",
       "        vertical-align: middle;\n",
       "    }\n",
       "\n",
       "    .dataframe tbody tr th {\n",
       "        vertical-align: top;\n",
       "    }\n",
       "\n",
       "    .dataframe thead th {\n",
       "        text-align: right;\n",
       "    }\n",
       "</style>\n",
       "<table border=\"1\" class=\"dataframe\">\n",
       "  <thead>\n",
       "    <tr style=\"text-align: right;\">\n",
       "      <th></th>\n",
       "      <th>exit rate</th>\n",
       "      <th>Page</th>\n",
       "    </tr>\n",
       "  </thead>\n",
       "  <tbody>\n",
       "    <tr>\n",
       "      <th>blog_1</th>\n",
       "      <td>14.58</td>\n",
       "      <td>blog_1</td>\n",
       "    </tr>\n",
       "    <tr>\n",
       "      <th>blog_2</th>\n",
       "      <td>2.63</td>\n",
       "      <td>blog_2</td>\n",
       "    </tr>\n",
       "  </tbody>\n",
       "</table>\n",
       "</div>"
      ],
      "text/plain": [
       "        exit rate    Page\n",
       "blog_1      14.58  blog_1\n",
       "blog_2       2.63  blog_2"
      ]
     },
     "execution_count": 222,
     "metadata": {},
     "output_type": "execute_result"
    }
   ],
   "source": [
    "blog1 = blog.loc[blog['Page'] == 'blog_1']\n",
    "blog2 = blog.loc[blog['Page'] == 'blog_2']\n",
    "blog = blog1.append(blog2)\n",
    "blog"
   ]
  },
  {
   "cell_type": "code",
   "execution_count": 224,
   "id": "a67e1b16",
   "metadata": {},
   "outputs": [
    {
     "data": {
      "text/plain": [
       "<AxesSubplot:xlabel='Pages', ylabel='Exit Rate'>"
      ]
     },
     "execution_count": 224,
     "metadata": {},
     "output_type": "execute_result"
    },
    {
     "data": {
      "image/png": "[encoded data removed]",
      "text/plain": [
       "<Figure size 432x288 with 1 Axes>"
      ]
     },
     "metadata": {
      "needs_background": "light"
     },
     "output_type": "display_data"
    }
   ],
   "source": [
    "blog.plot(x=\"Page\", y=[\"exit rate\"], kind = \"bar\", xlabel = 'Pages', ylabel = 'Exit Rate', width=0.8)"
   ]
  },
  {
   "cell_type": "code",
   "execution_count": 227,
   "id": "0b46cd28",
   "metadata": {},
   "outputs": [
    {
     "data": {
      "image/png": "[encoded data removed]",
      "text/plain": [
       "<Figure size 432x288 with 1 Axes>"
      ]
     },
     "metadata": {
      "needs_background": "light"
     },
     "output_type": "display_data"
    }
   ],
   "source": [
    "labels  = 'Blog_1' , 'Blog_2'\n",
    "blogs = [14.58, 2.63]\n",
    "plt.bar(labels, blogs, align='center',width=0.8)\n",
    "plt.xticks(labels)\n",
    "plt.ylabel('Exit Rate (%)')\n",
    "plt.title('Blog Exit Rates (%)')\n",
    "plt.show()"
   ]
  },
  {
   "cell_type": "code",
   "execution_count": 165,
   "id": "5a239957",
   "metadata": {},
   "outputs": [
    {
     "data": {
      "text/html": [
       "<div>\n",
       "<style scoped>\n",
       "    .dataframe tbody tr th:only-of-type {\n",
       "        vertical-align: middle;\n",
       "    }\n",
       "\n",
       "    .dataframe tbody tr th {\n",
       "        vertical-align: top;\n",
       "    }\n",
       "\n",
       "    .dataframe thead th {\n",
       "        text-align: right;\n",
       "    }\n",
       "</style>\n",
       "<table border=\"1\" class=\"dataframe\">\n",
       "  <thead>\n",
       "    <tr style=\"text-align: right;\">\n",
       "      <th></th>\n",
       "      <th>source</th>\n",
       "      <th>platform</th>\n",
       "      <th>2</th>\n",
       "      <th>3</th>\n",
       "      <th>4</th>\n",
       "      <th>5</th>\n",
       "      <th>6</th>\n",
       "      <th>7</th>\n",
       "      <th>8</th>\n",
       "      <th>9</th>\n",
       "      <th>...</th>\n",
       "      <th>14</th>\n",
       "      <th>15</th>\n",
       "      <th>16</th>\n",
       "      <th>17</th>\n",
       "      <th>18</th>\n",
       "      <th>19</th>\n",
       "      <th>20</th>\n",
       "      <th>exit page</th>\n",
       "      <th>Blog_1</th>\n",
       "      <th>Blog_2</th>\n",
       "    </tr>\n",
       "  </thead>\n",
       "  <tbody>\n",
       "    <tr>\n",
       "      <th>0</th>\n",
       "      <td>linkedin_share</td>\n",
       "      <td>android</td>\n",
       "      <td>blog_1</td>\n",
       "      <td>home</td>\n",
       "      <td>pricing</td>\n",
       "      <td>purchase_start</td>\n",
       "      <td>purchase_enter_address</td>\n",
       "      <td>purchase_success</td>\n",
       "      <td>NaN</td>\n",
       "      <td>NaN</td>\n",
       "      <td>...</td>\n",
       "      <td>NaN</td>\n",
       "      <td>NaN</td>\n",
       "      <td>NaN</td>\n",
       "      <td>NaN</td>\n",
       "      <td>NaN</td>\n",
       "      <td>NaN</td>\n",
       "      <td>NaN</td>\n",
       "      <td>purchase_success</td>\n",
       "      <td>0</td>\n",
       "      <td>0</td>\n",
       "    </tr>\n",
       "    <tr>\n",
       "      <th>1</th>\n",
       "      <td>facebook_share</td>\n",
       "      <td>ios</td>\n",
       "      <td>blog_1</td>\n",
       "      <td>pricing</td>\n",
       "      <td>purchase_start</td>\n",
       "      <td>blog_1</td>\n",
       "      <td>NaN</td>\n",
       "      <td>NaN</td>\n",
       "      <td>NaN</td>\n",
       "      <td>NaN</td>\n",
       "      <td>...</td>\n",
       "      <td>NaN</td>\n",
       "      <td>NaN</td>\n",
       "      <td>NaN</td>\n",
       "      <td>NaN</td>\n",
       "      <td>NaN</td>\n",
       "      <td>NaN</td>\n",
       "      <td>NaN</td>\n",
       "      <td>blog_1</td>\n",
       "      <td>0</td>\n",
       "      <td>0</td>\n",
       "    </tr>\n",
       "    <tr>\n",
       "      <th>2</th>\n",
       "      <td>search</td>\n",
       "      <td>android</td>\n",
       "      <td>home</td>\n",
       "      <td>blog_1</td>\n",
       "      <td>NaN</td>\n",
       "      <td>NaN</td>\n",
       "      <td>NaN</td>\n",
       "      <td>NaN</td>\n",
       "      <td>NaN</td>\n",
       "      <td>NaN</td>\n",
       "      <td>...</td>\n",
       "      <td>NaN</td>\n",
       "      <td>NaN</td>\n",
       "      <td>NaN</td>\n",
       "      <td>NaN</td>\n",
       "      <td>NaN</td>\n",
       "      <td>NaN</td>\n",
       "      <td>NaN</td>\n",
       "      <td>blog_1</td>\n",
       "      <td>0</td>\n",
       "      <td>0</td>\n",
       "    </tr>\n",
       "    <tr>\n",
       "      <th>3</th>\n",
       "      <td>facebook_share</td>\n",
       "      <td>windows</td>\n",
       "      <td>blog_2</td>\n",
       "      <td>home</td>\n",
       "      <td>blog_1</td>\n",
       "      <td>NaN</td>\n",
       "      <td>NaN</td>\n",
       "      <td>NaN</td>\n",
       "      <td>NaN</td>\n",
       "      <td>NaN</td>\n",
       "      <td>...</td>\n",
       "      <td>NaN</td>\n",
       "      <td>NaN</td>\n",
       "      <td>NaN</td>\n",
       "      <td>NaN</td>\n",
       "      <td>NaN</td>\n",
       "      <td>NaN</td>\n",
       "      <td>NaN</td>\n",
       "      <td>blog_1</td>\n",
       "      <td>0</td>\n",
       "      <td>0</td>\n",
       "    </tr>\n",
       "    <tr>\n",
       "      <th>4</th>\n",
       "      <td>facebook_share</td>\n",
       "      <td>ios</td>\n",
       "      <td>home</td>\n",
       "      <td>blog_1</td>\n",
       "      <td>NaN</td>\n",
       "      <td>NaN</td>\n",
       "      <td>NaN</td>\n",
       "      <td>NaN</td>\n",
       "      <td>NaN</td>\n",
       "      <td>NaN</td>\n",
       "      <td>...</td>\n",
       "      <td>NaN</td>\n",
       "      <td>NaN</td>\n",
       "      <td>NaN</td>\n",
       "      <td>NaN</td>\n",
       "      <td>NaN</td>\n",
       "      <td>NaN</td>\n",
       "      <td>NaN</td>\n",
       "      <td>blog_1</td>\n",
       "      <td>0</td>\n",
       "      <td>0</td>\n",
       "    </tr>\n",
       "  </tbody>\n",
       "</table>\n",
       "<p>5 rows × 24 columns</p>\n",
       "</div>"
      ],
      "text/plain": [
       "           source platform       2        3               4               5  \\\n",
       "0  linkedin_share  android  blog_1     home         pricing  purchase_start   \n",
       "1  facebook_share      ios  blog_1  pricing  purchase_start          blog_1   \n",
       "2          search  android    home   blog_1             NaN             NaN   \n",
       "3  facebook_share  windows  blog_2     home          blog_1             NaN   \n",
       "4  facebook_share      ios    home   blog_1             NaN             NaN   \n",
       "\n",
       "                        6                 7    8    9  ...   14   15   16  \\\n",
       "0  purchase_enter_address  purchase_success  NaN  NaN  ...  NaN  NaN  NaN   \n",
       "1                     NaN               NaN  NaN  NaN  ...  NaN  NaN  NaN   \n",
       "2                     NaN               NaN  NaN  NaN  ...  NaN  NaN  NaN   \n",
       "3                     NaN               NaN  NaN  NaN  ...  NaN  NaN  NaN   \n",
       "4                     NaN               NaN  NaN  NaN  ...  NaN  NaN  NaN   \n",
       "\n",
       "    17   18   19  20         exit page Blog_1 Blog_2  \n",
       "0  NaN  NaN  NaN NaN  purchase_success      0      0  \n",
       "1  NaN  NaN  NaN NaN            blog_1      0      0  \n",
       "2  NaN  NaN  NaN NaN            blog_1      0      0  \n",
       "3  NaN  NaN  NaN NaN            blog_1      0      0  \n",
       "4  NaN  NaN  NaN NaN            blog_1      0      0  \n",
       "\n",
       "[5 rows x 24 columns]"
      ]
     },
     "execution_count": 165,
     "metadata": {},
     "output_type": "execute_result"
    }
   ],
   "source": [
    "rows = list(range(0,len(visitor_data)))\n",
    "visitor_data['Blog_1'] = 0\n",
    "visitor_data['Blog_2'] = 0\n",
    "visitor_data.head()"
   ]
  },
  {
   "cell_type": "code",
   "execution_count": 228,
   "id": "a612cc7f",
   "metadata": {},
   "outputs": [
    {
     "name": "stderr",
     "output_type": "stream",
     "text": [
      "<ipython-input-228-ff5e38064591>:4: SettingWithCopyWarning: \n",
      "A value is trying to be set on a copy of a slice from a DataFrame\n",
      "\n",
      "See the caveats in the documentation: https://pandas.pydata.org/pandas-docs/stable/user_guide/indexing.html#returning-a-view-versus-a-copy\n",
      "  visitor_data['Blog_1'][row] = 1\n"
     ]
    }
   ],
   "source": [
    "for column in visitor_data.columns:\n",
    "    for row in range(len(visitor_data)):\n",
    "        if visitor_data[column][row] == 'blog_1':\n",
    "            visitor_data['Blog_1'][row] = 1"
   ]
  },
  {
   "cell_type": "code",
   "execution_count": 230,
   "id": "6c4406a2",
   "metadata": {},
   "outputs": [
    {
     "name": "stderr",
     "output_type": "stream",
     "text": [
      "<ipython-input-230-5939b44b525d>:4: SettingWithCopyWarning: \n",
      "A value is trying to be set on a copy of a slice from a DataFrame\n",
      "\n",
      "See the caveats in the documentation: https://pandas.pydata.org/pandas-docs/stable/user_guide/indexing.html#returning-a-view-versus-a-copy\n",
      "  visitor_data['Blog_2'][row] = 1\n"
     ]
    }
   ],
   "source": [
    "for column in visitor_data.columns:\n",
    "    for row in range(len(visitor_data)):\n",
    "        if visitor_data[column][row] == 'blog_2':\n",
    "            visitor_data['Blog_2'][row] = 1"
   ]
  },
  {
   "cell_type": "code",
   "execution_count": 231,
   "id": "1a38ebef",
   "metadata": {},
   "outputs": [],
   "source": [
    "visitor_data['blog_check'] = visitor_data['Blog_1'] + visitor_data['Blog_2']"
   ]
  },
  {
   "cell_type": "code",
   "execution_count": 232,
   "id": "740d10a3",
   "metadata": {},
   "outputs": [
    {
     "data": {
      "text/html": [
       "<div>\n",
       "<style scoped>\n",
       "    .dataframe tbody tr th:only-of-type {\n",
       "        vertical-align: middle;\n",
       "    }\n",
       "\n",
       "    .dataframe tbody tr th {\n",
       "        vertical-align: top;\n",
       "    }\n",
       "\n",
       "    .dataframe thead th {\n",
       "        text-align: right;\n",
       "    }\n",
       "</style>\n",
       "<table border=\"1\" class=\"dataframe\">\n",
       "  <thead>\n",
       "    <tr style=\"text-align: right;\">\n",
       "      <th></th>\n",
       "      <th>source</th>\n",
       "      <th>platform</th>\n",
       "      <th>2</th>\n",
       "      <th>3</th>\n",
       "      <th>4</th>\n",
       "      <th>5</th>\n",
       "      <th>6</th>\n",
       "      <th>7</th>\n",
       "      <th>8</th>\n",
       "      <th>9</th>\n",
       "      <th>...</th>\n",
       "      <th>15</th>\n",
       "      <th>16</th>\n",
       "      <th>17</th>\n",
       "      <th>18</th>\n",
       "      <th>19</th>\n",
       "      <th>20</th>\n",
       "      <th>exit page</th>\n",
       "      <th>Blog_1</th>\n",
       "      <th>Blog_2</th>\n",
       "      <th>blog_check</th>\n",
       "    </tr>\n",
       "  </thead>\n",
       "  <tbody>\n",
       "    <tr>\n",
       "      <th>0</th>\n",
       "      <td>linkedin_share</td>\n",
       "      <td>android</td>\n",
       "      <td>blog_1</td>\n",
       "      <td>home</td>\n",
       "      <td>pricing</td>\n",
       "      <td>purchase_start</td>\n",
       "      <td>purchase_enter_address</td>\n",
       "      <td>purchase_success</td>\n",
       "      <td>NaN</td>\n",
       "      <td>NaN</td>\n",
       "      <td>...</td>\n",
       "      <td>NaN</td>\n",
       "      <td>NaN</td>\n",
       "      <td>NaN</td>\n",
       "      <td>NaN</td>\n",
       "      <td>NaN</td>\n",
       "      <td>NaN</td>\n",
       "      <td>purchase_success</td>\n",
       "      <td>1</td>\n",
       "      <td>0</td>\n",
       "      <td>1</td>\n",
       "    </tr>\n",
       "    <tr>\n",
       "      <th>1</th>\n",
       "      <td>facebook_share</td>\n",
       "      <td>ios</td>\n",
       "      <td>blog_1</td>\n",
       "      <td>pricing</td>\n",
       "      <td>purchase_start</td>\n",
       "      <td>blog_1</td>\n",
       "      <td>NaN</td>\n",
       "      <td>NaN</td>\n",
       "      <td>NaN</td>\n",
       "      <td>NaN</td>\n",
       "      <td>...</td>\n",
       "      <td>NaN</td>\n",
       "      <td>NaN</td>\n",
       "      <td>NaN</td>\n",
       "      <td>NaN</td>\n",
       "      <td>NaN</td>\n",
       "      <td>NaN</td>\n",
       "      <td>blog_1</td>\n",
       "      <td>1</td>\n",
       "      <td>0</td>\n",
       "      <td>1</td>\n",
       "    </tr>\n",
       "    <tr>\n",
       "      <th>2</th>\n",
       "      <td>search</td>\n",
       "      <td>android</td>\n",
       "      <td>home</td>\n",
       "      <td>blog_1</td>\n",
       "      <td>NaN</td>\n",
       "      <td>NaN</td>\n",
       "      <td>NaN</td>\n",
       "      <td>NaN</td>\n",
       "      <td>NaN</td>\n",
       "      <td>NaN</td>\n",
       "      <td>...</td>\n",
       "      <td>NaN</td>\n",
       "      <td>NaN</td>\n",
       "      <td>NaN</td>\n",
       "      <td>NaN</td>\n",
       "      <td>NaN</td>\n",
       "      <td>NaN</td>\n",
       "      <td>blog_1</td>\n",
       "      <td>1</td>\n",
       "      <td>0</td>\n",
       "      <td>1</td>\n",
       "    </tr>\n",
       "    <tr>\n",
       "      <th>3</th>\n",
       "      <td>facebook_share</td>\n",
       "      <td>windows</td>\n",
       "      <td>blog_2</td>\n",
       "      <td>home</td>\n",
       "      <td>blog_1</td>\n",
       "      <td>NaN</td>\n",
       "      <td>NaN</td>\n",
       "      <td>NaN</td>\n",
       "      <td>NaN</td>\n",
       "      <td>NaN</td>\n",
       "      <td>...</td>\n",
       "      <td>NaN</td>\n",
       "      <td>NaN</td>\n",
       "      <td>NaN</td>\n",
       "      <td>NaN</td>\n",
       "      <td>NaN</td>\n",
       "      <td>NaN</td>\n",
       "      <td>blog_1</td>\n",
       "      <td>1</td>\n",
       "      <td>1</td>\n",
       "      <td>2</td>\n",
       "    </tr>\n",
       "    <tr>\n",
       "      <th>4</th>\n",
       "      <td>facebook_share</td>\n",
       "      <td>ios</td>\n",
       "      <td>home</td>\n",
       "      <td>blog_1</td>\n",
       "      <td>NaN</td>\n",
       "      <td>NaN</td>\n",
       "      <td>NaN</td>\n",
       "      <td>NaN</td>\n",
       "      <td>NaN</td>\n",
       "      <td>NaN</td>\n",
       "      <td>...</td>\n",
       "      <td>NaN</td>\n",
       "      <td>NaN</td>\n",
       "      <td>NaN</td>\n",
       "      <td>NaN</td>\n",
       "      <td>NaN</td>\n",
       "      <td>NaN</td>\n",
       "      <td>blog_1</td>\n",
       "      <td>1</td>\n",
       "      <td>0</td>\n",
       "      <td>1</td>\n",
       "    </tr>\n",
       "  </tbody>\n",
       "</table>\n",
       "<p>5 rows × 25 columns</p>\n",
       "</div>"
      ],
      "text/plain": [
       "           source platform       2        3               4               5  \\\n",
       "0  linkedin_share  android  blog_1     home         pricing  purchase_start   \n",
       "1  facebook_share      ios  blog_1  pricing  purchase_start          blog_1   \n",
       "2          search  android    home   blog_1             NaN             NaN   \n",
       "3  facebook_share  windows  blog_2     home          blog_1             NaN   \n",
       "4  facebook_share      ios    home   blog_1             NaN             NaN   \n",
       "\n",
       "                        6                 7    8    9  ...   15   16   17  \\\n",
       "0  purchase_enter_address  purchase_success  NaN  NaN  ...  NaN  NaN  NaN   \n",
       "1                     NaN               NaN  NaN  NaN  ...  NaN  NaN  NaN   \n",
       "2                     NaN               NaN  NaN  NaN  ...  NaN  NaN  NaN   \n",
       "3                     NaN               NaN  NaN  NaN  ...  NaN  NaN  NaN   \n",
       "4                     NaN               NaN  NaN  NaN  ...  NaN  NaN  NaN   \n",
       "\n",
       "    18   19  20         exit page Blog_1 Blog_2 blog_check  \n",
       "0  NaN  NaN NaN  purchase_success      1      0          1  \n",
       "1  NaN  NaN NaN            blog_1      1      0          1  \n",
       "2  NaN  NaN NaN            blog_1      1      0          1  \n",
       "3  NaN  NaN NaN            blog_1      1      1          2  \n",
       "4  NaN  NaN NaN            blog_1      1      0          1  \n",
       "\n",
       "[5 rows x 25 columns]"
      ]
     },
     "execution_count": 232,
     "metadata": {},
     "output_type": "execute_result"
    }
   ],
   "source": [
    "visitor_data.head()"
   ]
  },
  {
   "cell_type": "code",
   "execution_count": 233,
   "id": "ad6f2375",
   "metadata": {},
   "outputs": [],
   "source": [
    "blog_data = visitor_data.loc[visitor_data['blog_check'] == 1]"
   ]
  },
  {
   "cell_type": "code",
   "execution_count": 234,
   "id": "4e020f65",
   "metadata": {},
   "outputs": [],
   "source": [
    "blog_1 = blog_data.loc[blog_data['Blog_1'] == 1]\n",
    "blog_2 = blog_data.loc[blog_data['Blog_2'] == 1]"
   ]
  },
  {
   "cell_type": "code",
   "execution_count": 235,
   "id": "50d242e4",
   "metadata": {},
   "outputs": [
    {
     "data": {
      "text/plain": [
       "0.16"
      ]
     },
     "execution_count": 235,
     "metadata": {},
     "output_type": "execute_result"
    }
   ],
   "source": [
    "get_conversion(blog_1)"
   ]
  },
  {
   "cell_type": "code",
   "execution_count": 236,
   "id": "ababf637",
   "metadata": {},
   "outputs": [
    {
     "data": {
      "text/plain": [
       "0.3"
      ]
     },
     "execution_count": 236,
     "metadata": {},
     "output_type": "execute_result"
    }
   ],
   "source": [
    "get_conversion(blog_2)"
   ]
  },
  {
   "cell_type": "code",
   "execution_count": 238,
   "id": "80bc681e",
   "metadata": {},
   "outputs": [
    {
     "data": {
      "image/png": "[encoded data removed]",
      "text/plain": [
       "<Figure size 432x288 with 1 Axes>"
      ]
     },
     "metadata": {
      "needs_background": "light"
     },
     "output_type": "display_data"
    }
   ],
   "source": [
    "labels  = 'Blog 1' , 'Blog 2'\n",
    "conversions = [16, 30]\n",
    "plt.bar(labels, conversions, align='center',width=0.8)\n",
    "plt.xticks(labels)\n",
    "plt.ylabel('conversion rate(%)')\n",
    "plt.title('Blog 1 vs Blog 2 Conversions (%)')\n",
    "plt.show()"
   ]
  },
  {
   "cell_type": "code",
   "execution_count": null,
   "id": "3c0021d2",
   "metadata": {
    "collapsed": true
   },
   "outputs": [],
   "source": []
  }
 ],
 "metadata": {
  "kernelspec": {
   "display_name": "Python 3",
   "language": "python",
   "name": "python3"
  },
  "language_info": {
   "codemirror_mode": {
    "name": "ipython",
    "version": 3
   },
   "file_extension": ".py",
   "mimetype": "text/x-python",
   "name": "python",
   "nbconvert_exporter": "python",
   "pygments_lexer": "ipython3",
   "version": "3.8.8"
  }
 },
 "nbformat": 4,
 "nbformat_minor": 5
}
