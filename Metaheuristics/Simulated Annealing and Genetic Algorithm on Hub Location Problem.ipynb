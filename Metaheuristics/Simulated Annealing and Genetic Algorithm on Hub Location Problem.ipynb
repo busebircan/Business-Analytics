{
 "cells": [
  {
   "cell_type": "markdown",
   "id": "cc2d7653",
   "metadata": {},
   "source": [
    "## Single Allocation p-Hub Location Problem (SApHLP)\n",
    "Uncapacitated single allocation p-hub location problem on CAB,TR and randomly generated datasets to minimize the total transportation cost and allocated demand to these hubs.\n",
    "\n",
    "Assumptions: \n",
    "• Every origin-destination path visits at least 1 hub.\n",
    "• Inter-hub cost per unit flow is discounted using α, discount factor.\n",
    "• Facilities do not fail."
   ]
  },
  {
   "cell_type": "code",
   "execution_count": null,
   "id": "232d7b2f",
   "metadata": {},
   "outputs": [],
   "source": [
    "# Importing packages\n",
    "import pandas as pd\n",
    "import numpy as np\n",
    "import random as rd\n",
    "from itertools import combinations\n",
    "import copy\n",
    "import math\n",
    "import time"
   ]
  },
  {
   "cell_type": "code",
   "execution_count": null,
   "id": "cc77c584",
   "metadata": {},
   "outputs": [],
   "source": [
    "# Random initial solution generation\n",
    "def initial_solution(nodes):\n",
    "    hubs = rd.sample(nodes,p)\n",
    "    init_sol = [hubs[rd.randint(0,p-1)] for i in range(len(nodes))]\n",
    "    for hub in hubs:\n",
    "        init_sol[hub] = hub #to allocate the hubs to themselves for feasibility\n",
    "    return init_sol"
   ]
  },
  {
   "cell_type": "code",
   "execution_count": null,
   "id": "9729be8c",
   "metadata": {},
   "outputs": [],
   "source": [
    "init_sol = initial_solution(nodes)"
   ]
  },
  {
   "cell_type": "markdown",
   "id": "3fe49233",
   "metadata": {},
   "source": [
    "##### Objective Function"
   ]
  },
  {
   "cell_type": "code",
   "execution_count": null,
   "id": "c455aebc",
   "metadata": {},
   "outputs": [],
   "source": [
    "def total_cost(solution):\n",
    "    total_cost = 0\n",
    "    for i in range(0,len(nodes)):\n",
    "        for j in range(0, len(nodes)): \n",
    "            total_cost += flow[i][j]*(cost[i][solution[i]]+discount_factor*cost[solution[i]][solution[j]]+cost[solution[j]][j])\n",
    "    return total_cost/total_flow"
   ]
  },
  {
   "cell_type": "code",
   "execution_count": null,
   "id": "f0f73854",
   "metadata": {},
   "outputs": [],
   "source": [
    "total_cost(init_sol)"
   ]
  },
  {
   "cell_type": "markdown",
   "id": "ac048425",
   "metadata": {},
   "source": [
    "##### Neighborhood Structures"
   ]
  },
  {
   "cell_type": "code",
   "execution_count": null,
   "id": "b9903ad9",
   "metadata": {},
   "outputs": [],
   "source": [
    "# A function for when a hub changes, all nodes allocated to it must be updated with the new hub - using nodes' indices\n",
    "# Feasibility by avoiding more than 3 hubs and keping hubs allocated to themselves is provided within neighborhood st.s\n",
    "def change_hub(solution, indices, new_hub):\n",
    "    new_solution = solution.copy()\n",
    "    for index in indices:\n",
    "        new_solution[index] = new_hub\n",
    "    return new_solution"
   ]
  },
  {
   "cell_type": "code",
   "execution_count": null,
   "id": "86da9bcd",
   "metadata": {},
   "outputs": [],
   "source": [
    "def neigh_1(solution): # change hub with a node allocated to it\n",
    "    neighborhood_st = []\n",
    "    for hub in set(solution): # getting list of indices of nodes allocated to that hub\n",
    "        alloc_ind = [ind for ind in range(len(solution)) if solution[ind] == hub] \n",
    "        for ind in alloc_ind:\n",
    "            if ind == hub: # keeping hubs allocated to themselves\n",
    "                continue\n",
    "            new_solution = change_hub(solution, alloc_ind, ind)\n",
    "            neighborhood_st.append(new_solution)\n",
    "    return neighborhood_st"
   ]
  },
  {
   "cell_type": "code",
   "execution_count": null,
   "id": "5b4bcc8c",
   "metadata": {},
   "outputs": [],
   "source": [
    "def neigh_2(solution): # change two nodes' hubs with each other keeping the hubs same\n",
    "    neighborhood_st = []\n",
    "    for i in range(len(solution)):\n",
    "        if i == solution[i]:\n",
    "            continue\n",
    "        for j in range(0, len(solution)):\n",
    "            if j == solution[j]:\n",
    "                continue\n",
    "            if solution[i] == solution[j]:\n",
    "                continue\n",
    "            new_solution = solution.copy()\n",
    "            new_solution[i], new_solution[j] = new_solution[j], new_solution[i]\n",
    "            neighborhood_st.append(new_solution)\n",
    "    return neighborhood_st"
   ]
  },
  {
   "cell_type": "code",
   "execution_count": null,
   "id": "12b1593e",
   "metadata": {},
   "outputs": [],
   "source": [
    "def neigh_3(solution): # changing nodes' hub to another keeping the hubs same\n",
    "    neighborhood_st = []\n",
    "    for i in range(len(solution)):\n",
    "        if i == solution[i]:\n",
    "            continue\n",
    "        hubs = list(set(solution))\n",
    "        hubs.remove(solution[i])\n",
    "        new_solution = solution.copy()\n",
    "        for h in hubs:\n",
    "            indices = [i]\n",
    "            new_solution = change_hub(solution, indices, h)\n",
    "            neighborhood_st.append(new_solution)\n",
    "    return neighborhood_st"
   ]
  },
  {
   "cell_type": "code",
   "execution_count": null,
   "id": "98aa37b6",
   "metadata": {},
   "outputs": [],
   "source": [
    "def neigh_4(solution): # changing allocated node groups between hubs keeping the hubs same\n",
    "    neighborhood_st = []\n",
    "    hubs = list(set(solution))\n",
    "    allocations = []\n",
    "    for hub in set(solution):\n",
    "        alloc_ind = [ind for ind in range(len(solution)) if solution[ind] == hub and solution[ind] != ind] # getting list of indices of nodes allocated to that hub\n",
    "        allocations.append(alloc_ind)\n",
    "    new_solution = solution.copy()\n",
    "    for i in allocations[0]:\n",
    "        new_solution[i] = hubs[1] # iterate these indices too?\n",
    "        for j in allocations[1]:\n",
    "            if solution[j] == hubs[1]:\n",
    "                new_solution[j] = hubs[0]\n",
    "    neighborhood_st.append(new_solution)\n",
    "    return neighborhood_st"
   ]
  },
  {
   "cell_type": "markdown",
   "id": "abd665bd",
   "metadata": {},
   "source": [
    "##### Simulated Annealing"
   ]
  },
  {
   "cell_type": "code",
   "execution_count": null,
   "id": "8e8e6067",
   "metadata": {},
   "outputs": [],
   "source": [
    "from math import exp"
   ]
  },
  {
   "cell_type": "code",
   "execution_count": null,
   "id": "d580034c",
   "metadata": {},
   "outputs": [],
   "source": [
    "def simulated_annealing(objective, n_iterations, temp):\n",
    "    init_sol = initial_solution(nodes)\n",
    "    best = init_sol\n",
    "    best_eval = total_cost(init_sol)\n",
    "    # current candidate solution\n",
    "    current, current_eval = best, best_eval\n",
    "    # starting iterations by passing to a new candidate from current sol at each step\n",
    "    for i in range(n_iterations):\n",
    "        candidate = mutation(current, 1) # using GA's mutation function below to include all neighborhood structures built\n",
    "        candidate_eval = total_cost(candidate)\n",
    "        if candidate_eval < best_eval:\n",
    "            best, best_eval = candidate, candidate_eval\n",
    "            print(f\"New best! Total cost = {best_eval} Allocation: {best} Iteration: {i}\")\n",
    "        diff = candidate_eval - current_eval\n",
    "        # cooling temperature\n",
    "        t = temp / float(i+1) # i+1 to avoid 0 just in case\n",
    "        # transition (acceptance) probability (from current to candidate)\n",
    "        prob = exp(-diff / t)\n",
    "        # checking to have transition or not\n",
    "        if diff < 0 or rd.random() < prob:\n",
    "            current, current_eval = candidate, candidate_eval\n",
    "    return [best, best_eval]"
   ]
  },
  {
   "cell_type": "markdown",
   "id": "e27541a5",
   "metadata": {},
   "source": [
    "##### Genetic Algorithm"
   ]
  },
  {
   "cell_type": "code",
   "execution_count": null,
   "id": "a451ae7c",
   "metadata": {},
   "outputs": [],
   "source": [
    "# Initial population and Hyperparameters\n",
    "# size of population\n",
    "#n_pop = 100 \n",
    "# initial population\n",
    "#pop = [list(initial_solution(nodes)) for _ in range(n_pop)]\n",
    "# number of generations = iterations\n",
    "#n_gen = 30\n",
    "# crossover rate\n",
    "r_cross = 0.9\n",
    "# mutation rate\n",
    "r_mut = 0.1"
   ]
  },
  {
   "cell_type": "code",
   "execution_count": null,
   "id": "402af02b",
   "metadata": {},
   "outputs": [],
   "source": [
    "# Tournament selection \n",
    "def tournament_selection(pop, k):\n",
    "    ind_group1 = rd.sample(pop, k)\n",
    "    scores = [total_cost(ind) for ind in ind_group1]\n",
    "    selection = rd.choice(ind_group1)\n",
    "    for ind in ind_group1:\n",
    "        if total_cost(ind) < total_cost(selection):\n",
    "            selection = ind\n",
    "    p1 = selection\n",
    "    \n",
    "    ind_group2 = rd.sample(pop, k)\n",
    "    scores2 = [total_cost(ind) for ind in ind_group2]\n",
    "    selection2 = rd.choice(ind_group2)\n",
    "    for ind in ind_group2:\n",
    "        if total_cost(ind) < total_cost(selection2):\n",
    "            selection2 = ind\n",
    "    p2 = selection2\n",
    "    \n",
    "    parents = [p1, p2]\n",
    "    \n",
    "    return parents"
   ]
  },
  {
   "cell_type": "code",
   "execution_count": null,
   "id": "95c47ff5",
   "metadata": {},
   "outputs": [],
   "source": [
    "# Crossover (two parents for two children)\n",
    "def crossover(p1, p2, r_cross):\n",
    "    c1, c2 = p1.copy(), p2.copy()\n",
    "    \n",
    "    if rd.random() < r_cross: # randomly deciding whether crossover takes place, r_cross is high to make it happen often\n",
    "        point = rd.randint(1, len(p1)-2) # selecting crossover point in p1, 1 to len-2 to avoid beginning or end of sol.\n",
    "        c1 = p1[:point] + p2[point:]\n",
    "        c2 = p2[:point] + p1[point:]\n",
    "     \n",
    "    # continue with mutant parent if a child is infeasible\n",
    "    if len(set(c1)) > p:\n",
    "        c1 = mutation(p1, 1)\n",
    "    if len(set(c2)) > p:\n",
    "        c2 = mutation(p2, 1)\n",
    "    \n",
    "    for c in c1:\n",
    "        for i in list(set(c1)):\n",
    "            if c1[i] != i:\n",
    "                c1 = mutation(p1, 1)\n",
    "    for c in c2:\n",
    "        for i in list(set(c2)):\n",
    "            if c2[i] != i:\n",
    "                c2 = mutation(p2, 1)          \n",
    "    \n",
    "    return [c1, c2]"
   ]
  },
  {
   "cell_type": "code",
   "execution_count": null,
   "id": "97cc3176",
   "metadata": {},
   "outputs": [],
   "source": [
    "# Mutation (for a child)\n",
    "def mutation(child, r_mut):  \n",
    "    mutant = child.copy()\n",
    "    if rd.random() < r_mut: # randomly deciding for a mutation or not\n",
    "        mutations = [\"NS1\", \"NS2\", \"NS3\", \"NS4\"] # neighborhood functions also provide feasibility :)\n",
    "        chosen_mutation = rd.choice(mutations)\n",
    "        #print(chosen_mutation)\n",
    "        if chosen_mutation == \"NS1\":\n",
    "            mutant = rd.choice(neigh_1(child)) \n",
    "        elif chosen_mutation == \"NS2\":\n",
    "            mutant = rd.choice(neigh_2(child))\n",
    "        elif chosen_mutation == \"NS3\":\n",
    "            mutant = rd.choice(neigh_3(child))\n",
    "        else:\n",
    "            mutant = rd.choice(neigh_4(child))\n",
    "    return mutant "
   ]
  },
  {
   "cell_type": "code",
   "execution_count": null,
   "id": "821d03a5",
   "metadata": {},
   "outputs": [],
   "source": [
    "# Creating Generations\n",
    "def genetic_algorithm(objective, n_gen, n_pop, r_cross, r_mut):\n",
    "    # initial population - have different initial pop each time GA runs\n",
    "    pop = [list(initial_solution(nodes)) for _ in range(n_pop)]\n",
    "    # tracking best solution\n",
    "    best, best_score = 0, total_cost(pop[0])\n",
    "    # enumarating generations\n",
    "    for gen in range(n_gen):\n",
    "        scores = [total_cost(c) for c in pop] # evaluating all candidates in pop\n",
    "        # checking for best solution\n",
    "        for i in range(len(pop)):\n",
    "            #print(f\"Generation {gen} Total cost = {scores[i]} Allocation: {pop[i]}\")\n",
    "            if scores[i] < best_score:\n",
    "                best, best_score = pop[i], scores[i]\n",
    "                print(f\"Generation {gen} New best! : Total cost = {best_score} Allocation: {best}\")\n",
    "        # tournament selection to get parents list\n",
    "        parents = tournament_selection(pop, 4)\n",
    "        # creating next generation\n",
    "        children = []\n",
    "        for i in range(n_pop):\n",
    "            p1, p2 = parents[0], parents[1] \n",
    "            for c in crossover(p1, p2, r_cross): # crossover & mutation\n",
    "                mutation(c, r_mut)\n",
    "                children.append(c)\n",
    "        # making new generation the next population\n",
    "        pop = children\n",
    "    return [best, best_score]"
   ]
  },
  {
   "cell_type": "markdown",
   "id": "9cd69424",
   "metadata": {},
   "source": [
    "##### Implementations"
   ]
  },
  {
   "cell_type": "code",
   "execution_count": null,
   "id": "94a3e336",
   "metadata": {},
   "outputs": [],
   "source": [
    "# CAB25\n",
    "print(\"CAB 25\")\n",
    "flow = pd.read_excel('CAB_TR_RGP_Datasets 2022.xlsx', sheet_name = 'CAB25Flow', header = None)\n",
    "total_flow = flow.sum().sum()\n",
    "cost = pd.read_excel('CAB_TR_RGP_Datasets 2022.xlsx', sheet_name = 'CAB25Cost', header = None)\n",
    "nodes = list(flow.columns)"
   ]
  },
  {
   "cell_type": "code",
   "execution_count": null,
   "id": "27e8a91d",
   "metadata": {},
   "outputs": [],
   "source": [
    "p = 3\n",
    "discount_factor = 0.2\n",
    "temp = 50\n",
    "n_iterations = 300\n",
    "n_pop = 100\n",
    "n_gen = 20"
   ]
  },
  {
   "cell_type": "code",
   "execution_count": null,
   "id": "25bf0aeb",
   "metadata": {},
   "outputs": [],
   "source": [
    "cab25_SA = []\n",
    "for i in range(10):\n",
    "    start_time = time.time()\n",
    "    best, best_eval = simulated_annealing(total_cost, n_iterations, temp)\n",
    "    print(f\"Done! SA-run[{i}] Total cost = {best_eval} Allocation: {best}\")\n",
    "    cab25_SA.append(best_eval)\n",
    "    print(\"--- %s seconds ---\" % (time.time() - start_time))\n",
    "    print(\"\\n\")"
   ]
  },
  {
   "cell_type": "code",
   "execution_count": null,
   "id": "8f737edf",
   "metadata": {},
   "outputs": [],
   "source": [
    "cab25_SA"
   ]
  },
  {
   "cell_type": "code",
   "execution_count": null,
   "id": "6be60344",
   "metadata": {},
   "outputs": [],
   "source": [
    "sum(cab25_SA)/len(cab25_SA)"
   ]
  },
  {
   "cell_type": "code",
   "execution_count": null,
   "id": "286d8b1a",
   "metadata": {
    "scrolled": true
   },
   "outputs": [],
   "source": [
    "# CAB25 GA\n",
    "cab25_GA = []\n",
    "for i in range(10):\n",
    "    start_time = time.time()\n",
    "    best, best_eval = genetic_algorithm(total_cost, n_pop, n_gen, 0.9, 0.1)\n",
    "    print(f\"Done! GA-run[{i}] Total cost = {best_eval} Allocation: {best}\")\n",
    "    cab25_GA.append(best_eval)\n",
    "    print(\"--- %s seconds ---\" % (time.time() - start_time))\n",
    "    print(\"\\n\")"
   ]
  },
  {
   "cell_type": "code",
   "execution_count": null,
   "id": "4a44acb8",
   "metadata": {},
   "outputs": [],
   "source": [
    "cab25_GA"
   ]
  },
  {
   "cell_type": "code",
   "execution_count": null,
   "id": "eae96d75",
   "metadata": {},
   "outputs": [],
   "source": [
    "sum(cab25_GA)/len(cab25_GA)"
   ]
  },
  {
   "cell_type": "code",
   "execution_count": null,
   "id": "574010a8",
   "metadata": {},
   "outputs": [],
   "source": [
    "p = 3\n",
    "discount_factor = 0.8\n",
    "temp = 50\n",
    "n_iterations = 300\n",
    "n_pop = 100\n",
    "n_gen = 20"
   ]
  },
  {
   "cell_type": "code",
   "execution_count": null,
   "id": "66a5a7f5",
   "metadata": {},
   "outputs": [],
   "source": [
    "cab25_SA = []\n",
    "for i in range(10):\n",
    "    start_time = time.time()\n",
    "    best, best_eval = simulated_annealing(total_cost, n_iterations, temp)\n",
    "    print(f\"Done! SA-run[{i}] Total cost = {best_eval} Allocation: {best}\")\n",
    "    cab25_SA.append(best_eval)\n",
    "    print(\"--- %s seconds ---\" % (time.time() - start_time))\n",
    "    print(\"\\n\")"
   ]
  },
  {
   "cell_type": "code",
   "execution_count": null,
   "id": "02156e4c",
   "metadata": {},
   "outputs": [],
   "source": [
    "cab25_SA"
   ]
  },
  {
   "cell_type": "code",
   "execution_count": null,
   "id": "f7d80ff8",
   "metadata": {},
   "outputs": [],
   "source": [
    "sum(cab25_SA)/len(cab25_SA)"
   ]
  },
  {
   "cell_type": "code",
   "execution_count": null,
   "id": "c6b9fb0e",
   "metadata": {},
   "outputs": [],
   "source": [
    "# CAB25 GA\n",
    "cab25_GA = []\n",
    "for i in range(10):\n",
    "    start_time = time.time()\n",
    "    best, best_eval = genetic_algorithm(total_cost, n_pop, n_gen, 0.9, 0.1)\n",
    "    print(f\"Done! GA-run[{i}] Total cost = {best_eval} Allocation: {best}\")\n",
    "    cab25_GA.append(best_eval)\n",
    "    print(\"--- %s seconds ---\" % (time.time() - start_time))\n",
    "    print(\"\\n\")"
   ]
  },
  {
   "cell_type": "code",
   "execution_count": null,
   "id": "a43126c5",
   "metadata": {},
   "outputs": [],
   "source": [
    "cab25_GA"
   ]
  },
  {
   "cell_type": "code",
   "execution_count": null,
   "id": "b19b3a30",
   "metadata": {},
   "outputs": [],
   "source": [
    "sum(cab25_GA)/len(cab25_GA)"
   ]
  },
  {
   "cell_type": "code",
   "execution_count": null,
   "id": "502b115b",
   "metadata": {},
   "outputs": [],
   "source": [
    "p = 5\n",
    "discount_factor = 0.2\n",
    "temp = 60\n",
    "n_iterations = 500\n",
    "n_pop = 100\n",
    "n_gen = 30"
   ]
  },
  {
   "cell_type": "code",
   "execution_count": null,
   "id": "22675a1d",
   "metadata": {},
   "outputs": [],
   "source": [
    "cab25_SA = []\n",
    "for i in range(10):\n",
    "    start_time = time.time()\n",
    "    best, best_eval = simulated_annealing(total_cost, n_iterations, temp)\n",
    "    print(f\"Done! SA-run[{i}] Total cost = {best_eval} Allocation: {best}\")\n",
    "    cab25_SA.append(best_eval)\n",
    "    print(\"--- %s seconds ---\" % (time.time() - start_time))\n",
    "    print(\"\\n\")"
   ]
  },
  {
   "cell_type": "code",
   "execution_count": null,
   "id": "3724b4d5",
   "metadata": {},
   "outputs": [],
   "source": [
    "cab25_SA"
   ]
  },
  {
   "cell_type": "code",
   "execution_count": null,
   "id": "58395f2c",
   "metadata": {},
   "outputs": [],
   "source": [
    "sum(cab25_SA)/len(cab25_SA)"
   ]
  },
  {
   "cell_type": "code",
   "execution_count": null,
   "id": "1130f5d7",
   "metadata": {},
   "outputs": [],
   "source": [
    "# CAB25 GA\n",
    "cab25_GA = []\n",
    "for i in range(10):\n",
    "    start_time = time.time()\n",
    "    best, best_eval = genetic_algorithm(total_cost, n_pop, n_gen, 0.9, 0.1)\n",
    "    print(f\"Done! GA-run[{i}] Total cost = {best_eval} Allocation: {best}\")\n",
    "    cab25_GA.append(best_eval)\n",
    "    print(\"--- %s seconds ---\" % (time.time() - start_time))\n",
    "    print(\"\\n\")"
   ]
  },
  {
   "cell_type": "code",
   "execution_count": null,
   "id": "281e5d0b",
   "metadata": {},
   "outputs": [],
   "source": [
    "cab25_GA"
   ]
  },
  {
   "cell_type": "code",
   "execution_count": null,
   "id": "5cd27ac3",
   "metadata": {},
   "outputs": [],
   "source": [
    "sum(cab25_GA)/len(cab25_GA)"
   ]
  },
  {
   "cell_type": "code",
   "execution_count": null,
   "id": "e2296429",
   "metadata": {},
   "outputs": [],
   "source": [
    "p = 5\n",
    "discount_factor = 0.8\n",
    "temp = 50\n",
    "n_iterations = 500\n",
    "n_pop = 100\n",
    "n_gen = 30"
   ]
  },
  {
   "cell_type": "code",
   "execution_count": null,
   "id": "5c245905",
   "metadata": {},
   "outputs": [],
   "source": [
    "cab25_SA = []\n",
    "for i in range(10):\n",
    "    start_time = time.time()\n",
    "    best, best_eval = simulated_annealing(total_cost, n_iterations, temp)\n",
    "    print(f\"Done! SA-run[{i}] Total cost = {best_eval} Allocation: {best}\")\n",
    "    cab25_SA.append(best_eval)\n",
    "    print(\"--- %s seconds ---\" % (time.time() - start_time))\n",
    "    print(\"\\n\")"
   ]
  },
  {
   "cell_type": "code",
   "execution_count": null,
   "id": "e1af70ad",
   "metadata": {},
   "outputs": [],
   "source": [
    "cab25_SA"
   ]
  },
  {
   "cell_type": "code",
   "execution_count": null,
   "id": "dfd2a6a3",
   "metadata": {},
   "outputs": [],
   "source": [
    "sum(cab25_SA)/len(cab25_SA)"
   ]
  },
  {
   "cell_type": "code",
   "execution_count": null,
   "id": "95be15ae",
   "metadata": {},
   "outputs": [],
   "source": [
    "# CAB25 GA\n",
    "cab25_GA = []\n",
    "for i in range(10):\n",
    "    start_time = time.time()\n",
    "    best, best_eval = genetic_algorithm(total_cost, 50, 20, 0.9, 0.1)\n",
    "    print(f\"Done! GA-run[{i}] Total cost = {best_eval} Allocation: {best}\")\n",
    "    cab25_GA.append(best_eval)\n",
    "    print(\"--- %s seconds ---\" % (time.time() - start_time))\n",
    "    print(\"\\n\")"
   ]
  },
  {
   "cell_type": "code",
   "execution_count": null,
   "id": "627bebf8",
   "metadata": {},
   "outputs": [],
   "source": [
    "cab25_GA"
   ]
  },
  {
   "cell_type": "code",
   "execution_count": null,
   "id": "cfceeff1",
   "metadata": {},
   "outputs": [],
   "source": [
    "sum(cab25_GA)/len(cab25_GA)"
   ]
  },
  {
   "cell_type": "code",
   "execution_count": null,
   "id": "fda56dfd",
   "metadata": {},
   "outputs": [],
   "source": [
    "# TR55\n",
    "print(\"TR 55\")\n",
    "flow = pd.read_excel('CAB_TR_RGP_Datasets 2022.xlsx', sheet_name = 'TR55Flow', header = None)\n",
    "total_flow = flow.sum().sum()\n",
    "cost = pd.read_excel('CAB_TR_RGP_Datasets 2022.xlsx', sheet_name = 'TR55Cost', header = None)\n",
    "nodes = list(flow.columns)"
   ]
  },
  {
   "cell_type": "code",
   "execution_count": null,
   "id": "3c940d35",
   "metadata": {},
   "outputs": [],
   "source": [
    "p = 3\n",
    "discount_factor = 0.2\n",
    "temp = 50\n",
    "n_iterations = 600\n",
    "n_pop = 100\n",
    "n_gen = 30"
   ]
  },
  {
   "cell_type": "code",
   "execution_count": null,
   "id": "7edb098d",
   "metadata": {},
   "outputs": [],
   "source": [
    "# TR55 SA\n",
    "tr55_SA = []\n",
    "for i in range(10):\n",
    "    start_time = time.time()\n",
    "    best, best_eval = simulated_annealing(total_cost, n_iterations, temp)\n",
    "    print(f\"Done! SA-run[{i}] Total cost = {best_eval} Allocation: {best}\")\n",
    "    tr55_SA.append(best_eval)\n",
    "    print(\"--- %s seconds ---\" % (time.time() - start_time))\n",
    "    print(\"\\n\")"
   ]
  },
  {
   "cell_type": "code",
   "execution_count": null,
   "id": "6a38f89b",
   "metadata": {},
   "outputs": [],
   "source": [
    "tr55_SA"
   ]
  },
  {
   "cell_type": "code",
   "execution_count": null,
   "id": "23e02f3f",
   "metadata": {},
   "outputs": [],
   "source": [
    "sum(tr55_SA)/len(tr55_SA)"
   ]
  },
  {
   "cell_type": "code",
   "execution_count": null,
   "id": "d726f9be",
   "metadata": {},
   "outputs": [],
   "source": [
    "tr55_GA = []\n",
    "for i in range(10):\n",
    "    start_time = time.time()\n",
    "    best, best_eval = genetic_algorithm(total_cost, n_pop, n_gen, 0.9, 0.1)\n",
    "    print(f\"Done! GA-run[{i}] Total cost = {best_eval} Allocation: {best}\")\n",
    "    cab25_GA.append(best_eval)\n",
    "    print(\"--- %s seconds ---\" % (time.time() - start_time))\n",
    "    print(\"\\n\")"
   ]
  },
  {
   "cell_type": "code",
   "execution_count": null,
   "id": "9c166051",
   "metadata": {},
   "outputs": [],
   "source": [
    "tr55_GA"
   ]
  },
  {
   "cell_type": "code",
   "execution_count": null,
   "id": "d31f55ae",
   "metadata": {},
   "outputs": [],
   "source": [
    "sum(tr55_GA)/len(tr55_GA)"
   ]
  },
  {
   "cell_type": "code",
   "execution_count": null,
   "id": "2bef99ce",
   "metadata": {},
   "outputs": [],
   "source": [
    "p = 3\n",
    "discount_factor = 0.8\n",
    "temp = 50\n",
    "n_iterations = 600\n",
    "n_pop = 100\n",
    "n_gen = 30"
   ]
  },
  {
   "cell_type": "code",
   "execution_count": null,
   "id": "51c9ea92",
   "metadata": {},
   "outputs": [],
   "source": [
    "tr55_SA = []\n",
    "for i in range(10):\n",
    "    start_time = time.time()\n",
    "    best, best_eval = simulated_annealing(total_cost, n_iterations, temp)\n",
    "    print(f\"Done! SA-run[{i}] Total cost = {best_eval} Allocation: {best}\")\n",
    "    tr55_SA.append(best_eval)\n",
    "    print(\"--- %s seconds ---\" % (time.time() - start_time))\n",
    "    print(\"\\n\")"
   ]
  },
  {
   "cell_type": "code",
   "execution_count": null,
   "id": "9dac1013",
   "metadata": {},
   "outputs": [],
   "source": [
    "tr55_SA"
   ]
  },
  {
   "cell_type": "code",
   "execution_count": null,
   "id": "73d16afb",
   "metadata": {},
   "outputs": [],
   "source": [
    "sum(tr55_SA)/len(tr55_SA)"
   ]
  },
  {
   "cell_type": "code",
   "execution_count": null,
   "id": "61573b47",
   "metadata": {},
   "outputs": [],
   "source": [
    "tr55_GA = []\n",
    "for i in range(10):\n",
    "    start_time = time.time()\n",
    "    best, best_eval = genetic_algorithm(total_cost, n_pop, n_gen, 0.9, 0.1)\n",
    "    print(f\"Done! GA-run[{i}] Total cost = {best_eval} Allocation: {best}\")\n",
    "    cab25_GA.append(best_eval)\n",
    "    print(\"--- %s seconds ---\" % (time.time() - start_time))\n",
    "    print(\"\\n\")"
   ]
  },
  {
   "cell_type": "code",
   "execution_count": null,
   "id": "cd277ad9",
   "metadata": {},
   "outputs": [],
   "source": [
    "tr55_GA"
   ]
  },
  {
   "cell_type": "code",
   "execution_count": null,
   "id": "8657153b",
   "metadata": {},
   "outputs": [],
   "source": [
    "sum(tr55_GA)/len(tr55_GA)"
   ]
  },
  {
   "cell_type": "code",
   "execution_count": null,
   "id": "e7e3a568",
   "metadata": {},
   "outputs": [],
   "source": [
    "p = 5\n",
    "discount_factor = 0.2\n",
    "temp = 50\n",
    "n_iterations = 1000\n",
    "n_pop = 100\n",
    "n_gen = 40"
   ]
  },
  {
   "cell_type": "code",
   "execution_count": null,
   "id": "07d8eaa9",
   "metadata": {
    "scrolled": true
   },
   "outputs": [],
   "source": [
    "tr55_SA = []\n",
    "for i in range(10):\n",
    "    start_time = time.time()\n",
    "    best, best_eval = simulated_annealing(total_cost, n_iterations, temp)\n",
    "    print(f\"Done! SA-run[{i}] Total cost = {best_eval} Allocation: {best}\")\n",
    "    tr55_SA.append(best_eval)\n",
    "    print(\"--- %s seconds ---\" % (time.time() - start_time))\n",
    "    print(\"\\n\")"
   ]
  },
  {
   "cell_type": "code",
   "execution_count": null,
   "id": "45e622a2",
   "metadata": {},
   "outputs": [],
   "source": [
    "tr55_SA"
   ]
  },
  {
   "cell_type": "code",
   "execution_count": null,
   "id": "b978469c",
   "metadata": {},
   "outputs": [],
   "source": [
    "sum(tr55_SA)/len(tr55_SA)"
   ]
  },
  {
   "cell_type": "code",
   "execution_count": null,
   "id": "78a7bd9d",
   "metadata": {},
   "outputs": [],
   "source": [
    "tr55_GA = []\n",
    "for i in range(10):\n",
    "    start_time = time.time()\n",
    "    best, best_eval = genetic_algorithm(total_cost, n_pop, n_gen, 0.9, 0.1)\n",
    "    print(f\"Done! GA-run[{i}] Total cost = {best_eval} Allocation: {best}\")\n",
    "    cab25_GA.append(best_eval)\n",
    "    print(\"--- %s seconds ---\" % (time.time() - start_time))\n",
    "    print(\"\\n\")"
   ]
  },
  {
   "cell_type": "code",
   "execution_count": null,
   "id": "f8f91c64",
   "metadata": {},
   "outputs": [],
   "source": [
    "tr55_GA"
   ]
  },
  {
   "cell_type": "code",
   "execution_count": null,
   "id": "2f6903b3",
   "metadata": {},
   "outputs": [],
   "source": [
    "sum(tr55_GA)/len(tr55_GA)"
   ]
  },
  {
   "cell_type": "code",
   "execution_count": null,
   "id": "68a65d6f",
   "metadata": {},
   "outputs": [],
   "source": [
    "p = 5\n",
    "discount_factor = 0.8\n",
    "temp = 50\n",
    "n_iterations = 1000\n",
    "n_pop = 100\n",
    "n_gen = 40"
   ]
  },
  {
   "cell_type": "code",
   "execution_count": null,
   "id": "fa43cf58",
   "metadata": {},
   "outputs": [],
   "source": [
    "tr55_SA = []\n",
    "for i in range(10):\n",
    "    start_time = time.time()\n",
    "    best, best_eval = simulated_annealing(total_cost, n_iterations, temp)\n",
    "    print(f\"Done! SA-run[{i}] Total cost = {best_eval} Allocation: {best}\")\n",
    "    tr55_SA.append(best_eval)\n",
    "    print(\"--- %s seconds ---\" % (time.time() - start_time))\n",
    "    print(\"\\n\")"
   ]
  },
  {
   "cell_type": "code",
   "execution_count": null,
   "id": "0ec4be97",
   "metadata": {},
   "outputs": [],
   "source": [
    "tr55_SA"
   ]
  },
  {
   "cell_type": "code",
   "execution_count": null,
   "id": "e5496f3c",
   "metadata": {},
   "outputs": [],
   "source": [
    "sum(tr55_SA)/len(tr55_SA)"
   ]
  },
  {
   "cell_type": "code",
   "execution_count": null,
   "id": "43e23c06",
   "metadata": {},
   "outputs": [],
   "source": [
    "tr55_GA = []\n",
    "for i in range(10):\n",
    "    start_time = time.time()\n",
    "    best, best_eval = genetic_algorithm(total_cost, n_pop, n_gen, 0.9, 0.1)\n",
    "    print(f\"Done! GA-run[{i}] Total cost = {best_eval} Allocation: {best}\")\n",
    "    cab25_GA.append(best_eval)\n",
    "    print(\"--- %s seconds ---\" % (time.time() - start_time))\n",
    "    print(\"\\n\")"
   ]
  },
  {
   "cell_type": "code",
   "execution_count": null,
   "id": "6635b362",
   "metadata": {},
   "outputs": [],
   "source": [
    "tr55_GA"
   ]
  },
  {
   "cell_type": "code",
   "execution_count": null,
   "id": "97cbaf28",
   "metadata": {},
   "outputs": [],
   "source": [
    "sum(tr55_GA)/len(tr55_GA)"
   ]
  },
  {
   "cell_type": "code",
   "execution_count": null,
   "id": "d34deb8d",
   "metadata": {},
   "outputs": [],
   "source": [
    "# TR81\n",
    "print(\"TR 81\")\n",
    "flow = pd.read_excel('CAB_TR_RGP_Datasets 2022.xlsx', sheet_name = 'TR81Flow', header = None)\n",
    "total_flow = flow.sum().sum()\n",
    "cost = pd.read_excel('CAB_TR_RGP_Datasets 2022.xlsx', sheet_name = 'TR81Cost', header = None)\n",
    "nodes = list(flow.columns)"
   ]
  },
  {
   "cell_type": "code",
   "execution_count": null,
   "id": "727562cf",
   "metadata": {},
   "outputs": [],
   "source": [
    "p = 5\n",
    "discount_factor = 0.2\n",
    "temp = 50\n",
    "n_iterations = 800\n",
    "n_pop = 100\n",
    "n_gen = 40"
   ]
  },
  {
   "cell_type": "code",
   "execution_count": null,
   "id": "84ade7ed",
   "metadata": {},
   "outputs": [],
   "source": [
    "# TR81 SA\n",
    "tr81_SA = []\n",
    "for i in range(10):\n",
    "    start_time = time.time()\n",
    "    best, best_eval = simulated_annealing(total_cost, n_iterations, temp)\n",
    "    print(f\"Done! SA-run[{i}] Total cost = {best_eval} Allocation: {best}\")\n",
    "    tr81_SA.append(best_eval)\n",
    "    print(\"--- %s seconds ---\" % (time.time() - start_time))\n",
    "    print(\"\\n\")"
   ]
  },
  {
   "cell_type": "code",
   "execution_count": null,
   "id": "10a0ee63",
   "metadata": {},
   "outputs": [],
   "source": [
    "tr81_SA"
   ]
  },
  {
   "cell_type": "code",
   "execution_count": null,
   "id": "0120b31d",
   "metadata": {},
   "outputs": [],
   "source": [
    "sum(tr81_SA)/len(tr81_SA)"
   ]
  },
  {
   "cell_type": "code",
   "execution_count": null,
   "id": "fc69aa46",
   "metadata": {},
   "outputs": [],
   "source": [
    "tr81_GA = []\n",
    "for i in range(10):\n",
    "    start_time = time.time()\n",
    "    best, best_eval = genetic_algorithm(total_cost, n_pop, n_gen, 0.9, 0.1)\n",
    "    print(f\"Done! GA-run[{i}] Total cost = {best_eval} Allocation: {best}\")\n",
    "    cab25_GA.append(best_eval)\n",
    "    print(\"--- %s seconds ---\" % (time.time() - start_time))\n",
    "    print(\"\\n\")"
   ]
  },
  {
   "cell_type": "code",
   "execution_count": null,
   "id": "5dfc7da6",
   "metadata": {},
   "outputs": [],
   "source": [
    "tr81_GA"
   ]
  },
  {
   "cell_type": "code",
   "execution_count": null,
   "id": "e7c91536",
   "metadata": {},
   "outputs": [],
   "source": [
    "sum(tr81_GA)/len(tr81_GA)"
   ]
  },
  {
   "cell_type": "code",
   "execution_count": null,
   "id": "600cefd3",
   "metadata": {},
   "outputs": [],
   "source": [
    "p = 5\n",
    "discount_factor = 0.8\n",
    "temp = 50\n",
    "n_iterations = 800\n",
    "n_pop = 100\n",
    "n_gen = 40"
   ]
  },
  {
   "cell_type": "code",
   "execution_count": null,
   "id": "fc4b4a56",
   "metadata": {},
   "outputs": [],
   "source": [
    "tr81_SA = []\n",
    "for i in range(10):\n",
    "    start_time = time.time()\n",
    "    best, best_eval = simulated_annealing(total_cost, n_iterations, temp)\n",
    "    print(f\"Done! SA-run[{i}] Total cost = {best_eval} Allocation: {best}\")\n",
    "    tr81_SA.append(best_eval)\n",
    "    print(\"--- %s seconds ---\" % (time.time() - start_time))\n",
    "    print(\"\\n\")"
   ]
  },
  {
   "cell_type": "code",
   "execution_count": null,
   "id": "c2e9c41d",
   "metadata": {
    "scrolled": true
   },
   "outputs": [],
   "source": [
    "tr81_SA"
   ]
  },
  {
   "cell_type": "code",
   "execution_count": null,
   "id": "a670a9c9",
   "metadata": {},
   "outputs": [],
   "source": [
    "sum(tr81_SA)/len(tr81_SA)"
   ]
  },
  {
   "cell_type": "code",
   "execution_count": null,
   "id": "9f59f756",
   "metadata": {},
   "outputs": [],
   "source": [
    "tr81_GA = []\n",
    "for i in range(10):\n",
    "    start_time = time.time()\n",
    "    best, best_eval = genetic_algorithm(total_cost, n_pop, n_gen, 0.9, 0.1)\n",
    "    print(f\"Done! GA-run[{i}] Total cost = {best_eval} Allocation: {best}\")\n",
    "    cab25_GA.append(best_eval)\n",
    "    print(\"--- %s seconds ---\" % (time.time() - start_time))\n",
    "    print(\"\\n\")"
   ]
  },
  {
   "cell_type": "code",
   "execution_count": null,
   "id": "c6bd1553",
   "metadata": {},
   "outputs": [],
   "source": [
    "tr81_GA"
   ]
  },
  {
   "cell_type": "code",
   "execution_count": null,
   "id": "b338b85f",
   "metadata": {},
   "outputs": [],
   "source": [
    "sum(tr81_GA)/len(tr81_GA)"
   ]
  },
  {
   "cell_type": "code",
   "execution_count": null,
   "id": "72ea2577",
   "metadata": {},
   "outputs": [],
   "source": [
    "p = 7\n",
    "discount_factor = 0.2\n",
    "temp = 50\n",
    "n_iterations = 1000\n",
    "n_pop = 100\n",
    "n_gen = 50"
   ]
  },
  {
   "cell_type": "code",
   "execution_count": null,
   "id": "2db0fbc9",
   "metadata": {},
   "outputs": [],
   "source": [
    "tr81_SA = []\n",
    "for i in range(10):\n",
    "    start_time = time.time()\n",
    "    best, best_eval = simulated_annealing(total_cost, n_iterations, temp)\n",
    "    print(f\"Done! SA-run[{i}] Total cost = {best_eval} Allocation: {best}\")\n",
    "    tr81_SA.append(best_eval)\n",
    "    print(\"--- %s seconds ---\" % (time.time() - start_time))\n",
    "    print(\"\\n\")"
   ]
  },
  {
   "cell_type": "code",
   "execution_count": null,
   "id": "669cbdcd",
   "metadata": {},
   "outputs": [],
   "source": [
    "tr81_SA"
   ]
  },
  {
   "cell_type": "code",
   "execution_count": null,
   "id": "e0477375",
   "metadata": {},
   "outputs": [],
   "source": [
    "sum(tr81_SA)/len(tr81_SA)"
   ]
  },
  {
   "cell_type": "code",
   "execution_count": null,
   "id": "5d2d13bd",
   "metadata": {},
   "outputs": [],
   "source": [
    "tr81_GA = []\n",
    "for i in range(10):\n",
    "    start_time = time.time()\n",
    "    best, best_eval = genetic_algorithm(total_cost, n_pop, n_gen, 0.9, 0.1)\n",
    "    print(f\"Done! GA-run[{i}] Total cost = {best_eval} Allocation: {best}\")\n",
    "    cab25_GA.append(best_eval)\n",
    "    print(\"--- %s seconds ---\" % (time.time() - start_time))\n",
    "    print(\"\\n\")"
   ]
  },
  {
   "cell_type": "code",
   "execution_count": null,
   "id": "e7c81977",
   "metadata": {},
   "outputs": [],
   "source": [
    "tr81_GA"
   ]
  },
  {
   "cell_type": "code",
   "execution_count": null,
   "id": "0c0bb931",
   "metadata": {},
   "outputs": [],
   "source": [
    "sum(tr81_GA)/len(tr81_GA)"
   ]
  },
  {
   "cell_type": "code",
   "execution_count": null,
   "id": "6823a639",
   "metadata": {},
   "outputs": [],
   "source": [
    "p = 7\n",
    "discount_factor = 0.8\n",
    "temp = 50\n",
    "n_iterations = 1000\n",
    "n_pop = 100\n",
    "n_gen = 50"
   ]
  },
  {
   "cell_type": "code",
   "execution_count": null,
   "id": "758140fb",
   "metadata": {},
   "outputs": [],
   "source": [
    "tr81_SA = []\n",
    "for i in range(10):\n",
    "    start_time = time.time()\n",
    "    best, best_eval = simulated_annealing(total_cost, n_iterations, temp)\n",
    "    print(f\"Done! SA-run[{i}] Total cost = {best_eval} Allocation: {best}\")\n",
    "    tr81_SA.append(best_eval)\n",
    "    print(\"--- %s seconds ---\" % (time.time() - start_time))\n",
    "    print(\"\\n\")"
   ]
  },
  {
   "cell_type": "code",
   "execution_count": null,
   "id": "c9e949c7",
   "metadata": {},
   "outputs": [],
   "source": [
    "tr81_SA"
   ]
  },
  {
   "cell_type": "code",
   "execution_count": null,
   "id": "ec9e9eb6",
   "metadata": {},
   "outputs": [],
   "source": [
    "sum(tr81_SA)/len(tr81_SA)"
   ]
  },
  {
   "cell_type": "code",
   "execution_count": null,
   "id": "a6a792dd",
   "metadata": {},
   "outputs": [],
   "source": [
    "tr81_GA = []\n",
    "for i in range(10):\n",
    "    start_time = time.time()\n",
    "    best, best_eval = genetic_algorithm(total_cost, n_pop, n_gen, 0.9, 0.1)\n",
    "    print(f\"Done! GA-run[{i}] Total cost = {best_eval} Allocation: {best}\")\n",
    "    cab25_GA.append(best_eval)\n",
    "    print(\"--- %s seconds ---\" % (time.time() - start_time))\n",
    "    print(\"\\n\")"
   ]
  },
  {
   "cell_type": "code",
   "execution_count": null,
   "id": "2b20a7bb",
   "metadata": {},
   "outputs": [],
   "source": [
    "tr81_GA"
   ]
  },
  {
   "cell_type": "code",
   "execution_count": null,
   "id": "199fd7da",
   "metadata": {},
   "outputs": [],
   "source": [
    "sum(tr81_GA)/len(tr81_GA)"
   ]
  },
  {
   "cell_type": "code",
   "execution_count": null,
   "id": "04bc28b7",
   "metadata": {},
   "outputs": [],
   "source": [
    "# RGP100\n",
    "print(\"RGP 100\")\n",
    "flow = pd.read_excel('CAB_TR_RGP_Datasets 2022.xlsx', sheet_name = 'RGP100Flow', header = None)\n",
    "total_flow = flow.sum().sum()\n",
    "cost = pd.read_excel('CAB_TR_RGP_Datasets 2022.xlsx', sheet_name = 'RGP100Cost', header = None)\n",
    "nodes = list(flow.columns)"
   ]
  },
  {
   "cell_type": "code",
   "execution_count": null,
   "id": "5e4fc840",
   "metadata": {},
   "outputs": [],
   "source": [
    "p = 7\n",
    "discount_factor = 0.2\n",
    "temp = 50\n",
    "n_iterations = 1200\n",
    "n_pop = 100\n",
    "n_gen = 50"
   ]
  },
  {
   "cell_type": "code",
   "execution_count": null,
   "id": "f55a3588",
   "metadata": {},
   "outputs": [],
   "source": [
    "# RGP100 SA\n",
    "rgp100_SA = []\n",
    "for i in range(10):\n",
    "    start_time = time.time()\n",
    "    best, best_eval = simulated_annealing(total_cost, n_iterations, temp)\n",
    "    print(f\"Done! SA-run[{i}] Total cost = {best_eval} Allocation: {best}\")\n",
    "    rgp100_SA.append(best_eval)\n",
    "    print(\"--- %s seconds ---\" % (time.time() - start_time))\n",
    "    print(\"\\n\")"
   ]
  },
  {
   "cell_type": "code",
   "execution_count": null,
   "id": "ad5924c7",
   "metadata": {},
   "outputs": [],
   "source": [
    "rgp100_SA"
   ]
  },
  {
   "cell_type": "code",
   "execution_count": null,
   "id": "56cbd960",
   "metadata": {},
   "outputs": [],
   "source": [
    "sum(rgp100_SA)/len(rgp100_SA)"
   ]
  },
  {
   "cell_type": "code",
   "execution_count": null,
   "id": "f51ce3ff",
   "metadata": {},
   "outputs": [],
   "source": [
    "rgp100_GA = []\n",
    "for i in range(10):\n",
    "    start_time = time.time()\n",
    "    best, best_eval = genetic_algorithm(total_cost, n_pop, n_gen, 0.9, 0.1)\n",
    "    print(f\"Done! GA-run[{i}] Total cost = {best_eval} Allocation: {best}\")\n",
    "    cab25_GA.append(best_eval)\n",
    "    print(\"--- %s seconds ---\" % (time.time() - start_time))\n",
    "    print(\"\\n\")"
   ]
  },
  {
   "cell_type": "code",
   "execution_count": null,
   "id": "38242971",
   "metadata": {},
   "outputs": [],
   "source": [
    "rgp100_GA"
   ]
  },
  {
   "cell_type": "code",
   "execution_count": null,
   "id": "12fa7bdd",
   "metadata": {},
   "outputs": [],
   "source": [
    "sum(rgp100_GA)/len(rgp100_GA)"
   ]
  },
  {
   "cell_type": "code",
   "execution_count": null,
   "id": "9b32a5e8",
   "metadata": {},
   "outputs": [],
   "source": [
    "p = 7\n",
    "discount_factor = 0.8\n",
    "temp = 50\n",
    "n_iterations = 1200\n",
    "n_pop = 100\n",
    "n_gen = 50"
   ]
  },
  {
   "cell_type": "code",
   "execution_count": null,
   "id": "1b0adf9d",
   "metadata": {},
   "outputs": [],
   "source": [
    "rgp100_SA = []\n",
    "for i in range(10):\n",
    "    start_time = time.time()\n",
    "    best, best_eval = simulated_annealing(total_cost, n_iterations, temp)\n",
    "    print(f\"Done! SA-run[{i}] Total cost = {best_eval} Allocation: {best}\")\n",
    "    rgp100_SA.append(best_eval)\n",
    "    print(\"--- %s seconds ---\" % (time.time() - start_time))\n",
    "    print(\"\\n\")"
   ]
  },
  {
   "cell_type": "code",
   "execution_count": null,
   "id": "c51cdf43",
   "metadata": {},
   "outputs": [],
   "source": [
    "rgp100_SA"
   ]
  },
  {
   "cell_type": "code",
   "execution_count": null,
   "id": "27f0c15e",
   "metadata": {},
   "outputs": [],
   "source": [
    "sum(rgp100_SA)/len(rgp100_SA)"
   ]
  },
  {
   "cell_type": "code",
   "execution_count": null,
   "id": "3123b997",
   "metadata": {},
   "outputs": [],
   "source": [
    "rgp100_GA = []\n",
    "for i in range(10):\n",
    "    start_time = time.time()\n",
    "    best, best_eval = genetic_algorithm(total_cost, n_pop, n_gen, 0.9, 0.1)\n",
    "    print(f\"Done! GA-run[{i}] Total cost = {best_eval} Allocation: {best}\")\n",
    "    cab25_GA.append(best_eval)\n",
    "    print(\"--- %s seconds ---\" % (time.time() - start_time))\n",
    "    print(\"\\n\")"
   ]
  },
  {
   "cell_type": "code",
   "execution_count": null,
   "id": "234c5bdb",
   "metadata": {},
   "outputs": [],
   "source": [
    "rgp100_GA"
   ]
  },
  {
   "cell_type": "code",
   "execution_count": null,
   "id": "ef0c09d6",
   "metadata": {},
   "outputs": [],
   "source": [
    "sum(rgp100_GA)/len(rgp100_GA)"
   ]
  },
  {
   "cell_type": "code",
   "execution_count": null,
   "id": "b537f2d6",
   "metadata": {},
   "outputs": [],
   "source": [
    "p = 10\n",
    "discount_factor = 0.2\n",
    "temp = 50\n",
    "n_iterations = 1500\n",
    "n_pop = 100\n",
    "n_gen = 60"
   ]
  },
  {
   "cell_type": "code",
   "execution_count": null,
   "id": "32cba388",
   "metadata": {},
   "outputs": [],
   "source": [
    "rgp100_SA = []\n",
    "for i in range(10):\n",
    "    start_time = time.time()\n",
    "    best, best_eval = simulated_annealing(total_cost, n_iterations, temp)\n",
    "    print(f\"Done! SA-run[{i}] Total cost = {best_eval} Allocation: {best}\")\n",
    "    rgp100_SA.append(best_eval)\n",
    "    print(\"--- %s seconds ---\" % (time.time() - start_time))\n",
    "    print(\"\\n\")"
   ]
  },
  {
   "cell_type": "code",
   "execution_count": null,
   "id": "f87bbf25",
   "metadata": {},
   "outputs": [],
   "source": [
    "rgp100_SA"
   ]
  },
  {
   "cell_type": "code",
   "execution_count": null,
   "id": "fad06d4d",
   "metadata": {},
   "outputs": [],
   "source": [
    "sum(rgp100_SA)/len(rgp100_SA)"
   ]
  },
  {
   "cell_type": "code",
   "execution_count": null,
   "id": "a6aeedec",
   "metadata": {},
   "outputs": [],
   "source": [
    "rgp100_GA = []\n",
    "for i in range(10):\n",
    "    start_time = time.time()\n",
    "    best, best_eval = genetic_algorithm(total_cost, n_pop, n_gen, 0.9, 0.1)\n",
    "    print(f\"Done! GA-run[{i}] Total cost = {best_eval} Allocation: {best}\")\n",
    "    cab25_GA.append(best_eval)\n",
    "    print(\"--- %s seconds ---\" % (time.time() - start_time))\n",
    "    print(\"\\n\")"
   ]
  },
  {
   "cell_type": "code",
   "execution_count": null,
   "id": "62e7474d",
   "metadata": {},
   "outputs": [],
   "source": [
    "rgp100_GA"
   ]
  },
  {
   "cell_type": "code",
   "execution_count": null,
   "id": "dad1f555",
   "metadata": {},
   "outputs": [],
   "source": [
    "sum(rgp100_GA)/len(rgp100_GA)"
   ]
  },
  {
   "cell_type": "code",
   "execution_count": null,
   "id": "b650b447",
   "metadata": {},
   "outputs": [],
   "source": [
    "p = 10\n",
    "discount_factor = 0.8\n",
    "temp = 50\n",
    "n_iterations = 1500\n",
    "n_pop = 100\n",
    "n_gen = 60"
   ]
  },
  {
   "cell_type": "code",
   "execution_count": null,
   "id": "86833c2d",
   "metadata": {},
   "outputs": [],
   "source": [
    "rgp100_SA = []\n",
    "for i in range(10):\n",
    "    start_time = time.time()\n",
    "    best, best_eval = simulated_annealing(total_cost, n_iterations, temp)\n",
    "    print(f\"Done! SA-run[{i}] Total cost = {best_eval} Allocation: {best}\")\n",
    "    rgp100_SA.append(best_eval)\n",
    "    print(\"--- %s seconds ---\" % (time.time() - start_time))\n",
    "    print(\"\\n\")"
   ]
  },
  {
   "cell_type": "code",
   "execution_count": null,
   "id": "bfaf0701",
   "metadata": {},
   "outputs": [],
   "source": [
    "rgp100_SA"
   ]
  },
  {
   "cell_type": "code",
   "execution_count": null,
   "id": "96fe5653",
   "metadata": {},
   "outputs": [],
   "source": [
    "sum(rgp100_SA)/len(rgp100_SA)"
   ]
  },
  {
   "cell_type": "code",
   "execution_count": null,
   "id": "f6c3aba6",
   "metadata": {},
   "outputs": [],
   "source": [
    "rgp100_GA = []\n",
    "for i in range(10):\n",
    "    start_time = time.time()\n",
    "    best, best_eval = genetic_algorithm(total_cost, n_pop, n_gen, 0.9, 0.1)\n",
    "    print(f\"Done! GA-run[{i}] Total cost = {best_eval} Allocation: {best}\")\n",
    "    cab25_GA.append(best_eval)\n",
    "    print(\"--- %s seconds ---\" % (time.time() - start_time))\n",
    "    print(\"\\n\")"
   ]
  },
  {
   "cell_type": "code",
   "execution_count": null,
   "id": "20a30428",
   "metadata": {},
   "outputs": [],
   "source": [
    "rgp100_GA"
   ]
  },
  {
   "cell_type": "code",
   "execution_count": null,
   "id": "f5f25340",
   "metadata": {},
   "outputs": [],
   "source": [
    "sum(rgp100_GA)/len(rgp100_GA)"
   ]
  },
  {
   "cell_type": "code",
   "execution_count": null,
   "id": "89597ce9",
   "metadata": {},
   "outputs": [],
   "source": [
    "# RGP130\n",
    "print(\"RGP 130\")\n",
    "flow = pd.read_excel('CAB_TR_RGP_Datasets 2022.xlsx', sheet_name = 'RGP130Flow', header = None)\n",
    "total_flow = flow.sum().sum()\n",
    "cost = pd.read_excel('CAB_TR_RGP_Datasets 2022.xlsx', sheet_name = 'RGP130Cost', header = None)\n",
    "nodes = list(flow.columns)"
   ]
  },
  {
   "cell_type": "code",
   "execution_count": null,
   "id": "f3215f15",
   "metadata": {},
   "outputs": [],
   "source": [
    "p = 7\n",
    "discount_factor = 0.2\n",
    "temp = 50\n",
    "n_iterations = 1500\n",
    "n_pop = 100\n",
    "n_gen = 60"
   ]
  },
  {
   "cell_type": "code",
   "execution_count": null,
   "id": "c4839ead",
   "metadata": {},
   "outputs": [],
   "source": [
    "# RGP130 SA\n",
    "rgp130_SA = []\n",
    "for i in range(10):\n",
    "    start_time = time.time()\n",
    "    best, best_eval = simulated_annealing(total_cost, n_iterations, temp)\n",
    "    print(f\"Done! SA-run[{i}] Total cost = {best_eval} Allocation: {best}\")\n",
    "    rgp130_SA.append(best_eval)\n",
    "    print(\"--- %s seconds ---\" % (time.time() - start_time))\n",
    "    print(\"\\n\")"
   ]
  },
  {
   "cell_type": "code",
   "execution_count": null,
   "id": "18165dda",
   "metadata": {},
   "outputs": [],
   "source": [
    "rgp130_SA"
   ]
  },
  {
   "cell_type": "code",
   "execution_count": null,
   "id": "67f49707",
   "metadata": {},
   "outputs": [],
   "source": [
    "sum(rgp130_SA)/len(rgp130_SA)"
   ]
  },
  {
   "cell_type": "code",
   "execution_count": null,
   "id": "6ab7ad21",
   "metadata": {},
   "outputs": [],
   "source": [
    "rgp130_GA = []\n",
    "for i in range(10):\n",
    "    start_time = time.time()\n",
    "    best, best_eval = genetic_algorithm(total_cost, n_pop, n_gen, 0.9, 0.1)\n",
    "    print(f\"Done! GA-run[{i}] Total cost = {best_eval} Allocation: {best}\")\n",
    "    cab25_GA.append(best_eval)\n",
    "    print(\"--- %s seconds ---\" % (time.time() - start_time))\n",
    "    print(\"\\n\")"
   ]
  },
  {
   "cell_type": "code",
   "execution_count": null,
   "id": "8f1fa571",
   "metadata": {},
   "outputs": [],
   "source": [
    "rgp130_GA"
   ]
  },
  {
   "cell_type": "code",
   "execution_count": null,
   "id": "afee45cf",
   "metadata": {},
   "outputs": [],
   "source": [
    "sum(rgp130_GA)/len(rgp130_GA)"
   ]
  },
  {
   "cell_type": "code",
   "execution_count": null,
   "id": "946428e0",
   "metadata": {},
   "outputs": [],
   "source": [
    "p = 7\n",
    "discount_factor = 0.8\n",
    "temp = 50\n",
    "n_iterations = 1500\n",
    "n_pop = 100\n",
    "n_gen = 60"
   ]
  },
  {
   "cell_type": "code",
   "execution_count": null,
   "id": "fac99dcc",
   "metadata": {},
   "outputs": [],
   "source": [
    "rgp130_SA = []\n",
    "for i in range(10):\n",
    "    start_time = time.time()\n",
    "    best, best_eval = simulated_annealing(total_cost, n_iterations, temp)\n",
    "    print(f\"Done! SA-run[{i}] Total cost = {best_eval} Allocation: {best}\")\n",
    "    rgp130_SA.append(best_eval)\n",
    "    print(\"--- %s seconds ---\" % (time.time() - start_time))\n",
    "    print(\"\\n\")"
   ]
  },
  {
   "cell_type": "code",
   "execution_count": null,
   "id": "442c8d2d",
   "metadata": {},
   "outputs": [],
   "source": [
    "rgp130_SA"
   ]
  },
  {
   "cell_type": "code",
   "execution_count": null,
   "id": "08a32e9d",
   "metadata": {},
   "outputs": [],
   "source": [
    "sum(rgp130_SA)/len(rgp130_SA)"
   ]
  },
  {
   "cell_type": "code",
   "execution_count": null,
   "id": "4875e492",
   "metadata": {},
   "outputs": [],
   "source": [
    "rgp130_GA = []\n",
    "for i in range(10):\n",
    "    start_time = time.time()\n",
    "    best, best_eval = genetic_algorithm(total_cost, n_pop, n_gen, 0.9, 0.1)\n",
    "    print(f\"Done! GA-run[{i}] Total cost = {best_eval} Allocation: {best}\")\n",
    "    cab25_GA.append(best_eval)\n",
    "    print(\"--- %s seconds ---\" % (time.time() - start_time))\n",
    "    print(\"\\n\")"
   ]
  },
  {
   "cell_type": "code",
   "execution_count": null,
   "id": "06c62488",
   "metadata": {},
   "outputs": [],
   "source": [
    "rgp130_GA"
   ]
  },
  {
   "cell_type": "code",
   "execution_count": null,
   "id": "a4ab2199",
   "metadata": {},
   "outputs": [],
   "source": [
    "sum(rgp130_GA)/len(rgp130_GA)"
   ]
  },
  {
   "cell_type": "code",
   "execution_count": null,
   "id": "ccdef6f6",
   "metadata": {},
   "outputs": [],
   "source": [
    "p = 10\n",
    "discount_factor = 0.2\n",
    "temp = 50\n",
    "n_iterations = 1800\n",
    "n_pop = 100\n",
    "n_gen = 70"
   ]
  },
  {
   "cell_type": "code",
   "execution_count": null,
   "id": "85f90c4f",
   "metadata": {
    "scrolled": true
   },
   "outputs": [],
   "source": [
    "rgp130_SA = []\n",
    "for i in range(10):\n",
    "    start_time = time.time()\n",
    "    best, best_eval = simulated_annealing(total_cost, n_iterations, temp)\n",
    "    print(f\"Done! SA-run[{i}] Total cost = {best_eval} Allocation: {best}\")\n",
    "    rgp130_SA.append(best_eval)\n",
    "    print(\"--- %s seconds ---\" % (time.time() - start_time))\n",
    "    print(\"\\n\")"
   ]
  },
  {
   "cell_type": "code",
   "execution_count": null,
   "id": "0fb1eab5",
   "metadata": {},
   "outputs": [],
   "source": [
    "rgp130_SA"
   ]
  },
  {
   "cell_type": "code",
   "execution_count": null,
   "id": "568d973e",
   "metadata": {},
   "outputs": [],
   "source": [
    "sum(rgp130_SA)/len(rgp130_SA)"
   ]
  },
  {
   "cell_type": "code",
   "execution_count": null,
   "id": "76b70811",
   "metadata": {},
   "outputs": [],
   "source": [
    "rgp130_GA = []\n",
    "for i in range(10):\n",
    "    start_time = time.time()\n",
    "    best, best_eval = genetic_algorithm(total_cost, n_pop, n_gen, 0.9, 0.1)\n",
    "    print(f\"Done! GA-run[{i}] Total cost = {best_eval} Allocation: {best}\")\n",
    "    cab25_GA.append(best_eval)\n",
    "    print(\"--- %s seconds ---\" % (time.time() - start_time))\n",
    "    print(\"\\n\")"
   ]
  },
  {
   "cell_type": "code",
   "execution_count": null,
   "id": "1a3eef79",
   "metadata": {},
   "outputs": [],
   "source": [
    "rgp130_GA"
   ]
  },
  {
   "cell_type": "code",
   "execution_count": null,
   "id": "d34fb54c",
   "metadata": {},
   "outputs": [],
   "source": [
    "sum(rgp130_GA)/len(rgp130_GA)"
   ]
  },
  {
   "cell_type": "code",
   "execution_count": null,
   "id": "a43d639c",
   "metadata": {},
   "outputs": [],
   "source": [
    "p = 10\n",
    "discount_factor = 0.8\n",
    "temp = 50\n",
    "n_iterations = 1800\n",
    "n_pop = 100\n",
    "n_gen = 70"
   ]
  },
  {
   "cell_type": "code",
   "execution_count": null,
   "id": "8eb22cc5",
   "metadata": {},
   "outputs": [],
   "source": [
    "rgp130_SA = []\n",
    "for i in range(10):\n",
    "    start_time = time.time()\n",
    "    best, best_eval = simulated_annealing(total_cost, n_iterations, temp)\n",
    "    print(f\"Done! SA-run[{i}] Total cost = {best_eval} Allocation: {best}\")\n",
    "    rgp130_SA.append(best_eval)\n",
    "    print(\"--- %s seconds ---\" % (time.time() - start_time))\n",
    "    print(\"\\n\")"
   ]
  },
  {
   "cell_type": "code",
   "execution_count": null,
   "id": "be86ae2c",
   "metadata": {},
   "outputs": [],
   "source": [
    "rgp130_SA"
   ]
  },
  {
   "cell_type": "code",
   "execution_count": null,
   "id": "ef9b42ef",
   "metadata": {},
   "outputs": [],
   "source": [
    "sum(rgp130_SA)/len(rgp130_SA)"
   ]
  },
  {
   "cell_type": "code",
   "execution_count": null,
   "id": "08e970c8",
   "metadata": {},
   "outputs": [],
   "source": [
    "rgp130_GA = []\n",
    "for i in range(10):\n",
    "    start_time = time.time()\n",
    "    best, best_eval = genetic_algorithm(total_cost, n_pop, n_gen, 0.9, 0.1)\n",
    "    print(f\"Done! GA-run[{i}] Total cost = {best_eval} Allocation: {best}\")\n",
    "    cab25_GA.append(best_eval)\n",
    "    print(\"--- %s seconds ---\" % (time.time() - start_time))\n",
    "    print(\"\\n\")"
   ]
  },
  {
   "cell_type": "code",
   "execution_count": null,
   "id": "1924e884",
   "metadata": {},
   "outputs": [],
   "source": [
    "rgp130_GA"
   ]
  },
  {
   "cell_type": "code",
   "execution_count": null,
   "id": "4806c1db",
   "metadata": {},
   "outputs": [],
   "source": [
    "sum(rgp130_GA)/len(rgp130_GA)"
   ]
  }
 ],
 "metadata": {
  "kernelspec": {
   "display_name": "Python 3",
   "language": "python",
   "name": "python3"
  },
  "language_info": {
   "codemirror_mode": {
    "name": "ipython",
    "version": 3
   },
   "file_extension": ".py",
   "mimetype": "text/x-python",
   "name": "python",
   "nbconvert_exporter": "python",
   "pygments_lexer": "ipython3",
   "version": "3.8.8"
  }
 },
 "nbformat": 4,
 "nbformat_minor": 5
}
