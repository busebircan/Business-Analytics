{
 "cells": [
  {
   "cell_type": "markdown",
   "id": "behavioral-warehouse",
   "metadata": {},
   "source": [
    "### Flight Status Prediction"
   ]
  },
  {
   "cell_type": "markdown",
   "id": "genetic-physiology",
   "metadata": {},
   "source": [
    "A multiclass classification problem to predict whether a flight will be cancelled, diverted, delayed or on-schedule.\n",
    "\n",
    "The analysis is focused on unique carrier 'WN's flights and their status during winter season considered as November to March."
   ]
  },
  {
   "cell_type": "markdown",
   "id": "continent-penguin",
   "metadata": {},
   "source": [
    "**Part 1: Uploading the Dataset and Having an Initial Look at Features**"
   ]
  },
  {
   "cell_type": "code",
   "execution_count": 85,
   "id": "sapphire-crawford",
   "metadata": {},
   "outputs": [
    {
     "data": {
      "text/html": [
       "<div>\n",
       "<style scoped>\n",
       "    .dataframe tbody tr th:only-of-type {\n",
       "        vertical-align: middle;\n",
       "    }\n",
       "\n",
       "    .dataframe tbody tr th {\n",
       "        vertical-align: top;\n",
       "    }\n",
       "\n",
       "    .dataframe thead th {\n",
       "        text-align: right;\n",
       "    }\n",
       "</style>\n",
       "<table border=\"1\" class=\"dataframe\">\n",
       "  <thead>\n",
       "    <tr style=\"text-align: right;\">\n",
       "      <th></th>\n",
       "      <th>Unnamed: 0</th>\n",
       "      <th>Year</th>\n",
       "      <th>Month</th>\n",
       "      <th>DayofMonth</th>\n",
       "      <th>DayOfWeek</th>\n",
       "      <th>DepTime</th>\n",
       "      <th>CRSDepTime</th>\n",
       "      <th>ArrTime</th>\n",
       "      <th>CRSArrTime</th>\n",
       "      <th>UniqueCarrier</th>\n",
       "      <th>...</th>\n",
       "      <th>TaxiIn</th>\n",
       "      <th>TaxiOut</th>\n",
       "      <th>Cancelled</th>\n",
       "      <th>CancellationCode</th>\n",
       "      <th>Diverted</th>\n",
       "      <th>CarrierDelay</th>\n",
       "      <th>WeatherDelay</th>\n",
       "      <th>NASDelay</th>\n",
       "      <th>SecurityDelay</th>\n",
       "      <th>LateAircraftDelay</th>\n",
       "    </tr>\n",
       "  </thead>\n",
       "  <tbody>\n",
       "    <tr>\n",
       "      <th>0</th>\n",
       "      <td>0</td>\n",
       "      <td>2008</td>\n",
       "      <td>1</td>\n",
       "      <td>3</td>\n",
       "      <td>4</td>\n",
       "      <td>2003.0</td>\n",
       "      <td>1955</td>\n",
       "      <td>2211.0</td>\n",
       "      <td>2225</td>\n",
       "      <td>WN</td>\n",
       "      <td>...</td>\n",
       "      <td>4.0</td>\n",
       "      <td>8.0</td>\n",
       "      <td>0</td>\n",
       "      <td>N</td>\n",
       "      <td>0</td>\n",
       "      <td>NaN</td>\n",
       "      <td>NaN</td>\n",
       "      <td>NaN</td>\n",
       "      <td>NaN</td>\n",
       "      <td>NaN</td>\n",
       "    </tr>\n",
       "    <tr>\n",
       "      <th>1</th>\n",
       "      <td>1</td>\n",
       "      <td>2008</td>\n",
       "      <td>1</td>\n",
       "      <td>3</td>\n",
       "      <td>4</td>\n",
       "      <td>754.0</td>\n",
       "      <td>735</td>\n",
       "      <td>1002.0</td>\n",
       "      <td>1000</td>\n",
       "      <td>WN</td>\n",
       "      <td>...</td>\n",
       "      <td>5.0</td>\n",
       "      <td>10.0</td>\n",
       "      <td>0</td>\n",
       "      <td>N</td>\n",
       "      <td>0</td>\n",
       "      <td>NaN</td>\n",
       "      <td>NaN</td>\n",
       "      <td>NaN</td>\n",
       "      <td>NaN</td>\n",
       "      <td>NaN</td>\n",
       "    </tr>\n",
       "    <tr>\n",
       "      <th>2</th>\n",
       "      <td>2</td>\n",
       "      <td>2008</td>\n",
       "      <td>1</td>\n",
       "      <td>3</td>\n",
       "      <td>4</td>\n",
       "      <td>628.0</td>\n",
       "      <td>620</td>\n",
       "      <td>804.0</td>\n",
       "      <td>750</td>\n",
       "      <td>WN</td>\n",
       "      <td>...</td>\n",
       "      <td>3.0</td>\n",
       "      <td>17.0</td>\n",
       "      <td>0</td>\n",
       "      <td>N</td>\n",
       "      <td>0</td>\n",
       "      <td>NaN</td>\n",
       "      <td>NaN</td>\n",
       "      <td>NaN</td>\n",
       "      <td>NaN</td>\n",
       "      <td>NaN</td>\n",
       "    </tr>\n",
       "    <tr>\n",
       "      <th>3</th>\n",
       "      <td>4</td>\n",
       "      <td>2008</td>\n",
       "      <td>1</td>\n",
       "      <td>3</td>\n",
       "      <td>4</td>\n",
       "      <td>1829.0</td>\n",
       "      <td>1755</td>\n",
       "      <td>1959.0</td>\n",
       "      <td>1925</td>\n",
       "      <td>WN</td>\n",
       "      <td>...</td>\n",
       "      <td>3.0</td>\n",
       "      <td>10.0</td>\n",
       "      <td>0</td>\n",
       "      <td>N</td>\n",
       "      <td>0</td>\n",
       "      <td>2.0</td>\n",
       "      <td>0.0</td>\n",
       "      <td>0.0</td>\n",
       "      <td>0.0</td>\n",
       "      <td>32.0</td>\n",
       "    </tr>\n",
       "    <tr>\n",
       "      <th>4</th>\n",
       "      <td>5</td>\n",
       "      <td>2008</td>\n",
       "      <td>1</td>\n",
       "      <td>3</td>\n",
       "      <td>4</td>\n",
       "      <td>1940.0</td>\n",
       "      <td>1915</td>\n",
       "      <td>2121.0</td>\n",
       "      <td>2110</td>\n",
       "      <td>WN</td>\n",
       "      <td>...</td>\n",
       "      <td>4.0</td>\n",
       "      <td>10.0</td>\n",
       "      <td>0</td>\n",
       "      <td>N</td>\n",
       "      <td>0</td>\n",
       "      <td>NaN</td>\n",
       "      <td>NaN</td>\n",
       "      <td>NaN</td>\n",
       "      <td>NaN</td>\n",
       "      <td>NaN</td>\n",
       "    </tr>\n",
       "  </tbody>\n",
       "</table>\n",
       "<p>5 rows × 30 columns</p>\n",
       "</div>"
      ],
      "text/plain": [
       "   Unnamed: 0  Year  Month  DayofMonth  DayOfWeek  DepTime  CRSDepTime  \\\n",
       "0           0  2008      1           3          4   2003.0        1955   \n",
       "1           1  2008      1           3          4    754.0         735   \n",
       "2           2  2008      1           3          4    628.0         620   \n",
       "3           4  2008      1           3          4   1829.0        1755   \n",
       "4           5  2008      1           3          4   1940.0        1915   \n",
       "\n",
       "   ArrTime  CRSArrTime UniqueCarrier  ...  TaxiIn TaxiOut  Cancelled  \\\n",
       "0   2211.0        2225            WN  ...     4.0     8.0          0   \n",
       "1   1002.0        1000            WN  ...     5.0    10.0          0   \n",
       "2    804.0         750            WN  ...     3.0    17.0          0   \n",
       "3   1959.0        1925            WN  ...     3.0    10.0          0   \n",
       "4   2121.0        2110            WN  ...     4.0    10.0          0   \n",
       "\n",
       "   CancellationCode  Diverted  CarrierDelay  WeatherDelay NASDelay  \\\n",
       "0                 N         0           NaN           NaN      NaN   \n",
       "1                 N         0           NaN           NaN      NaN   \n",
       "2                 N         0           NaN           NaN      NaN   \n",
       "3                 N         0           2.0           0.0      0.0   \n",
       "4                 N         0           NaN           NaN      NaN   \n",
       "\n",
       "  SecurityDelay  LateAircraftDelay  \n",
       "0           NaN                NaN  \n",
       "1           NaN                NaN  \n",
       "2           NaN                NaN  \n",
       "3           0.0               32.0  \n",
       "4           NaN                NaN  \n",
       "\n",
       "[5 rows x 30 columns]"
      ]
     },
     "execution_count": 85,
     "metadata": {},
     "output_type": "execute_result"
    }
   ],
   "source": [
    "import pandas as pd\n",
    "import numpy as np\n",
    "import matplotlib.pyplot as plt\n",
    "\n",
    "# Loading the dataset (working with 2008 data)\n",
    "file = open('flights_2008.csv')\n",
    "flights_data = pd.read_csv(file)\n",
    "flights_data.head()"
   ]
  },
  {
   "cell_type": "code",
   "execution_count": null,
   "id": "residential-signal",
   "metadata": {},
   "outputs": [],
   "source": [
    "# Listing the features we have in our data\n",
    "variable_names = list(flights_data.columns)\n",
    "print(variable_names)"
   ]
  },
  {
   "cell_type": "code",
   "execution_count": null,
   "id": "humanitarian-daily",
   "metadata": {},
   "outputs": [],
   "source": [
    "# Checking the length of data and unique length of some explanatory and predictive variables to get an idea about the dataset\n",
    "print(len(flights_data))\n",
    "print(len(flights_data['FlightNum'].unique()))\n",
    "print(len(flights_data['TailNum'].unique()))\n",
    "print(len(flights_data['Origin'].unique()))\n",
    "print(len(flights_data['Dest'].unique()))\n",
    "print(flights_data['UniqueCarrier'].value_counts())"
   ]
  },
  {
   "cell_type": "code",
   "execution_count": null,
   "id": "difficult-newark",
   "metadata": {},
   "outputs": [],
   "source": [
    "flights_data['Diverted'].value_counts()"
   ]
  },
  {
   "cell_type": "code",
   "execution_count": null,
   "id": "toxic-equation",
   "metadata": {},
   "outputs": [],
   "source": [
    "flights_data['Cancelled'].value_counts()"
   ]
  },
  {
   "cell_type": "markdown",
   "id": "residential-romance",
   "metadata": {},
   "source": [
    "Noting number of cancelled flights is only around 0.03% and diverted is 0.4% where expected percentage for delays is much higher. This imbalance should be re-considered with pre-processed data and normalised before model testing to have better samples."
   ]
  },
  {
   "cell_type": "markdown",
   "id": "fatal-prime",
   "metadata": {},
   "source": [
    "**Part 2: Pre-processing and Customisation of Data**"
   ]
  },
  {
   "cell_type": "code",
   "execution_count": null,
   "id": "narrow-programmer",
   "metadata": {},
   "outputs": [],
   "source": [
    "# Removing columns that have no predictive value for flight status or cannot be known before a flight\n",
    "to_remove = ['Unnamed: 0', 'Year', 'DayofMonth', 'DayOfWeek', 'DepTime', 'ArrTime', 'FlightNum', 'TailNum', 'ActualElapsedTime', 'CancellationCode', 'CarrierDelay', 'WeatherDelay', 'NASDelay', 'SecurityDelay', 'LateAircraftDelay','TaxiIn', 'TaxiOut','AirTime']\n",
    "\n",
    "def remove_columns(dataset, to_remove):\n",
    "    flights = dataset.copy()   \n",
    "    flights = dataset.drop(to_remove, axis=1)  \n",
    "    return flights"
   ]
  },
  {
   "cell_type": "code",
   "execution_count": null,
   "id": "hollywood-bahamas",
   "metadata": {
    "scrolled": true
   },
   "outputs": [],
   "source": [
    "flights_filtered = remove_columns(flights_data, to_remove)\n",
    "flights_filtered.head(2)"
   ]
  },
  {
   "cell_type": "code",
   "execution_count": null,
   "id": "amateur-world",
   "metadata": {
    "scrolled": true
   },
   "outputs": [],
   "source": [
    "# Observing missing values\n",
    "for var in flights_filtered.columns:\n",
    "    print(var, 'has \\t\\t\\t', flights_filtered[var].isna().sum(), ' missing values')"
   ]
  },
  {
   "cell_type": "code",
   "execution_count": null,
   "id": "intermediate-preliminary",
   "metadata": {},
   "outputs": [],
   "source": [
    "# Filling missing values with mean values\n",
    "nanvariables = ['CRSElapsedTime', 'ArrDelay']\n",
    "\n",
    "def replace_missing_values(dataset, variable):\n",
    "    new_data = dataset.copy()\n",
    "    mean = np.nanmean(new_data[variable])\n",
    "    new_data[variable] = new_data[variable].fillna(mean)    \n",
    "    return new_data\n",
    "\n",
    "for var in nanvariables:\n",
    "    flights_filtered = replace_missing_values(flights_filtered, var)"
   ]
  },
  {
   "cell_type": "code",
   "execution_count": null,
   "id": "naked-leather",
   "metadata": {},
   "outputs": [],
   "source": [
    "# As majority of the flight data belongs to the unique carrier WN, as per flights['UniqueCarrier'].value_counts(),\n",
    "# we choose this carrier as our focus group to proceed with further analysis\n",
    "# We aim to simplify our dataset to be able to try fitting as many model alternatives to reach best predictive performance\n",
    "\n",
    "flights_filtered = flights_filtered.loc[flights_filtered['UniqueCarrier'] == \"WN\"]\n",
    "flights_filtered.shape\n",
    "\n",
    "print(flights_filtered['UniqueCarrier'].value_counts())\n",
    "flights_filtered = flights_filtered.reset_index(drop=True)"
   ]
  },
  {
   "cell_type": "code",
   "execution_count": null,
   "id": "provincial-discrimination",
   "metadata": {},
   "outputs": [],
   "source": [
    "flights_1 = flights_filtered.copy().loc[flights_filtered['Month'] < 3]\n",
    "print(flights_1['Month'].value_counts())\n",
    "print(\"\\n\")\n",
    "flights_2 = flights_filtered.copy().loc[flights_filtered['Month'] > 10]\n",
    "print(flights_2['Month'].value_counts())"
   ]
  },
  {
   "cell_type": "code",
   "execution_count": null,
   "id": "specified-circuit",
   "metadata": {},
   "outputs": [],
   "source": [
    "flights_filtered = flights_1.append(flights_2)\n",
    "print(flights_filtered['Month'].value_counts())\n",
    "flights_filtered = flights_filtered.reset_index(drop=True)"
   ]
  },
  {
   "cell_type": "code",
   "execution_count": null,
   "id": "medium-medline",
   "metadata": {
    "scrolled": true
   },
   "outputs": [],
   "source": [
    "# Aggregating delay data and adding 'Delayed' column (1=yes, 0=no)\n",
    "\n",
    "cancelled = list(flights_filtered['Cancelled'])\n",
    "diverted = list(flights_filtered['Diverted']) \n",
    "\n",
    "rows = list(range(0,len(flights_filtered)))\n",
    "\n",
    "flights_filtered['TotalDelay'] = (flights_filtered['ArrDelay'] + flights_filtered['DepDelay'])"
   ]
  },
  {
   "cell_type": "code",
   "execution_count": null,
   "id": "composite-firmware",
   "metadata": {},
   "outputs": [],
   "source": [
    "for row in rows:\n",
    "    if cancelled[row] + diverted[row] == 0:\n",
    "        flights_filtered['TotalDelay'][row] = (flights_filtered['ArrDelay'][row] + flights_filtered['DepDelay'][row])\n",
    "    else: \n",
    "        flights_filtered['TotalDelay'][row] = 0\n",
    "        \n",
    "total_delay = list(flights_filtered['TotalDelay'])"
   ]
  },
  {
   "cell_type": "code",
   "execution_count": null,
   "id": "retired-rebound",
   "metadata": {},
   "outputs": [],
   "source": [
    "delayed = []\n",
    "for delay in total_delay:\n",
    "    if delay > 0 : delayed.append(1)\n",
    "    else: delayed.append(0)\n",
    "        \n",
    "flights_filtered['Delayed'] = delayed"
   ]
  },
  {
   "cell_type": "code",
   "execution_count": null,
   "id": "dying-difference",
   "metadata": {},
   "outputs": [],
   "source": [
    "# Adding 'OnSchedule' column\n",
    "\n",
    "flights_filtered['Score'] = (flights_filtered['Delayed'] + flights_filtered['Diverted'] + flights_filtered['Cancelled'])\n",
    "\n",
    "total_score = list(flights_filtered['Score'])\n",
    "\n",
    "on_schedule = []\n",
    "for score in total_score:\n",
    "    if score > 0: on_schedule.append(0)\n",
    "    else: on_schedule.append(1)\n",
    "        \n",
    "flights_filtered['OnSchedule'] = on_schedule\n",
    "flights_filtered.head(2)"
   ]
  },
  {
   "cell_type": "code",
   "execution_count": null,
   "id": "foreign-stretch",
   "metadata": {},
   "outputs": [],
   "source": [
    "flights_filtered['Delayed'].value_counts()"
   ]
  },
  {
   "cell_type": "code",
   "execution_count": null,
   "id": "exact-albania",
   "metadata": {},
   "outputs": [],
   "source": [
    "flights_filtered['Cancelled'].value_counts()"
   ]
  },
  {
   "cell_type": "code",
   "execution_count": null,
   "id": "offensive-valuable",
   "metadata": {},
   "outputs": [],
   "source": [
    "flights_filtered['Diverted'].value_counts()"
   ]
  },
  {
   "cell_type": "code",
   "execution_count": null,
   "id": "understanding-painting",
   "metadata": {},
   "outputs": [],
   "source": [
    "flights_filtered['OnSchedule'].value_counts()"
   ]
  },
  {
   "cell_type": "code",
   "execution_count": null,
   "id": "still-blind",
   "metadata": {},
   "outputs": [],
   "source": [
    "# Creating a 'FlightStatus' column as the target variable and\n",
    "# assigning an integer value to each flight status ('Cancelled' 0, 'Diverted' 1, 'Delayed' 2, 'OnSchedule' 3)\n",
    "\n",
    "delayed_yes = list(flights_filtered['Delayed'])\n",
    "\n",
    "flights_new = flights_filtered.copy()\n",
    "flights_new['FlightStatus'] = \"\"\n",
    "\n",
    "rows = list(range(0,len(flights_new)))\n",
    "for row in rows:\n",
    "    if cancelled[row] == 1:\n",
    "        flights_new['FlightStatus'][row] = 0\n",
    "    elif diverted[row] == 1:\n",
    "        flights_new['FlightStatus'][row] = 1\n",
    "    elif delayed_yes[row] == 1:\n",
    "        flights_new['FlightStatus'][row] = 2\n",
    "    else:\n",
    "        flights_new['FlightStatus'][row] = 3\n",
    "        \n",
    "flight_status = list(flights_new['FlightStatus'])"
   ]
  },
  {
   "cell_type": "code",
   "execution_count": null,
   "id": "interstate-advance",
   "metadata": {},
   "outputs": [],
   "source": [
    "# Final cleansing to have the columns needed only. Also deleting ArrDelay and DepDelay now since they cannot be known pre-flight as well.\n",
    "to_remove = ['UniqueCarrier','TotalDelay', 'ArrDelay', 'DepDelay', 'Score', 'Delayed', 'Cancelled', 'Diverted', 'OnSchedule']\n",
    "flights_customised = remove_columns(flights_new, to_remove)\n",
    "\n",
    "flights_customised.head(2)"
   ]
  },
  {
   "cell_type": "markdown",
   "id": "sized-cooking",
   "metadata": {},
   "source": [
    "**Part 3: Transformation**"
   ]
  },
  {
   "cell_type": "code",
   "execution_count": null,
   "id": "valid-fifty",
   "metadata": {},
   "outputs": [],
   "source": [
    "# Transforming discrete and categorical attributes\n",
    "def transform_categorical_variables(fixed_id_data, to_transform):\n",
    "    transformed_data = fixed_id_data.copy()\n",
    "    \n",
    "    for var in to_transform:\n",
    "        transformed_data = pd.concat([transformed_data.drop(var, axis=1), pd.get_dummies(transformed_data[var].values, prefix=var, drop_first=False)], axis=1)\n",
    "    \n",
    "    return transformed_data\n",
    "\n",
    "to_transform = ['Month', 'Origin', 'Dest']\n",
    "transformed_flights = transform_categorical_variables(flights_customised, to_transform)\n",
    "transformed_flights.head(2)"
   ]
  },
  {
   "cell_type": "code",
   "execution_count": null,
   "id": "martial-alcohol",
   "metadata": {},
   "outputs": [],
   "source": [
    "# Detecting and removing outliers for continuous variables\n",
    "from sklearn.neighbors import LocalOutlierFactor\n",
    "\n",
    "def detect_outliers(dataset, no_neigh, contam):\n",
    "    flights_out = dataset.copy()[['CRSDepTime', 'CRSArrTime', 'CRSElapsedTime', 'Distance']]  \n",
    "           \n",
    "    loc = LocalOutlierFactor(n_neighbors = no_neigh, contamination = contam)\n",
    "    outliers_loc = loc.fit_predict(flights_out)\n",
    "    \n",
    "    flights_out['outlier'] = pd.DataFrame(outliers_loc)\n",
    "    \n",
    "    return flights_out"
   ]
  },
  {
   "cell_type": "code",
   "execution_count": null,
   "id": "decimal-minority",
   "metadata": {},
   "outputs": [],
   "source": [
    "flights_out = detect_outliers(transformed_flights, 20, 0.1)\n",
    "flights_out['outlier'].value_counts()"
   ]
  },
  {
   "cell_type": "code",
   "execution_count": null,
   "id": "apart-cleaner",
   "metadata": {},
   "outputs": [],
   "source": [
    "transformed_flights['outlier'] = flights_out['outlier']\n",
    "flights_no_out = transformed_flights.loc[transformed_flights['outlier'] == 1]\n",
    "to_remove = ['outlier']\n",
    "flights_no_out = remove_columns(flights_no_out, to_remove)\n",
    "len(flights_no_out)\n",
    "flights_no_out = flights_no_out.reset_index(drop=True)\n",
    "flights_no_out.head(2)"
   ]
  },
  {
   "cell_type": "code",
   "execution_count": null,
   "id": "familiar-gregory",
   "metadata": {},
   "outputs": [],
   "source": [
    "# Saving final data for future use\n",
    "flights_no_out.to_csv('flightsfinal.csv')"
   ]
  },
  {
   "cell_type": "markdown",
   "id": "drawn-arthritis",
   "metadata": {},
   "source": [
    "## -"
   ]
  },
  {
   "cell_type": "code",
   "execution_count": 28,
   "id": "752fc9ac",
   "metadata": {
    "collapsed": true
   },
   "outputs": [
    {
     "data": {
      "text/html": [
       "<div>\n",
       "<style scoped>\n",
       "    .dataframe tbody tr th:only-of-type {\n",
       "        vertical-align: middle;\n",
       "    }\n",
       "\n",
       "    .dataframe tbody tr th {\n",
       "        vertical-align: top;\n",
       "    }\n",
       "\n",
       "    .dataframe thead th {\n",
       "        text-align: right;\n",
       "    }\n",
       "</style>\n",
       "<table border=\"1\" class=\"dataframe\">\n",
       "  <thead>\n",
       "    <tr style=\"text-align: right;\">\n",
       "      <th></th>\n",
       "      <th>Unnamed: 0</th>\n",
       "      <th>CRSDepTime</th>\n",
       "      <th>CRSArrTime</th>\n",
       "      <th>CRSElapsedTime</th>\n",
       "      <th>Distance</th>\n",
       "      <th>FlightStatus</th>\n",
       "      <th>Month_1</th>\n",
       "      <th>Month_2</th>\n",
       "      <th>Month_11</th>\n",
       "      <th>Month_12</th>\n",
       "      <th>...</th>\n",
       "      <th>Dest_SEA</th>\n",
       "      <th>Dest_SFO</th>\n",
       "      <th>Dest_SJC</th>\n",
       "      <th>Dest_SLC</th>\n",
       "      <th>Dest_SMF</th>\n",
       "      <th>Dest_SNA</th>\n",
       "      <th>Dest_STL</th>\n",
       "      <th>Dest_TPA</th>\n",
       "      <th>Dest_TUL</th>\n",
       "      <th>Dest_TUS</th>\n",
       "    </tr>\n",
       "  </thead>\n",
       "  <tbody>\n",
       "    <tr>\n",
       "      <th>0</th>\n",
       "      <td>0</td>\n",
       "      <td>735</td>\n",
       "      <td>1000</td>\n",
       "      <td>145.0</td>\n",
       "      <td>810</td>\n",
       "      <td>2</td>\n",
       "      <td>1</td>\n",
       "      <td>0</td>\n",
       "      <td>0</td>\n",
       "      <td>0</td>\n",
       "      <td>...</td>\n",
       "      <td>0</td>\n",
       "      <td>0</td>\n",
       "      <td>0</td>\n",
       "      <td>0</td>\n",
       "      <td>0</td>\n",
       "      <td>0</td>\n",
       "      <td>0</td>\n",
       "      <td>1</td>\n",
       "      <td>0</td>\n",
       "      <td>0</td>\n",
       "    </tr>\n",
       "    <tr>\n",
       "      <th>1</th>\n",
       "      <td>1</td>\n",
       "      <td>620</td>\n",
       "      <td>750</td>\n",
       "      <td>90.0</td>\n",
       "      <td>515</td>\n",
       "      <td>2</td>\n",
       "      <td>1</td>\n",
       "      <td>0</td>\n",
       "      <td>0</td>\n",
       "      <td>0</td>\n",
       "      <td>...</td>\n",
       "      <td>0</td>\n",
       "      <td>0</td>\n",
       "      <td>0</td>\n",
       "      <td>0</td>\n",
       "      <td>0</td>\n",
       "      <td>0</td>\n",
       "      <td>0</td>\n",
       "      <td>0</td>\n",
       "      <td>0</td>\n",
       "      <td>0</td>\n",
       "    </tr>\n",
       "    <tr>\n",
       "      <th>2</th>\n",
       "      <td>2</td>\n",
       "      <td>700</td>\n",
       "      <td>915</td>\n",
       "      <td>135.0</td>\n",
       "      <td>828</td>\n",
       "      <td>2</td>\n",
       "      <td>1</td>\n",
       "      <td>0</td>\n",
       "      <td>0</td>\n",
       "      <td>0</td>\n",
       "      <td>...</td>\n",
       "      <td>0</td>\n",
       "      <td>0</td>\n",
       "      <td>0</td>\n",
       "      <td>0</td>\n",
       "      <td>0</td>\n",
       "      <td>0</td>\n",
       "      <td>0</td>\n",
       "      <td>0</td>\n",
       "      <td>0</td>\n",
       "      <td>0</td>\n",
       "    </tr>\n",
       "    <tr>\n",
       "      <th>3</th>\n",
       "      <td>3</td>\n",
       "      <td>1020</td>\n",
       "      <td>1010</td>\n",
       "      <td>50.0</td>\n",
       "      <td>162</td>\n",
       "      <td>2</td>\n",
       "      <td>1</td>\n",
       "      <td>0</td>\n",
       "      <td>0</td>\n",
       "      <td>0</td>\n",
       "      <td>...</td>\n",
       "      <td>0</td>\n",
       "      <td>0</td>\n",
       "      <td>0</td>\n",
       "      <td>0</td>\n",
       "      <td>0</td>\n",
       "      <td>0</td>\n",
       "      <td>0</td>\n",
       "      <td>0</td>\n",
       "      <td>0</td>\n",
       "      <td>0</td>\n",
       "    </tr>\n",
       "    <tr>\n",
       "      <th>4</th>\n",
       "      <td>4</td>\n",
       "      <td>745</td>\n",
       "      <td>955</td>\n",
       "      <td>250.0</td>\n",
       "      <td>1489</td>\n",
       "      <td>3</td>\n",
       "      <td>1</td>\n",
       "      <td>0</td>\n",
       "      <td>0</td>\n",
       "      <td>0</td>\n",
       "      <td>...</td>\n",
       "      <td>0</td>\n",
       "      <td>0</td>\n",
       "      <td>0</td>\n",
       "      <td>0</td>\n",
       "      <td>0</td>\n",
       "      <td>0</td>\n",
       "      <td>0</td>\n",
       "      <td>0</td>\n",
       "      <td>0</td>\n",
       "      <td>0</td>\n",
       "    </tr>\n",
       "  </tbody>\n",
       "</table>\n",
       "<p>5 rows × 138 columns</p>\n",
       "</div>"
      ],
      "text/plain": [
       "   Unnamed: 0  CRSDepTime  CRSArrTime  CRSElapsedTime  Distance  FlightStatus  \\\n",
       "0           0         735        1000           145.0       810             2   \n",
       "1           1         620         750            90.0       515             2   \n",
       "2           2         700         915           135.0       828             2   \n",
       "3           3        1020        1010            50.0       162             2   \n",
       "4           4         745         955           250.0      1489             3   \n",
       "\n",
       "   Month_1  Month_2  Month_11  Month_12  ...  Dest_SEA  Dest_SFO  Dest_SJC  \\\n",
       "0        1        0         0         0  ...         0         0         0   \n",
       "1        1        0         0         0  ...         0         0         0   \n",
       "2        1        0         0         0  ...         0         0         0   \n",
       "3        1        0         0         0  ...         0         0         0   \n",
       "4        1        0         0         0  ...         0         0         0   \n",
       "\n",
       "   Dest_SLC  Dest_SMF  Dest_SNA  Dest_STL  Dest_TPA  Dest_TUL  Dest_TUS  \n",
       "0         0         0         0         0         1         0         0  \n",
       "1         0         0         0         0         0         0         0  \n",
       "2         0         0         0         0         0         0         0  \n",
       "3         0         0         0         0         0         0         0  \n",
       "4         0         0         0         0         0         0         0  \n",
       "\n",
       "[5 rows x 138 columns]"
      ]
     },
     "execution_count": 28,
     "metadata": {},
     "output_type": "execute_result"
    }
   ],
   "source": [
    "# Uploading the pre-processed customised dataset directly for when needed\n",
    "import pandas as pd\n",
    "import numpy as np\n",
    "import matplotlib.pyplot as plt\n",
    "\n",
    "file = open('flightsfinal.csv')\n",
    "flights_no_out = pd.read_csv(file)\n",
    "flights_no_out.head()"
   ]
  },
  {
   "cell_type": "code",
   "execution_count": 29,
   "id": "7ce3e42c",
   "metadata": {
    "scrolled": true
   },
   "outputs": [
    {
     "data": {
      "text/html": [
       "<div>\n",
       "<style scoped>\n",
       "    .dataframe tbody tr th:only-of-type {\n",
       "        vertical-align: middle;\n",
       "    }\n",
       "\n",
       "    .dataframe tbody tr th {\n",
       "        vertical-align: top;\n",
       "    }\n",
       "\n",
       "    .dataframe thead th {\n",
       "        text-align: right;\n",
       "    }\n",
       "</style>\n",
       "<table border=\"1\" class=\"dataframe\">\n",
       "  <thead>\n",
       "    <tr style=\"text-align: right;\">\n",
       "      <th></th>\n",
       "      <th>CRSDepTime</th>\n",
       "      <th>CRSArrTime</th>\n",
       "      <th>CRSElapsedTime</th>\n",
       "      <th>Distance</th>\n",
       "      <th>FlightStatus</th>\n",
       "      <th>Month_1</th>\n",
       "      <th>Month_2</th>\n",
       "      <th>Month_11</th>\n",
       "      <th>Month_12</th>\n",
       "      <th>Origin_ABQ</th>\n",
       "      <th>...</th>\n",
       "      <th>Dest_SEA</th>\n",
       "      <th>Dest_SFO</th>\n",
       "      <th>Dest_SJC</th>\n",
       "      <th>Dest_SLC</th>\n",
       "      <th>Dest_SMF</th>\n",
       "      <th>Dest_SNA</th>\n",
       "      <th>Dest_STL</th>\n",
       "      <th>Dest_TPA</th>\n",
       "      <th>Dest_TUL</th>\n",
       "      <th>Dest_TUS</th>\n",
       "    </tr>\n",
       "  </thead>\n",
       "  <tbody>\n",
       "    <tr>\n",
       "      <th>0</th>\n",
       "      <td>735</td>\n",
       "      <td>1000</td>\n",
       "      <td>145.0</td>\n",
       "      <td>810</td>\n",
       "      <td>2</td>\n",
       "      <td>1</td>\n",
       "      <td>0</td>\n",
       "      <td>0</td>\n",
       "      <td>0</td>\n",
       "      <td>0</td>\n",
       "      <td>...</td>\n",
       "      <td>0</td>\n",
       "      <td>0</td>\n",
       "      <td>0</td>\n",
       "      <td>0</td>\n",
       "      <td>0</td>\n",
       "      <td>0</td>\n",
       "      <td>0</td>\n",
       "      <td>1</td>\n",
       "      <td>0</td>\n",
       "      <td>0</td>\n",
       "    </tr>\n",
       "    <tr>\n",
       "      <th>1</th>\n",
       "      <td>620</td>\n",
       "      <td>750</td>\n",
       "      <td>90.0</td>\n",
       "      <td>515</td>\n",
       "      <td>2</td>\n",
       "      <td>1</td>\n",
       "      <td>0</td>\n",
       "      <td>0</td>\n",
       "      <td>0</td>\n",
       "      <td>0</td>\n",
       "      <td>...</td>\n",
       "      <td>0</td>\n",
       "      <td>0</td>\n",
       "      <td>0</td>\n",
       "      <td>0</td>\n",
       "      <td>0</td>\n",
       "      <td>0</td>\n",
       "      <td>0</td>\n",
       "      <td>0</td>\n",
       "      <td>0</td>\n",
       "      <td>0</td>\n",
       "    </tr>\n",
       "    <tr>\n",
       "      <th>2</th>\n",
       "      <td>700</td>\n",
       "      <td>915</td>\n",
       "      <td>135.0</td>\n",
       "      <td>828</td>\n",
       "      <td>2</td>\n",
       "      <td>1</td>\n",
       "      <td>0</td>\n",
       "      <td>0</td>\n",
       "      <td>0</td>\n",
       "      <td>0</td>\n",
       "      <td>...</td>\n",
       "      <td>0</td>\n",
       "      <td>0</td>\n",
       "      <td>0</td>\n",
       "      <td>0</td>\n",
       "      <td>0</td>\n",
       "      <td>0</td>\n",
       "      <td>0</td>\n",
       "      <td>0</td>\n",
       "      <td>0</td>\n",
       "      <td>0</td>\n",
       "    </tr>\n",
       "    <tr>\n",
       "      <th>3</th>\n",
       "      <td>1020</td>\n",
       "      <td>1010</td>\n",
       "      <td>50.0</td>\n",
       "      <td>162</td>\n",
       "      <td>2</td>\n",
       "      <td>1</td>\n",
       "      <td>0</td>\n",
       "      <td>0</td>\n",
       "      <td>0</td>\n",
       "      <td>0</td>\n",
       "      <td>...</td>\n",
       "      <td>0</td>\n",
       "      <td>0</td>\n",
       "      <td>0</td>\n",
       "      <td>0</td>\n",
       "      <td>0</td>\n",
       "      <td>0</td>\n",
       "      <td>0</td>\n",
       "      <td>0</td>\n",
       "      <td>0</td>\n",
       "      <td>0</td>\n",
       "    </tr>\n",
       "    <tr>\n",
       "      <th>4</th>\n",
       "      <td>745</td>\n",
       "      <td>955</td>\n",
       "      <td>250.0</td>\n",
       "      <td>1489</td>\n",
       "      <td>3</td>\n",
       "      <td>1</td>\n",
       "      <td>0</td>\n",
       "      <td>0</td>\n",
       "      <td>0</td>\n",
       "      <td>0</td>\n",
       "      <td>...</td>\n",
       "      <td>0</td>\n",
       "      <td>0</td>\n",
       "      <td>0</td>\n",
       "      <td>0</td>\n",
       "      <td>0</td>\n",
       "      <td>0</td>\n",
       "      <td>0</td>\n",
       "      <td>0</td>\n",
       "      <td>0</td>\n",
       "      <td>0</td>\n",
       "    </tr>\n",
       "  </tbody>\n",
       "</table>\n",
       "<p>5 rows × 137 columns</p>\n",
       "</div>"
      ],
      "text/plain": [
       "   CRSDepTime  CRSArrTime  CRSElapsedTime  Distance  FlightStatus  Month_1  \\\n",
       "0         735        1000           145.0       810             2        1   \n",
       "1         620         750            90.0       515             2        1   \n",
       "2         700         915           135.0       828             2        1   \n",
       "3        1020        1010            50.0       162             2        1   \n",
       "4         745         955           250.0      1489             3        1   \n",
       "\n",
       "   Month_2  Month_11  Month_12  Origin_ABQ  ...  Dest_SEA  Dest_SFO  Dest_SJC  \\\n",
       "0        0         0         0           0  ...         0         0         0   \n",
       "1        0         0         0           0  ...         0         0         0   \n",
       "2        0         0         0           0  ...         0         0         0   \n",
       "3        0         0         0           0  ...         0         0         0   \n",
       "4        0         0         0           0  ...         0         0         0   \n",
       "\n",
       "   Dest_SLC  Dest_SMF  Dest_SNA  Dest_STL  Dest_TPA  Dest_TUL  Dest_TUS  \n",
       "0         0         0         0         0         1         0         0  \n",
       "1         0         0         0         0         0         0         0  \n",
       "2         0         0         0         0         0         0         0  \n",
       "3         0         0         0         0         0         0         0  \n",
       "4         0         0         0         0         0         0         0  \n",
       "\n",
       "[5 rows x 137 columns]"
      ]
     },
     "execution_count": 29,
     "metadata": {},
     "output_type": "execute_result"
    }
   ],
   "source": [
    "flights_no_out = flights_no_out.drop('Unnamed: 0', axis=1)\n",
    "flights_no_out.head()"
   ]
  },
  {
   "cell_type": "code",
   "execution_count": 30,
   "id": "special-moment",
   "metadata": {},
   "outputs": [],
   "source": [
    "# Splitting the data\n",
    "from sklearn.model_selection import train_test_split\n",
    "\n",
    "y = flights_no_out['FlightStatus']\n",
    "X = flights_no_out.drop(['FlightStatus'],axis=1)\n",
    "\n",
    "X_train, X_test, y_train, y_test = train_test_split(X, y, test_size = 0.3)"
   ]
  },
  {
   "cell_type": "code",
   "execution_count": 31,
   "id": "7126cfe1",
   "metadata": {},
   "outputs": [],
   "source": [
    "# Obtaining class labels for future use \n",
    "classes = y.value_counts().index.tolist()"
   ]
  },
  {
   "cell_type": "code",
   "execution_count": 32,
   "id": "competitive-spanking",
   "metadata": {},
   "outputs": [
    {
     "name": "stdout",
     "output_type": "stream",
     "text": [
      "2    83443\n",
      "3     2731\n",
      "1      462\n",
      "0       11\n",
      "Name: FlightStatus, dtype: int64\n"
     ]
    },
    {
     "data": {
      "image/png": "[encoded data removed]",
      "text/plain": [
       "<Figure size 576x396 with 1 Axes>"
      ]
     },
     "metadata": {},
     "output_type": "display_data"
    }
   ],
   "source": [
    "# Handling imbalanced data prior to modelling using SMOTE\n",
    "\n",
    "# Visualising the imbalance first\n",
    "print(y_train.value_counts())\n",
    "plt.hist(y_train)\n",
    "plt.show()"
   ]
  },
  {
   "cell_type": "code",
   "execution_count": 33,
   "id": "metric-inspector",
   "metadata": {
    "collapsed": true
   },
   "outputs": [
    {
     "name": "stdout",
     "output_type": "stream",
     "text": [
      "Requirement already satisfied: imblearn in c:\\programdata\\anaconda3\\lib\\site-packages (0.0)\n",
      "Requirement already satisfied: imbalanced-learn in c:\\programdata\\anaconda3\\lib\\site-packages (from imblearn) (0.8.1)\n",
      "Requirement already satisfied: numpy>=1.13.3 in c:\\users\\buse\\appdata\\roaming\\python\\python38\\site-packages (from imbalanced-learn->imblearn) (1.19.5)\n",
      "Requirement already satisfied: joblib>=0.11 in c:\\programdata\\anaconda3\\lib\\site-packages (from imbalanced-learn->imblearn) (1.0.1)\n",
      "Requirement already satisfied: scipy>=0.19.1 in c:\\programdata\\anaconda3\\lib\\site-packages (from imbalanced-learn->imblearn) (1.6.2)\n",
      "Requirement already satisfied: scikit-learn>=0.24 in c:\\programdata\\anaconda3\\lib\\site-packages (from imbalanced-learn->imblearn) (0.24.1)\n",
      "Requirement already satisfied: threadpoolctl>=2.0.0 in c:\\programdata\\anaconda3\\lib\\site-packages (from scikit-learn>=0.24->imbalanced-learn->imblearn) (2.1.0)\n"
     ]
    }
   ],
   "source": [
    "# SMOTE on Training Data\n",
    "!pip install imblearn\n",
    "from imblearn.over_sampling import SMOTE\n",
    "from collections import Counter\n",
    "from matplotlib import pyplot\n",
    "from numpy import where"
   ]
  },
  {
   "cell_type": "code",
   "execution_count": 34,
   "id": "institutional-steal",
   "metadata": {},
   "outputs": [
    {
     "data": {
      "image/png": "[encoded data removed]",
      "text/plain": [
       "<Figure size 576x396 with 1 Axes>"
      ]
     },
     "metadata": {},
     "output_type": "display_data"
    }
   ],
   "source": [
    "y_train=y_train.astype('int')\n",
    "y_test=y_test.astype('int')\n",
    "y=y.astype('int')\n",
    "\n",
    "sm = SMOTE(k_neighbors=2)\n",
    "X_train, y_train = sm.fit_resample(X_train, y_train)\n",
    "\n",
    "# Visualising balanced data by SMOTE\n",
    "plt.hist(y_train)\n",
    "plt.show()"
   ]
  },
  {
   "cell_type": "code",
   "execution_count": 35,
   "id": "flexible-trial",
   "metadata": {},
   "outputs": [],
   "source": [
    "# Standardisation\n",
    "from sklearn.preprocessing import StandardScaler\n",
    "\n",
    "# Scaling the training and the test data\n",
    "# As the mean and std dev of test data is unknown, the test set is scaled with the mean and std dev of training data \n",
    "# to avoid data leakage and provide realism\n",
    "\n",
    "X_train_st = StandardScaler().fit_transform(X_train)\n",
    "X_test_st = StandardScaler().fit(X_train).transform(X_test)"
   ]
  },
  {
   "cell_type": "markdown",
   "id": "level-hollywood",
   "metadata": {},
   "source": [
    "**Part 4: Modelling**"
   ]
  },
  {
   "cell_type": "code",
   "execution_count": 36,
   "id": "subtle-label",
   "metadata": {
    "collapsed": true
   },
   "outputs": [
    {
     "name": "stdout",
     "output_type": "stream",
     "text": [
      "Requirement already satisfied: yellowbrick in c:\\users\\buse\\appdata\\roaming\\python\\python38\\site-packages (1.3.post1)\n",
      "Requirement already satisfied: scipy>=1.0.0 in c:\\programdata\\anaconda3\\lib\\site-packages (from yellowbrick) (1.6.2)\n",
      "Requirement already satisfied: scikit-learn>=0.20 in c:\\programdata\\anaconda3\\lib\\site-packages (from yellowbrick) (0.24.1)\n",
      "Requirement already satisfied: cycler>=0.10.0 in c:\\programdata\\anaconda3\\lib\\site-packages (from yellowbrick) (0.10.0)\n",
      "Requirement already satisfied: matplotlib!=3.0.0,>=2.0.2 in c:\\programdata\\anaconda3\\lib\\site-packages (from yellowbrick) (3.3.4)\n",
      "Requirement already satisfied: numpy<1.20,>=1.16.0 in c:\\users\\buse\\appdata\\roaming\\python\\python38\\site-packages (from yellowbrick) (1.19.5)\n",
      "Requirement already satisfied: six in c:\\programdata\\anaconda3\\lib\\site-packages (from cycler>=0.10.0->yellowbrick) (1.15.0)\n",
      "Requirement already satisfied: pillow>=6.2.0 in c:\\programdata\\anaconda3\\lib\\site-packages (from matplotlib!=3.0.0,>=2.0.2->yellowbrick) (8.2.0)\n",
      "Requirement already satisfied: python-dateutil>=2.1 in c:\\programdata\\anaconda3\\lib\\site-packages (from matplotlib!=3.0.0,>=2.0.2->yellowbrick) (2.8.1)\n",
      "Requirement already satisfied: kiwisolver>=1.0.1 in c:\\programdata\\anaconda3\\lib\\site-packages (from matplotlib!=3.0.0,>=2.0.2->yellowbrick) (1.3.1)\n",
      "Requirement already satisfied: pyparsing!=2.0.4,!=2.1.2,!=2.1.6,>=2.0.3 in c:\\programdata\\anaconda3\\lib\\site-packages (from matplotlib!=3.0.0,>=2.0.2->yellowbrick) (2.4.7)\n",
      "Requirement already satisfied: joblib>=0.11 in c:\\programdata\\anaconda3\\lib\\site-packages (from scikit-learn>=0.20->yellowbrick) (1.0.1)\n",
      "Requirement already satisfied: threadpoolctl>=2.0.0 in c:\\programdata\\anaconda3\\lib\\site-packages (from scikit-learn>=0.20->yellowbrick) (2.1.0)\n"
     ]
    }
   ],
   "source": [
    "#Initial packages and metrics for model outputs\n",
    "from numpy import mean\n",
    "from numpy import std\n",
    "from sklearn.pipeline import make_pipeline\n",
    "from sklearn.model_selection import GridSearchCV\n",
    "from sklearn.model_selection import StratifiedKFold\n",
    "from sklearn.model_selection import cross_val_score\n",
    "from sklearn.metrics import auc\n",
    "from sklearn.metrics import accuracy_score\n",
    "from sklearn.metrics import roc_auc_score\n",
    "from sklearn.preprocessing import LabelBinarizer\n",
    "from sklearn.metrics import classification_report\n",
    "from sklearn.metrics import f1_score\n",
    "\n",
    "#Visualizers\n",
    "!pip install --upgrade yellowbrick --user\n",
    "from yellowbrick.classifier import ClassificationReport\n",
    "from yellowbrick.classifier import ConfusionMatrix\n",
    "import matplotlib.pyplot as plt\n",
    "\n",
    "import warnings\n",
    "warnings.filterwarnings('ignore')"
   ]
  },
  {
   "cell_type": "code",
   "execution_count": 37,
   "id": "d9793669",
   "metadata": {},
   "outputs": [],
   "source": [
    "# Creating a roc_auc function for multi-class using label binarizer to avoid errors during modelling\n",
    "def multiclass_roc_auc_score(y_test, y_pred, average=\"macro\"):\n",
    "    y_test=y_test.astype('int')\n",
    "    lb = LabelBinarizer()    \n",
    "    lb.fit(y_test)\n",
    "    y_test = lb.transform(y_test)    \n",
    "    y_pred = lb.transform(y_pred)\n",
    "    return roc_auc_score(y_test, y_pred, average=average)"
   ]
  },
  {
   "cell_type": "code",
   "execution_count": 38,
   "id": "235323a3",
   "metadata": {},
   "outputs": [],
   "source": [
    "# Defining stratified k-fold for cross-validation\n",
    "stratified_kfold = StratifiedKFold(n_splits=3,\n",
    "                                   shuffle=True,\n",
    "                                   random_state=10)"
   ]
  },
  {
   "cell_type": "code",
   "execution_count": 16,
   "id": "varying-replica",
   "metadata": {},
   "outputs": [],
   "source": [
    "# Model 1: Logistic Regression and Logistic Regression with Ridge\n",
    "from sklearn.linear_model import LogisticRegression\n",
    "y_train_arr = np.array(y_train)\n",
    "y_test_arr = np.array(y_test)"
   ]
  },
  {
   "cell_type": "code",
   "execution_count": 18,
   "id": "2cc2e9d4",
   "metadata": {},
   "outputs": [],
   "source": [
    "#Model 1.1 Logistic Regression\n",
    "logistic = LogisticRegression(multi_class='multinomial',\n",
    "    penalty='none',\n",
    "    solver='newton-cg', C=0.5)\n",
    "\n",
    "logi_fit = logistic.fit(X_train_st,y_train_arr)\n",
    "predictions_logi = logi_fit.predict(X_test_st)"
   ]
  },
  {
   "cell_type": "code",
   "execution_count": 102,
   "id": "7311fbe8",
   "metadata": {},
   "outputs": [
    {
     "name": "stdout",
     "output_type": "stream",
     "text": [
      "Accuracy: 0.885956644674835\n",
      "AUC: 0.569904997820218\n"
     ]
    }
   ],
   "source": [
    "print(\"Accuracy: \"+str(accuracy_score(y_test_arr,predictions_logi)))\n",
    "print('AUC:',multiclass_roc_auc_score(y_test_arr,predictions_logi))"
   ]
  },
  {
   "cell_type": "code",
   "execution_count": 125,
   "id": "26bf2e96",
   "metadata": {},
   "outputs": [
    {
     "name": "stdout",
     "output_type": "stream",
     "text": [
      "AUC: 0.9258920156186885\n"
     ]
    }
   ],
   "source": [
    "#micro\n",
    "print('AUC:',multiclass_roc_auc_score(y_test_arr,predictions_logi))"
   ]
  },
  {
   "cell_type": "code",
   "execution_count": 103,
   "id": "1ccf0ab6",
   "metadata": {},
   "outputs": [
    {
     "name": "stdout",
     "output_type": "stream",
     "text": [
      "Accuracy of Model with Cross Validation is: 77.00894999520106\n",
      "Test score: 77.00894999520106\n"
     ]
    }
   ],
   "source": [
    "accuracy = cross_val_score(logistic, X_train_st, y_train_arr, scoring='accuracy', cv = stratified_kfold)\n",
    "print(\"Accuracy of Model with Cross Validation is:\",accuracy.mean() * 100)\n",
    "test_score = cross_val_score(logistic, X_test_st, y_test_arr, scoring='accuracy', cv = stratified_kfold)\n",
    "print(\"Test score:\",accuracy.mean() * 100)"
   ]
  },
  {
   "cell_type": "code",
   "execution_count": 123,
   "id": "f67e7acd",
   "metadata": {},
   "outputs": [
    {
     "name": "stdout",
     "output_type": "stream",
     "text": [
      "0.888838023428033\n"
     ]
    }
   ],
   "source": [
    "f1 = f1_score(y_test_arr, predictions_logi, average=\"micro\")\n",
    "print(f1)"
   ]
  },
  {
   "cell_type": "code",
   "execution_count": 129,
   "id": "e7292789",
   "metadata": {},
   "outputs": [
    {
     "name": "stdout",
     "output_type": "stream",
     "text": [
      "0.2939239136496466\n"
     ]
    }
   ],
   "source": [
    "f1 = f1_score(y_test_arr, predictions_logi, average=\"macro\")\n",
    "print(f1)"
   ]
  },
  {
   "cell_type": "code",
   "execution_count": 104,
   "id": "9e246e8c",
   "metadata": {},
   "outputs": [
    {
     "name": "stdout",
     "output_type": "stream",
     "text": [
      "Accuracy: 0.8862259324087788\n",
      "AUC: 0.5694095839709391\n"
     ]
    }
   ],
   "source": [
    "#Model 1.2 Ridge Logistic Regression\n",
    "ridge_logistic = LogisticRegression(multi_class='multinomial',\n",
    "    penalty='l2',\n",
    "    solver='newton-cg', C=0.5).fit(X_train_st,y_train_arr)\n",
    "\n",
    "predictions_ridge = ridge_logistic.predict(X_test_st)\n",
    "\n",
    "print(\"Accuracy: \"+str(accuracy_score(y_test_arr,predictions_ridge)))\n",
    "print('AUC:',multiclass_roc_auc_score(y_test_arr,predictions_ridge))"
   ]
  },
  {
   "cell_type": "code",
   "execution_count": 105,
   "id": "dbc03e47",
   "metadata": {},
   "outputs": [
    {
     "name": "stdout",
     "output_type": "stream",
     "text": [
      "Accuracy of Model with Cross Validation is: 77.04704146271236\n",
      "Test score: 77.04704146271236\n"
     ]
    }
   ],
   "source": [
    "accuracy = cross_val_score(ridge_logistic, X_train_st, y_train_arr, scoring='accuracy', cv = stratified_kfold)\n",
    "print(\"Accuracy of Model with Cross Validation is:\",accuracy.mean() * 100)\n",
    "test_score = cross_val_score(ridge_logistic, X_test_st, y_test_arr, scoring='accuracy', cv = stratified_kfold)\n",
    "print(\"Test score:\",accuracy.mean() * 100)"
   ]
  },
  {
   "cell_type": "code",
   "execution_count": 121,
   "id": "157897fd",
   "metadata": {},
   "outputs": [
    {
     "name": "stdout",
     "output_type": "stream",
     "text": [
      "0.889134239935371\n"
     ]
    }
   ],
   "source": [
    "f1mic = f1_score(y_test_arr, predictions_ridge, average=\"micro\")\n",
    "print(f1)"
   ]
  },
  {
   "cell_type": "code",
   "execution_count": 126,
   "id": "6a59533b",
   "metadata": {},
   "outputs": [
    {
     "name": "stdout",
     "output_type": "stream",
     "text": [
      "0.29429011248505693\n"
     ]
    }
   ],
   "source": [
    "f1mac = f1_score(y_test_arr, predictions_ridge, average=\"macro\")\n",
    "print(f1)"
   ]
  },
  {
   "cell_type": "code",
   "execution_count": 106,
   "id": "43dd8ebd",
   "metadata": {},
   "outputs": [],
   "source": [
    "# Model 2: Decision trees - Random forest and Gradient Boosting\n",
    "from sklearn.ensemble import RandomForestClassifier\n",
    "from sklearn.ensemble import GradientBoostingClassifier"
   ]
  },
  {
   "cell_type": "code",
   "execution_count": 38,
   "id": "b75879d0",
   "metadata": {},
   "outputs": [
    {
     "name": "stdout",
     "output_type": "stream",
     "text": [
      "Accuracy: 0.9274808132489565\n",
      "AUC: 0.5296139272466874\n",
      "Prediction: [2 2 2 2 2 2 3 2 2 2]\n"
     ]
    }
   ],
   "source": [
    "# Model 2.1: Random Forest\n",
    "rf = RandomForestClassifier(n_estimators = 500)\n",
    "\n",
    "rf.fit(X_train,y_train.values.ravel())\n",
    "prediction_rf = rf.predict(X_test)\n",
    "\n",
    "print('Accuracy:', accuracy_score(y_test,prediction_rf))\n",
    "print('AUC:',multiclass_roc_auc_score(y_test,prediction_rf))\n",
    "print('Prediction:',prediction_rf[0:10])"
   ]
  },
  {
   "cell_type": "code",
   "execution_count": 45,
   "id": "e2f3b9a7",
   "metadata": {},
   "outputs": [
    {
     "name": "stdout",
     "output_type": "stream",
     "text": [
      "Accuracy of Model with Cross Validation is: 98.01590159015902\n",
      "Test score: 98.01590159015902\n"
     ]
    }
   ],
   "source": [
    "accuracy = cross_val_score(rf, X_train, y_train, scoring='accuracy', cv = stratified_kfold)\n",
    "print(\"Accuracy of Model with Cross Validation is:\",accuracy.mean() * 100)\n",
    "test_score = cross_val_score(rf, X_test, y_test, scoring='accuracy', cv = stratified_kfold)\n",
    "print(\"Test score:\",accuracy.mean() * 100)"
   ]
  },
  {
   "cell_type": "code",
   "execution_count": 42,
   "id": "d4457514",
   "metadata": {},
   "outputs": [],
   "source": [
    "prediction_prob = rf.predict_proba(X_test)\n",
    "#print('Prediction:',prediction_prob[0:10])"
   ]
  },
  {
   "cell_type": "code",
   "execution_count": 120,
   "id": "8313c7b8",
   "metadata": {},
   "outputs": [
    {
     "name": "stdout",
     "output_type": "stream",
     "text": [
      "0.9283694627709708\n"
     ]
    }
   ],
   "source": [
    "f1 = f1_score(y_test, prediction_rf, average=\"micro\")\n",
    "print(f1)"
   ]
  },
  {
   "cell_type": "code",
   "execution_count": 127,
   "id": "c5717b72",
   "metadata": {},
   "outputs": [
    {
     "name": "stdout",
     "output_type": "stream",
     "text": [
      "0.2765598634387578\n"
     ]
    }
   ],
   "source": [
    "f1 = f1_score(y_test, prediction_rf, average=\"macro\")\n",
    "print(f1)"
   ]
  },
  {
   "cell_type": "code",
   "execution_count": 46,
   "id": "c92efc92",
   "metadata": {},
   "outputs": [
    {
     "name": "stdout",
     "output_type": "stream",
     "text": [
      "Accuracy: 0.8876531573986804\n",
      "AUC: 0.5765456170281614\n"
     ]
    }
   ],
   "source": [
    "# Model 2.2: Boosting using GradientBoostingClassifier\n",
    "gradient = GradientBoostingClassifier(n_estimators = 500)\n",
    "gradient.fit(X_train,y_train.values.ravel())\n",
    "prediction_gradient = gradient.predict(X_test)\n",
    "prediction_prob = gradient.predict_proba(X_test)\n",
    "\n",
    "print('Accuracy:', accuracy_score(y_test,prediction_gradient))\n",
    "print('AUC:', multiclass_roc_auc_score(y_test,prediction_gradient))"
   ]
  },
  {
   "cell_type": "code",
   "execution_count": 47,
   "id": "50384246",
   "metadata": {},
   "outputs": [
    {
     "name": "stdout",
     "output_type": "stream",
     "text": [
      "Accuracy of Model with Cross Validation is: 89.6066606660666\n",
      "Test score: 89.6066606660666\n"
     ]
    }
   ],
   "source": [
    "accuracy = cross_val_score(gradient, X_train, y_train, scoring='accuracy', cv = stratified_kfold)\n",
    "print(\"Accuracy of Model with Cross Validation is:\",accuracy.mean() * 100)\n",
    "test_score = cross_val_score(gradient, X_test, y_test, scoring='accuracy', cv = stratified_kfold)\n",
    "print(\"Test score:\",accuracy.mean() * 100)"
   ]
  },
  {
   "cell_type": "code",
   "execution_count": null,
   "id": "7b682777",
   "metadata": {},
   "outputs": [],
   "source": [
    "gradient = GradientBoostingClassifier(n_estimators = 500)\n",
    "gradient.fit(X_train,y_train.values.ravel())\n",
    "prediction_gradient = gradient.predict(X_test)\n",
    "prediction_prob = gradient.predict_proba(X_test)\n",
    "\n",
    "f1 = f1_score(y_test, prediction_gradient, average=\"micro\")\n",
    "print(f1)"
   ]
  },
  {
   "cell_type": "code",
   "execution_count": null,
   "id": "04aa22ce",
   "metadata": {},
   "outputs": [],
   "source": [
    "f1 = f1_score(y_test, prediction_gradient, average=\"macro\")\n",
    "print(f1)"
   ]
  },
  {
   "cell_type": "code",
   "execution_count": 48,
   "id": "c21e8e95",
   "metadata": {},
   "outputs": [
    {
     "name": "stdout",
     "output_type": "stream",
     "text": [
      "Random Forest\n",
      "Variable CRSDepTime 0.13312981098676901\n",
      "Variable CRSArrTime 0.126981666254937\n",
      "Variable CRSElapsedTime 0.15578543503477033\n",
      "Variable Distance 0.1379832493264235\n",
      "Variable Month_12 0.1060855397764196\n"
     ]
    }
   ],
   "source": [
    "# Random forest - 5 most important features\n",
    "print('Random Forest')\n",
    "for c, column in enumerate(X.columns):\n",
    "    if rf.feature_importances_[c] in sorted(rf.feature_importances_)[-5:]:\n",
    "        print('Variable',column,rf.feature_importances_[c])"
   ]
  },
  {
   "cell_type": "code",
   "execution_count": 49,
   "id": "8f349ae7",
   "metadata": {
    "collapsed": true
   },
   "outputs": [
    {
     "name": "stdout",
     "output_type": "stream",
     "text": [
      "Gradient Boost\n",
      "Variable CRSDepTime 0.08474370013740651\n",
      "Variable CRSArrTime 0.08273482985150084\n",
      "Variable CRSElapsedTime 0.19204557912936365\n",
      "Variable Distance 0.07134813631763466\n",
      "Variable Month_12 0.2220354535285631\n"
     ]
    }
   ],
   "source": [
    "# Gradient Boost - 5 most important features\n",
    "print('Gradient Boost')\n",
    "for c, column in enumerate(X.columns):\n",
    "    if gradient.feature_importances_[c] in sorted(gradient.feature_importances_)[-5:]:\n",
    "        print('Variable',column,gradient.feature_importances_[c])"
   ]
  },
  {
   "cell_type": "code",
   "execution_count": 14,
   "id": "systematic-nightlife",
   "metadata": {},
   "outputs": [
    {
     "name": "stdout",
     "output_type": "stream",
     "text": [
      "0.5741445095027836\n",
      "0.48089403527669317\n"
     ]
    }
   ],
   "source": [
    "# Model 3: Naive Bayes\n",
    "from sklearn.naive_bayes import GaussianNB\n",
    "gnb = GaussianNB().fit(X_train, y_train)\n",
    "gnb_predictions = gnb.predict(X_test)\n",
    " \n",
    "accuracy_train = gnb.score(X_train, y_train)\n",
    "print(accuracy_train)\n",
    "accuracy_test = gnb.score(X_test, y_test)\n",
    "print(accuracy_test)"
   ]
  },
  {
   "cell_type": "code",
   "execution_count": 72,
   "id": "e5bf081e",
   "metadata": {},
   "outputs": [
    {
     "name": "stdout",
     "output_type": "stream",
     "text": [
      "AUC: 0.4996955498095328\n"
     ]
    }
   ],
   "source": [
    "print('AUC:', multiclass_roc_auc_score(y_test,gnb_predictions))"
   ]
  },
  {
   "cell_type": "code",
   "execution_count": 17,
   "id": "036f0e73",
   "metadata": {},
   "outputs": [
    {
     "name": "stdout",
     "output_type": "stream",
     "text": [
      "Accuracy of poly kernel with cross-validation is: 52.25181086206888\n",
      "Test score: 52.25181086206888\n"
     ]
    }
   ],
   "source": [
    "accuracy = cross_val_score(gnb, X_train_st, y_train_arr, scoring='accuracy', cv = stratified_kfold)\n",
    "print(\"Accuracy of poly kernel with cross-validation is:\",accuracy.mean() * 100)\n",
    "test_score = cross_val_score(gnb, X_test_st, y_test_arr, scoring='accuracy', cv = stratified_kfold)\n",
    "print(\"Test score:\",accuracy.mean() * 100)"
   ]
  },
  {
   "cell_type": "code",
   "execution_count": 130,
   "id": "95c8bdf8",
   "metadata": {
    "collapsed": true
   },
   "outputs": [
    {
     "name": "stdout",
     "output_type": "stream",
     "text": [
      "0.4665948566042817\n"
     ]
    }
   ],
   "source": [
    "f1 = f1_score(y_test, gnb_predictions, average=\"micro\")\n",
    "print(f1)"
   ]
  },
  {
   "cell_type": "code",
   "execution_count": 131,
   "id": "c79a7d95",
   "metadata": {
    "collapsed": true
   },
   "outputs": [
    {
     "name": "stdout",
     "output_type": "stream",
     "text": [
      "0.17565647792523917\n"
     ]
    }
   ],
   "source": [
    "f1 = f1_score(y_test, gnb_predictions, average=\"macro\")\n",
    "print(f1)"
   ]
  },
  {
   "cell_type": "code",
   "execution_count": 59,
   "id": "5ff33932",
   "metadata": {
    "collapsed": true
   },
   "outputs": [
    {
     "name": "stdout",
     "output_type": "stream",
     "text": [
      "Requirement already satisfied: tensorflow in c:\\users\\buse\\appdata\\roaming\\python\\python38\\site-packages (2.7.0)\n",
      "Requirement already satisfied: protobuf>=3.9.2 in c:\\users\\buse\\appdata\\roaming\\python\\python38\\site-packages (from tensorflow) (3.19.1)\n",
      "Requirement already satisfied: keras-preprocessing>=1.1.1 in c:\\users\\buse\\appdata\\roaming\\python\\python38\\site-packages (from tensorflow) (1.1.2)\n",
      "Requirement already satisfied: keras<2.8,>=2.7.0rc0 in c:\\programdata\\anaconda3\\lib\\site-packages (from tensorflow) (2.7.0)\n",
      "Requirement already satisfied: gast<0.5.0,>=0.2.1 in c:\\users\\buse\\appdata\\roaming\\python\\python38\\site-packages (from tensorflow) (0.4.0)\n",
      "Requirement already satisfied: opt-einsum>=2.3.2 in c:\\users\\buse\\appdata\\roaming\\python\\python38\\site-packages (from tensorflow) (3.3.0)\n",
      "Requirement already satisfied: typing-extensions>=3.6.6 in c:\\programdata\\anaconda3\\lib\\site-packages (from tensorflow) (3.7.4.3)\n",
      "Requirement already satisfied: numpy>=1.14.5 in c:\\users\\buse\\appdata\\roaming\\python\\python38\\site-packages (from tensorflow) (1.19.5)\n",
      "Requirement already satisfied: libclang>=9.0.1 in c:\\users\\buse\\appdata\\roaming\\python\\python38\\site-packages (from tensorflow) (12.0.0)\n",
      "Requirement already satisfied: wheel<1.0,>=0.32.0 in c:\\programdata\\anaconda3\\lib\\site-packages (from tensorflow) (0.36.2)\n",
      "Requirement already satisfied: google-pasta>=0.1.1 in c:\\users\\buse\\appdata\\roaming\\python\\python38\\site-packages (from tensorflow) (0.2.0)\n",
      "Requirement already satisfied: flatbuffers<3.0,>=1.12 in c:\\users\\buse\\appdata\\roaming\\python\\python38\\site-packages (from tensorflow) (2.0)\n",
      "Requirement already satisfied: tensorflow-io-gcs-filesystem>=0.21.0 in c:\\users\\buse\\appdata\\roaming\\python\\python38\\site-packages (from tensorflow) (0.22.0)\n",
      "Requirement already satisfied: astunparse>=1.6.0 in c:\\users\\buse\\appdata\\roaming\\python\\python38\\site-packages (from tensorflow) (1.6.3)\n",
      "Requirement already satisfied: h5py>=2.9.0 in c:\\programdata\\anaconda3\\lib\\site-packages (from tensorflow) (2.10.0)\n",
      "Requirement already satisfied: tensorboard~=2.6 in c:\\users\\buse\\appdata\\roaming\\python\\python38\\site-packages (from tensorflow) (2.7.0)\n",
      "Requirement already satisfied: wrapt>=1.11.0 in c:\\programdata\\anaconda3\\lib\\site-packages (from tensorflow) (1.12.1)\n",
      "Requirement already satisfied: termcolor>=1.1.0 in c:\\users\\buse\\appdata\\roaming\\python\\python38\\site-packages (from tensorflow) (1.1.0)\n",
      "Requirement already satisfied: tensorflow-estimator<2.8,~=2.7.0rc0 in c:\\users\\buse\\appdata\\roaming\\python\\python38\\site-packages (from tensorflow) (2.7.0)\n",
      "Requirement already satisfied: absl-py>=0.4.0 in c:\\users\\buse\\appdata\\roaming\\python\\python38\\site-packages (from tensorflow) (1.0.0)\n",
      "Requirement already satisfied: six>=1.12.0 in c:\\programdata\\anaconda3\\lib\\site-packages (from tensorflow) (1.15.0)\n",
      "Requirement already satisfied: grpcio<2.0,>=1.24.3 in c:\\users\\buse\\appdata\\roaming\\python\\python38\\site-packages (from tensorflow) (1.42.0)\n",
      "Requirement already satisfied: requests<3,>=2.21.0 in c:\\programdata\\anaconda3\\lib\\site-packages (from tensorboard~=2.6->tensorflow) (2.25.1)\n",
      "Requirement already satisfied: google-auth-oauthlib<0.5,>=0.4.1 in c:\\users\\buse\\appdata\\roaming\\python\\python38\\site-packages (from tensorboard~=2.6->tensorflow) (0.4.6)\n",
      "Requirement already satisfied: markdown>=2.6.8 in c:\\users\\buse\\appdata\\roaming\\python\\python38\\site-packages (from tensorboard~=2.6->tensorflow) (3.3.6)\n",
      "Requirement already satisfied: werkzeug>=0.11.15 in c:\\programdata\\anaconda3\\lib\\site-packages (from tensorboard~=2.6->tensorflow) (1.0.1)\n",
      "Requirement already satisfied: tensorboard-data-server<0.7.0,>=0.6.0 in c:\\users\\buse\\appdata\\roaming\\python\\python38\\site-packages (from tensorboard~=2.6->tensorflow) (0.6.1)\n",
      "Requirement already satisfied: google-auth<3,>=1.6.3 in c:\\users\\buse\\appdata\\roaming\\python\\python38\\site-packages (from tensorboard~=2.6->tensorflow) (2.3.3)\n",
      "Requirement already satisfied: tensorboard-plugin-wit>=1.6.0 in c:\\users\\buse\\appdata\\roaming\\python\\python38\\site-packages (from tensorboard~=2.6->tensorflow) (1.8.0)\n",
      "Requirement already satisfied: setuptools>=41.0.0 in c:\\programdata\\anaconda3\\lib\\site-packages (from tensorboard~=2.6->tensorflow) (52.0.0.post20210125)\n",
      "Requirement already satisfied: pyasn1-modules>=0.2.1 in c:\\programdata\\anaconda3\\lib\\site-packages (from google-auth<3,>=1.6.3->tensorboard~=2.6->tensorflow) (0.2.8)\n",
      "Requirement already satisfied: rsa<5,>=3.1.4 in c:\\programdata\\anaconda3\\lib\\site-packages (from google-auth<3,>=1.6.3->tensorboard~=2.6->tensorflow) (4.8)\n",
      "Requirement already satisfied: cachetools<5.0,>=2.0.0 in c:\\programdata\\anaconda3\\lib\\site-packages (from google-auth<3,>=1.6.3->tensorboard~=2.6->tensorflow) (4.2.4)\n",
      "Requirement already satisfied: requests-oauthlib>=0.7.0 in c:\\programdata\\anaconda3\\lib\\site-packages (from google-auth-oauthlib<0.5,>=0.4.1->tensorboard~=2.6->tensorflow) (1.3.0)\n",
      "Requirement already satisfied: importlib-metadata>=4.4 in c:\\users\\buse\\appdata\\roaming\\python\\python38\\site-packages (from markdown>=2.6.8->tensorboard~=2.6->tensorflow) (4.8.2)\n",
      "Requirement already satisfied: zipp>=0.5 in c:\\programdata\\anaconda3\\lib\\site-packages (from importlib-metadata>=4.4->markdown>=2.6.8->tensorboard~=2.6->tensorflow) (3.4.1)\n",
      "Requirement already satisfied: pyasn1<0.5.0,>=0.4.6 in c:\\programdata\\anaconda3\\lib\\site-packages (from pyasn1-modules>=0.2.1->google-auth<3,>=1.6.3->tensorboard~=2.6->tensorflow) (0.4.8)\n",
      "Requirement already satisfied: idna<3,>=2.5 in c:\\programdata\\anaconda3\\lib\\site-packages (from requests<3,>=2.21.0->tensorboard~=2.6->tensorflow) (2.10)\n",
      "Requirement already satisfied: certifi>=2017.4.17 in c:\\programdata\\anaconda3\\lib\\site-packages (from requests<3,>=2.21.0->tensorboard~=2.6->tensorflow) (2020.12.5)\n",
      "Requirement already satisfied: urllib3<1.27,>=1.21.1 in c:\\programdata\\anaconda3\\lib\\site-packages (from requests<3,>=2.21.0->tensorboard~=2.6->tensorflow) (1.26.4)\n",
      "Requirement already satisfied: chardet<5,>=3.0.2 in c:\\programdata\\anaconda3\\lib\\site-packages (from requests<3,>=2.21.0->tensorboard~=2.6->tensorflow) (4.0.0)\n",
      "Requirement already satisfied: oauthlib>=3.0.0 in c:\\programdata\\anaconda3\\lib\\site-packages (from requests-oauthlib>=0.7.0->google-auth-oauthlib<0.5,>=0.4.1->tensorboard~=2.6->tensorflow) (3.1.1)\n",
      "Requirement already satisfied: keras in c:\\programdata\\anaconda3\\lib\\site-packages (2.7.0)\n"
     ]
    }
   ],
   "source": [
    "# Model 4: Neural Network\n",
    "!pip install tensorflow --user --no-warn-script-location\n",
    "!pip install keras --user --no-warn-script-location\n",
    "from keras.models import Sequential\n",
    "from keras.layers.core import Dense, Activation\n",
    "from tensorflow.keras.optimizers import Adam\n",
    "import keras\n",
    "from keras import metrics"
   ]
  },
  {
   "cell_type": "code",
   "execution_count": 57,
   "id": "f93a98ca",
   "metadata": {},
   "outputs": [],
   "source": [
    "# For neural network we need the multilabel version of the dataset with binary target variables:\n",
    "to_remove = ['UniqueCarrier', 'Score', 'ArrDelay', 'DepDelay', 'TotalDelay']\n",
    "flights_filtered = remove_columns(flights_filtered, to_remove)\n",
    "\n",
    "to_transform = ['Month', 'Origin', 'Dest']\n",
    "transformed_new = transform_categorical_variables(flights_filtered, to_transform)\n",
    "\n",
    "flights_nout = detect_outliers(transformed_new, 20, 0.1)\n",
    "transformed_new['outlier'] = flights_nout['outlier']\n",
    "flights_nout = transformed_new.loc[transformed_new['outlier'] == 1]\n",
    "to_remove = ['outlier']\n",
    "flights_nout = remove_columns(flights_nout, to_remove)\n",
    "flights_nout = flights_nout.reset_index(drop=True)\n",
    "\n",
    "y = flights_nout[['Cancelled', 'Diverted', 'Delayed', 'OnSchedule']]\n",
    "X = flights_nout.drop(['Cancelled', 'Diverted', 'Delayed', 'OnSchedule'], axis=1)\n",
    "\n",
    "y = np.array(y)\n",
    "        \n",
    "X_train, X_test, y_train, y_test = train_test_split(X, y, test_size = 0.3)\n",
    "\n",
    "y_train=y_train.astype('int')\n",
    "y_test=y_test.astype('int')\n",
    "y=y.astype('int')\n",
    "\n",
    "sm = SMOTE(k_neighbors=2)\n",
    "X_train, y_train = sm.fit_resample(X_train, y_train)\n",
    "\n",
    "X_train = StandardScaler().fit_transform(X_train)\n",
    "X_test = StandardScaler().fit(X_train).transform(X_test)"
   ]
  },
  {
   "cell_type": "code",
   "execution_count": 60,
   "id": "058ad926",
   "metadata": {
    "collapsed": true
   },
   "outputs": [
    {
     "name": "stdout",
     "output_type": "stream",
     "text": [
      "Epoch 1/30\n",
      "10427/10427 [==============================] - 35s 3ms/step - loss: 0.3259 - accuracy: 0.6975 - val_loss: 17.3573 - val_accuracy: 0.8441\n",
      "Epoch 2/30\n",
      "10427/10427 [==============================] - 31s 3ms/step - loss: 0.2348 - accuracy: 0.7861 - val_loss: 7.9397 - val_accuracy: 0.9178\n",
      "Epoch 3/30\n",
      "10427/10427 [==============================] - 31s 3ms/step - loss: 0.2116 - accuracy: 0.8090 - val_loss: 4.4865 - val_accuracy: 0.9606\n",
      "Epoch 4/30\n",
      "10427/10427 [==============================] - 32s 3ms/step - loss: 0.1984 - accuracy: 0.8218 - val_loss: 7.6115 - val_accuracy: 0.9607\n",
      "Epoch 5/30\n",
      "10427/10427 [==============================] - 32s 3ms/step - loss: 0.1890 - accuracy: 0.8300 - val_loss: 9.7280 - val_accuracy: 0.9607\n",
      "Epoch 6/30\n",
      "10427/10427 [==============================] - 34s 3ms/step - loss: 0.1819 - accuracy: 0.8367 - val_loss: 14.8100 - val_accuracy: 0.9607\n",
      "Epoch 7/30\n",
      "10427/10427 [==============================] - 35s 3ms/step - loss: 0.1760 - accuracy: 0.8420 - val_loss: 18.5868 - val_accuracy: 0.9607\n",
      "Epoch 8/30\n",
      "10427/10427 [==============================] - 34s 3ms/step - loss: 0.1712 - accuracy: 0.8480 - val_loss: 24.7373 - val_accuracy: 0.9607\n",
      "Epoch 9/30\n",
      "10427/10427 [==============================] - 34s 3ms/step - loss: 0.1668 - accuracy: 0.8548 - val_loss: 28.1043 - val_accuracy: 0.9607\n",
      "Epoch 10/30\n",
      "10427/10427 [==============================] - 35s 3ms/step - loss: 0.1630 - accuracy: 0.8603 - val_loss: 31.8827 - val_accuracy: 0.9607\n",
      "Epoch 11/30\n",
      "10427/10427 [==============================] - 34s 3ms/step - loss: 0.1598 - accuracy: 0.8649 - val_loss: 34.9741 - val_accuracy: 0.9607\n",
      "Epoch 12/30\n",
      "10427/10427 [==============================] - 36s 3ms/step - loss: 0.1567 - accuracy: 0.8692 - val_loss: 34.9404 - val_accuracy: 0.9607\n",
      "Epoch 13/30\n",
      "10427/10427 [==============================] - 32s 3ms/step - loss: 0.1539 - accuracy: 0.8729 - val_loss: 36.8235 - val_accuracy: 0.9607\n",
      "Model: \"sequential\"\n",
      "_________________________________________________________________\n",
      " Layer (type)                Output Shape              Param #   \n",
      "=================================================================\n",
      " dense (Dense)               (None, 50)                6850      \n",
      "                                                                 \n",
      " activation (Activation)     (None, 50)                0         \n",
      "                                                                 \n",
      " dense_1 (Dense)             (None, 50)                2550      \n",
      "                                                                 \n",
      " activation_1 (Activation)   (None, 50)                0         \n",
      "                                                                 \n",
      " dense_2 (Dense)             (None, 4)                 204       \n",
      "                                                                 \n",
      " activation_2 (Activation)   (None, 4)                 0         \n",
      "                                                                 \n",
      "=================================================================\n",
      "Total params: 9,604\n",
      "Trainable params: 9,604\n",
      "Non-trainable params: 0\n",
      "_________________________________________________________________\n"
     ]
    }
   ],
   "source": [
    "input_dim = X_train.shape[1]\n",
    "output_dim = 4\n",
    "\n",
    "model = Sequential()\n",
    "model.add(Dense(50,input_dim=input_dim))\n",
    "model.add(Activation('relu'))\n",
    "model.add(Dense(50))\n",
    "model.add(Activation('relu'))\n",
    "model.add(Dense(4))\n",
    "model.add(Activation('sigmoid'))\n",
    "model.compile(optimizer='sgd',loss='binary_crossentropy',metrics=['accuracy'])\n",
    "\n",
    "# Using keras callbacks' EarlyStopping to optimise number of epochs and prevent overfitting\n",
    "\n",
    "from keras import callbacks\n",
    "earlystopping = callbacks.EarlyStopping(monitor =\"val_loss\", \n",
    "                                        mode =\"min\", patience = 10,\n",
    "                                        restore_best_weights = True)\n",
    "\n",
    "history = model.fit(X_train, y_train, \n",
    "                    epochs = 30, validation_data =(X_test, y_test), \n",
    "                    callbacks =[earlystopping])\n",
    "\n",
    "\n",
    "model.summary()\n",
    "#model.fit(X_train,y_train,epochs=20)\n",
    "y_test_arg=np.argmax(y_test)\n",
    "\n",
    "prediction_prob = model.predict(X_test)\n",
    "prediction_class = (prediction_prob > 0.25).astype(\"int32\")"
   ]
  },
  {
   "cell_type": "code",
   "execution_count": 61,
   "id": "cb7a9a66",
   "metadata": {},
   "outputs": [
    {
     "name": "stdout",
     "output_type": "stream",
     "text": [
      "Accuracy: 0.959741483775414\n",
      "AUC: 0.5030895268920281\n"
     ]
    }
   ],
   "source": [
    "print('Accuracy:', accuracy_score(y_test,prediction_class))\n",
    "print('AUC:',roc_auc_score(y_test,prediction_prob))"
   ]
  },
  {
   "cell_type": "code",
   "execution_count": null,
   "id": "f3e32e65",
   "metadata": {},
   "outputs": [],
   "source": [
    "f1 = f1_score(y_test, prediction_class, average=\"micro\")\n",
    "print(f1)"
   ]
  },
  {
   "cell_type": "code",
   "execution_count": null,
   "id": "c93c0502",
   "metadata": {},
   "outputs": [],
   "source": [
    "f1 = f1_score(y_test, prediction_class, average=\"macro\")\n",
    "print(f1)"
   ]
  },
  {
   "cell_type": "markdown",
   "id": "alleged-yacht",
   "metadata": {},
   "source": [
    "**Part 5: Model Performance Comparison with Visualisations**"
   ]
  },
  {
   "cell_type": "code",
   "execution_count": 39,
   "id": "43383f90",
   "metadata": {
    "collapsed": true
   },
   "outputs": [
    {
     "name": "stdout",
     "output_type": "stream",
     "text": [
      "Requirement already satisfied: seaborn in c:\\programdata\\anaconda3\\lib\\site-packages (0.11.1)\n",
      "Requirement already satisfied: pandas>=0.23 in c:\\programdata\\anaconda3\\lib\\site-packages (from seaborn) (1.2.4)\n",
      "Requirement already satisfied: matplotlib>=2.2 in c:\\programdata\\anaconda3\\lib\\site-packages (from seaborn) (3.3.4)\n",
      "Requirement already satisfied: numpy>=1.15 in c:\\users\\buse\\appdata\\roaming\\python\\python38\\site-packages (from seaborn) (1.19.5)\n",
      "Requirement already satisfied: scipy>=1.0 in c:\\programdata\\anaconda3\\lib\\site-packages (from seaborn) (1.6.2)\n",
      "Requirement already satisfied: pyparsing!=2.0.4,!=2.1.2,!=2.1.6,>=2.0.3 in c:\\programdata\\anaconda3\\lib\\site-packages (from matplotlib>=2.2->seaborn) (2.4.7)\n",
      "Requirement already satisfied: cycler>=0.10 in c:\\programdata\\anaconda3\\lib\\site-packages (from matplotlib>=2.2->seaborn) (0.10.0)\n",
      "Requirement already satisfied: python-dateutil>=2.1 in c:\\programdata\\anaconda3\\lib\\site-packages (from matplotlib>=2.2->seaborn) (2.8.1)\n",
      "Requirement already satisfied: kiwisolver>=1.0.1 in c:\\programdata\\anaconda3\\lib\\site-packages (from matplotlib>=2.2->seaborn) (1.3.1)\n",
      "Requirement already satisfied: pillow>=6.2.0 in c:\\programdata\\anaconda3\\lib\\site-packages (from matplotlib>=2.2->seaborn) (8.2.0)\n",
      "Requirement already satisfied: six in c:\\programdata\\anaconda3\\lib\\site-packages (from cycler>=0.10->matplotlib>=2.2->seaborn) (1.15.0)\n",
      "Requirement already satisfied: pytz>=2017.3 in c:\\programdata\\anaconda3\\lib\\site-packages (from pandas>=0.23->seaborn) (2021.1)\n"
     ]
    }
   ],
   "source": [
    "import matplotlib.pyplot as plt\n",
    "!pip install seaborn\n",
    "import seaborn as sns"
   ]
  },
  {
   "cell_type": "code",
   "execution_count": 40,
   "id": "37ddc510",
   "metadata": {},
   "outputs": [],
   "source": [
    "from sklearn.metrics import confusion_matrix\n",
    "from sklearn.metrics import ConfusionMatrixDisplay\n",
    "from sklearn.metrics import classification_report"
   ]
  },
  {
   "cell_type": "code",
   "execution_count": 71,
   "id": "9110f958",
   "metadata": {},
   "outputs": [
    {
     "data": {
      "image/png": "[encoded data removed]",
      "text/plain": [
       "<Figure size 576x396 with 1 Axes>"
      ]
     },
     "metadata": {},
     "output_type": "display_data"
    }
   ],
   "source": [
    "#Accuracy\n",
    "models = 'Logistic', 'Ridge Logistic', 'Random Forest', 'Gradient Boost', 'Naive Bayes', 'Neural Network'\n",
    "accuracies = [77.01, 77.05, 98.02, 89.61, 52.25, 95.97]\n",
    "\n",
    "colors = sns.color_palette(\"mako\", as_cmap=False)\n",
    "\n",
    "def addlabels(models,accuracies):\n",
    "    for i in range(len(models)):\n",
    "        plt.text(i,accuracies[i],accuracies[i])\n",
    "\n",
    "plt.bar(models, accuracies, align='center', color=colors)\n",
    "addlabels(models, accuracies)\n",
    "plt.xticks(models)\n",
    "plt.ylabel('Accuracy (%)')\n",
    "plt.title('Accuracies')\n",
    "plt.show()"
   ]
  },
  {
   "cell_type": "code",
   "execution_count": 141,
   "id": "e60e8cc8",
   "metadata": {},
   "outputs": [
    {
     "data": {
      "text/html": [
       "<div>\n",
       "<style scoped>\n",
       "    .dataframe tbody tr th:only-of-type {\n",
       "        vertical-align: middle;\n",
       "    }\n",
       "\n",
       "    .dataframe tbody tr th {\n",
       "        vertical-align: top;\n",
       "    }\n",
       "\n",
       "    .dataframe thead th {\n",
       "        text-align: right;\n",
       "    }\n",
       "</style>\n",
       "<table border=\"1\" class=\"dataframe\">\n",
       "  <thead>\n",
       "    <tr style=\"text-align: right;\">\n",
       "      <th>Models</th>\n",
       "      <th>Logistic</th>\n",
       "      <th>Ridge Logistic</th>\n",
       "      <th>Random Forest</th>\n",
       "      <th>Gradient Boost</th>\n",
       "      <th>Naive Bayes</th>\n",
       "      <th>Neural Network</th>\n",
       "    </tr>\n",
       "  </thead>\n",
       "  <tbody>\n",
       "    <tr>\n",
       "      <th>ROC/AUC Score</th>\n",
       "      <td>0.57</td>\n",
       "      <td>0.57</td>\n",
       "      <td>0.53</td>\n",
       "      <td>0.58</td>\n",
       "      <td>0.50</td>\n",
       "      <td>0.52</td>\n",
       "    </tr>\n",
       "    <tr>\n",
       "      <th>Micro F1-Score</th>\n",
       "      <td>0.89</td>\n",
       "      <td>0.89</td>\n",
       "      <td>0.92</td>\n",
       "      <td>0.89</td>\n",
       "      <td>0.47</td>\n",
       "      <td>0.96</td>\n",
       "    </tr>\n",
       "    <tr>\n",
       "      <th>Macro F1-Score</th>\n",
       "      <td>0.29</td>\n",
       "      <td>0.29</td>\n",
       "      <td>0.28</td>\n",
       "      <td>0.30</td>\n",
       "      <td>0.18</td>\n",
       "      <td>0.27</td>\n",
       "    </tr>\n",
       "  </tbody>\n",
       "</table>\n",
       "</div>"
      ],
      "text/plain": [
       "Models          Logistic  Ridge Logistic  Random Forest  Gradient Boost  \\\n",
       "ROC/AUC Score       0.57            0.57           0.53            0.58   \n",
       "Micro F1-Score      0.89            0.89           0.92            0.89   \n",
       "Macro F1-Score      0.29            0.29           0.28            0.30   \n",
       "\n",
       "Models          Naive Bayes  Neural Network  \n",
       "ROC/AUC Score          0.50            0.52  \n",
       "Micro F1-Score         0.47            0.96  \n",
       "Macro F1-Score         0.18            0.27  "
      ]
     },
     "execution_count": 141,
     "metadata": {},
     "output_type": "execute_result"
    }
   ],
   "source": [
    "#AUC&F-Score\n",
    "models = ['Logistic', 'Ridge Logistic', 'Random Forest', 'Gradient Boost', 'Naive Bayes', 'Neural Network']\n",
    "ROC_AUC = [0.57, 0.57, 0.53, 0.58, 0.50, 0.52]\n",
    "f1_micro = [0.89, 0.89, 0.92, 0.89, 0.47, 0.96]\n",
    "f1_macro = [0.29, 0.29, 0.28, 0.30, 0.18, 0.27]\n",
    "\n",
    "data = {'Models': models, 'ROC/AUC Score': ROC_AUC, 'Micro F1-Score': f1_micro, 'Macro F1-Score': f1_macro}\n",
    "\n",
    "pd.DataFrame(data=data).set_index('Models').transpose()"
   ]
  },
  {
   "cell_type": "code",
   "execution_count": 58,
   "id": "abee7b7b",
   "metadata": {},
   "outputs": [],
   "source": [
    "from sklearn.ensemble import RandomForestClassifier\n",
    "\n",
    "classifiers = [RandomForestClassifier(n_estimators = 500),\n",
    "               RandomForestClassifier(n_estimators = 500, min_samples_leaf=5000)]"
   ]
  },
  {
   "cell_type": "code",
   "execution_count": 59,
   "id": "f62dd31c",
   "metadata": {},
   "outputs": [],
   "source": [
    "classes = \"cancelled\",\"diverted\",\"delayed\",\"on-schedule\"\n",
    "# Classification report\n",
    "def CR_viz():\n",
    "    def Class_report(model,classes):\n",
    "        visualizer = ClassificationReport(model, classes=classes, support=True)\n",
    "        visualizer.fit(X_train, y_train)  # Fit the visualizer and the model\n",
    "        visualizer.score(X_test, y_test)  # Evaluate the model on the test data\n",
    "        return visualizer.poof()\n",
    "    for name in classifiers:\n",
    "        ax = plt.subplot(1,1,1)\n",
    "        Class_report(name,classes)"
   ]
  },
  {
   "cell_type": "code",
   "execution_count": 60,
   "id": "2ecfe491",
   "metadata": {},
   "outputs": [
    {
     "data": {
      "image/png": "[encoded data removed]",
      "text/plain": [
       "<Figure size 576x396 with 2 Axes>"
      ]
     },
     "metadata": {},
     "output_type": "display_data"
    }
   ],
   "source": [
    "visualization =[CR_viz()]"
   ]
  },
  {
   "cell_type": "code",
   "execution_count": null,
   "id": "75d6fb90",
   "metadata": {},
   "outputs": [],
   "source": [
    "#Confusion matrix\n",
    "def CM_viz():    \n",
    "    def CM(model,classes):\n",
    "        visualizer = ConfusionMatrix(model, classes=classes,percent=True)\n",
    "        visualizer.fit(X_train, y_train)  # Fit the visualizer and the model\n",
    "        visualizer.score(X_test, y_test)  # Evaluate the model on the test data \n",
    "        return visualizer.poof()  \n",
    "    for name in classifiers:\n",
    "        ax = plt.subplot(1,1,1)\n",
    "        CM(name,classes)"
   ]
  },
  {
   "cell_type": "code",
   "execution_count": null,
   "id": "ef45ee54",
   "metadata": {},
   "outputs": [],
   "source": [
    "visualization =[CM_viz()]"
   ]
  },
  {
   "cell_type": "code",
   "execution_count": null,
   "id": "fb56ce23",
   "metadata": {},
   "outputs": [],
   "source": [
    "#For prediction insights\n",
    "X_test['FlightStatus']=prediction_rf\n",
    "X_test"
   ]
  },
  {
   "cell_type": "code",
   "execution_count": null,
   "id": "41b8b247",
   "metadata": {},
   "outputs": [],
   "source": [
    "novemberin = X_test[['Month_11','FlightStatus']]\n",
    "november = novemberin.loc[novemberin['Month_11'] == 1]\n",
    "november['FlightStatus'].value_counts()"
   ]
  },
  {
   "cell_type": "code",
   "execution_count": null,
   "id": "34000996",
   "metadata": {},
   "outputs": [],
   "source": [
    "decemberin = X_test[['Month_12','FlightStatus']]\n",
    "december = decemberin.loc[decemberin['Month_12'] == 1]\n",
    "december['FlightStatus'].value_counts()"
   ]
  },
  {
   "cell_type": "code",
   "execution_count": null,
   "id": "51957ada",
   "metadata": {},
   "outputs": [],
   "source": [
    "janin = X_test[['Month_1','FlightStatus']]\n",
    "jan = janin.loc[janin['Month_1'] == 1]\n",
    "jan['FlightStatus'].value_counts()"
   ]
  },
  {
   "cell_type": "code",
   "execution_count": null,
   "id": "7d9f43f9",
   "metadata": {},
   "outputs": [],
   "source": [
    "febin = X_test[['Month_2','FlightStatus']]\n",
    "feb = febin.loc[febin['Month_2'] == 1]\n",
    "feb['FlightStatus'].value_counts()"
   ]
  },
  {
   "cell_type": "code",
   "execution_count": null,
   "id": "15e942a2",
   "metadata": {},
   "outputs": [],
   "source": [
    "delays = X_test.loc[X_test['FlightStatus'] == 2]\n",
    "delays.loc['Total',:]= delays.sum(axis=0)\n",
    "dests = [col for col in delays.columns if 'Dest' in col]\n",
    "df = delays[dests]\n",
    "destination = df.transpose()\n",
    "destination.sort_values('Total', ascending = False)"
   ]
  }
 ],
 "metadata": {
  "kernelspec": {
   "display_name": "Python 3",
   "language": "python",
   "name": "python3"
  },
  "language_info": {
   "codemirror_mode": {
    "name": "ipython",
    "version": 3
   },
   "file_extension": ".py",
   "mimetype": "text/x-python",
   "name": "python",
   "nbconvert_exporter": "python",
   "pygments_lexer": "ipython3",
   "version": "3.8.8"
  }
 },
 "nbformat": 4,
 "nbformat_minor": 5
}
