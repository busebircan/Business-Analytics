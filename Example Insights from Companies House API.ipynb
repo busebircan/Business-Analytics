{
 "cells": [
  {
   "cell_type": "code",
   "execution_count": 50,
   "id": "6210e2b8",
   "metadata": {},
   "outputs": [],
   "source": [
    "# experimental: you can run this cell to see your code full-width\n",
    "\n",
    "from IPython.core.display import display, HTML\n",
    "display(HTML(\"<style>.container { width:100% !important; }</style>\"))"
   ]
  },
  {
   "cell_type": "markdown",
   "id": "cf72289e",
   "metadata": {},
   "source": [
    "## Answering 3 Business Questions using Companies House API"
   ]
  },
  {
   "cell_type": "markdown",
   "id": "29ee9850",
   "metadata": {},
   "source": [
    "# API we will use: Companies House\n",
    "\n",
    "Companies house is the official public  register of all companies in the UK. You can search for companiers, peope etc. You can also get basic information about many companies, or request detailed information about one company. You will need to create an account - probably best if you use your university email address. You can find more information on companies house website and https://developer.company-information.service.gov.uk/get-started. "
   ]
  },
  {
   "cell_type": "markdown",
   "id": "548d60ec",
   "metadata": {},
   "source": [
    "**All possible API calls you can make:**\n",
    "\n",
    "There is a number of calls you can make from the API. Find all the details (and info about the format of answers) here: https://developer-specs.company-information.service.gov.uk/companies-house-public-data-api/reference"
   ]
  },
  {
   "cell_type": "markdown",
   "id": "57cc3a7c",
   "metadata": {},
   "source": [
    "**Extra notes:  Standard Industrial Classification (SIC)**\n",
    "\n",
    "company infomation includes 'industry type' as a SIC code. List of codes is here: https://assets.publishing.service.gov.uk/government/uploads/system/uploads/attachment_data/file/527619/SIC07_CH_condensed_list_en.csv/preview\n",
    "\n",
    "for example:\n",
    "\n",
    "- 72200 Research and experimental development on social sciences and humanities\n",
    "- 73110 Advertising agencies\n",
    "- 73120 Media representation services\n",
    "- 73200 Market research and public opinion polling\n",
    "- 74100 specialised design activities\n",
    "- 74201 Portrait photographic activities\n",
    "- 74202 Other specialist photography\n",
    "- 74203 Film processing"
   ]
  },
  {
   "cell_type": "markdown",
   "id": "a257e29e",
   "metadata": {},
   "source": [
    "# If you do not have one yet: creating a developer account and API  key \n",
    "\n",
    "You likely already have an account and key from your previous assignments - it's probably easiest and best if you reuse that account and key."
   ]
  },
  {
   "cell_type": "markdown",
   "id": "4111af6e",
   "metadata": {},
   "source": [
    "To create a new one:\n",
    "\n",
    "- Go to 'register a user account' link https://identity.company-information.service.gov.uk/oauth2/user/signin, enter your **school email** and then click the link you received by email\n",
    "- setup a password\n",
    "- login to https://identity.company-information.service.gov.uk/oauth2/user/signin\n",
    "- go to New Application on top (https://developer.company-information.service.gov.uk/manage-applications/add)\n",
    "- ented a name and short description for your API project (just say it's a univeristy project) and choose **Live in 'environment for your application'**. Leave other options blank.\n",
    "- go to 'View all applications' (https://developer.company-information.service.gov.uk/manage-applications)\n",
    "- click on the name of your application, and then 'Create new key'\n",
    "- Select these options:\n",
    "-    Key name and description: here write anything, like 'python project'\n",
    "-    Select the type of API client key you want to create: REST\n",
    "- leave other options empty, and click 'Create Key'\n",
    "- When done, scroll down and copy-paste your key to this notebook. key will look a bit like this: \te3aaad12-fd44-4aad-9389-f7dccccc67f9\n",
    "\n",
    "Once you are set up:\n",
    "\n",
    "- all the possible requests can be found here: https://developer-specs.company-information.service.gov.uk/companies-house-public-data-api/reference\n",
    "- by the way: you are allowed to ask 600 requests within each five-minute period, after that period, you get another 600. If you use up all the 600 questions, API will make you wait for a few seconds/minutes."
   ]
  },
  {
   "cell_type": "markdown",
   "id": "7d4daaac",
   "metadata": {},
   "source": [
    "# Some functions to get started: "
   ]
  },
  {
   "cell_type": "code",
   "execution_count": 5,
   "id": "8ad22cd8",
   "metadata": {},
   "outputs": [],
   "source": [
    "# list of library for this project\n",
    "import requests\n",
    "import pprint as pp\n",
    "import datetime\n",
    "from datetime import date \n",
    "import time \n",
    "from datetime import datetime\n",
    "import math\n",
    "# you might need to add a few of your own"
   ]
  },
  {
   "cell_type": "code",
   "execution_count": 6,
   "id": "b24fd15d",
   "metadata": {},
   "outputs": [],
   "source": [
    "# function for calling the API to retrieve JSON\n",
    "def call_api_with(url_extension):\n",
    "    your_company_house_api_key =\"ec7b8729-7db6-4912-bb72-6d49b85a7fb2\"\n",
    "        \n",
    "    login_headers = {\"Authorization\":your_company_house_api_key}\n",
    "    url = f\"https://api.companieshouse.gov.uk/{url_extension}\"\n",
    "    # above: could be eg. https://api.companieshouse.gov.uk/search/companies?q=shop&items_per_page=1\n",
    "    #print(f'requesting: {url}') \n",
    "    # above, optional: printing, so that you see visually how many calls you are making\n",
    "    res = requests.get(url, headers=login_headers) #, verify=False)\n",
    "    if res.status_code == 200:\n",
    "        return res.json()\n",
    "    else:\n",
    "        print(\"status code is not 'SUCCESS 200'. Will wait 20 seconds\")\n",
    "        time.sleep(20) # sleep X seconds\n",
    "        return call_api_with(url_extension) # then make the same request that brought you here. Basiclaly try again.\n",
    "    return res.json()"
   ]
  },
  {
   "cell_type": "code",
   "execution_count": 7,
   "id": "fc5c6739",
   "metadata": {},
   "outputs": [],
   "source": [
    "# test to get one company\n",
    "def get_one_test_company_or_error():\n",
    "    url = f\"search/companies?q=shop&items_per_page=1\"\n",
    "    return call_api_with(url)"
   ]
  },
  {
   "cell_type": "code",
   "execution_count": 8,
   "id": "fc84e380",
   "metadata": {},
   "outputs": [],
   "source": [
    "# search company with specific query / keyword\n",
    "def search_for_companies_with_query(query, number_of_companies = 100):\n",
    "    # for simplicity round up the number of returned companies to the nearest hundred. eg. 130 becomes 200\n",
    "    page_size = 100\n",
    "    number_of_pages = math.ceil(number_of_companies / page_size) # round up\n",
    "    companies = []\n",
    "    for page_index in range(0, number_of_pages):\n",
    "        url = f\"search/companies?q={query}&items_per_page={page_size}&start_index={page_index*page_size}\"\n",
    "        companies += call_api_with(url).get('items', [])\n",
    "    return companies"
   ]
  },
  {
   "cell_type": "code",
   "execution_count": 9,
   "id": "a06d9d0e",
   "metadata": {},
   "outputs": [],
   "source": [
    "# request to get company data based on company number\n",
    "def data_for_company(company_number):\n",
    "    url = f\"company/{company_number}\"\n",
    "    return call_api_with(url)"
   ]
  },
  {
   "cell_type": "code",
   "execution_count": 10,
   "id": "519efbdf",
   "metadata": {},
   "outputs": [],
   "source": [
    "# get all persons with significant control from company which contains specific keyword\n",
    "def all_persons_in_company(company_number):\n",
    "    url = f\"company/{company_number}/persons-with-significant-control\"\n",
    "    return call_api_with(url).get('items', [])"
   ]
  },
  {
   "cell_type": "code",
   "execution_count": 11,
   "id": "29d6697b",
   "metadata": {},
   "outputs": [],
   "source": [
    "def detailed_info_about_companies_with_ids(companies_numbers):\n",
    "    results = []\n",
    "    for company_number in companies_numbers:\n",
    "        results.append(data_for_company(company_number))\n",
    "    return results"
   ]
  },
  {
   "cell_type": "code",
   "execution_count": 12,
   "id": "e63b61c6",
   "metadata": {},
   "outputs": [],
   "source": [
    "# you are likely to use top level functions like this one.\n",
    "def detailed_info_about_companies_with_name(name, how_many = 10):\n",
    "    # eg. unless otherwise stated, just grab 10 companies detailed info\n",
    "    companies_basic_info = search_for_companies_with_query(name, how_many)\n",
    "    companies_ids = [company['company_number'] for company in companies_basic_info]\n",
    "    companies = detailed_info_about_companies_with_ids(companies_ids[:how_many])\n",
    "    return companies"
   ]
  },
  {
   "cell_type": "code",
   "execution_count": 13,
   "id": "1ce047b9",
   "metadata": {},
   "outputs": [],
   "source": [
    "# example usage. \n",
    "# note: To save your quota limits, try to fetch data first, and them analyse it. \n",
    "details = detailed_info_about_companies_with_name('banana', how_many=15)"
   ]
  },
  {
   "cell_type": "code",
   "execution_count": 14,
   "id": "f1836011",
   "metadata": {
    "collapsed": true
   },
   "outputs": [
    {
     "name": "stdout",
     "output_type": "stream",
     "text": [
      "15\n",
      "['BANANA LTD',\n",
      " 'BANANA LTD',\n",
      " 'BANANA LIMITED',\n",
      " 'ACORN COMMERCIAL FINANCE LTD',\n",
      " 'BANANA AFRICAN RESTAURANT AND BAR LIMITED',\n",
      " 'BANANA AND CUSTARD LIMITED',\n",
      " 'BANANA & EGG LTD',\n",
      " 'BANANA & FISH ESTATES LIMITED',\n",
      " 'BANANA AND PINEAPPLE LTD',\n",
      " 'BANANA AND SALT LTD',\n",
      " 'BANANA ANGEL LTD',\n",
      " 'BANANA APPS LIMITED',\n",
      " 'BANANA AVIATION LTD',\n",
      " 'BANANA BANANA LIMITED',\n",
      " 'BANANA BANDS LTD']\n",
      "{'accounts': {'accounting_reference_date': {'day': '31', 'month': '08'},\n",
      "              'last_accounts': {'type': 'null'},\n",
      "              'next_accounts': {'due_on': '2023-05-11',\n",
      "                                'overdue': False,\n",
      "                                'period_end_on': '2022-08-31',\n",
      "                                'period_start_on': '2021-08-11'},\n",
      "              'next_due': '2023-05-11',\n",
      "              'next_made_up_to': '2022-08-31',\n",
      "              'overdue': False},\n",
      " 'can_file': True,\n",
      " 'company_name': 'BANANA LTD',\n",
      " 'company_number': '13559261',\n",
      " 'company_status': 'active',\n",
      " 'confirmation_statement': {'next_due': '2022-08-24',\n",
      "                            'next_made_up_to': '2022-08-10',\n",
      "                            'overdue': False},\n",
      " 'date_of_creation': '2021-08-11',\n",
      " 'etag': 'e3723528867c3c2f98d07b01a481d94cb9c77354',\n",
      " 'has_charges': False,\n",
      " 'has_insolvency_history': False,\n",
      " 'has_super_secure_pscs': False,\n",
      " 'jurisdiction': 'england-wales',\n",
      " 'links': {'filing_history': '/company/13559261/filing-history',\n",
      "           'officers': '/company/13559261/officers',\n",
      "           'persons_with_significant_control': '/company/13559261/persons-with-significant-control',\n",
      "           'self': '/company/13559261'},\n",
      " 'registered_office_address': {'address_line_1': '39 Athens Gardens',\n",
      "                               'country': 'United Kingdom',\n",
      "                               'locality': 'London',\n",
      "                               'postal_code': 'W9 3RT'},\n",
      " 'registered_office_is_in_dispute': False,\n",
      " 'sic_codes': ['96090'],\n",
      " 'type': 'ltd',\n",
      " 'undeliverable_registered_office_address': False}\n"
     ]
    }
   ],
   "source": [
    "pp.pprint(len(details))\n",
    "pp.pprint([detail['company_name'] for detail in details])\n",
    "pp.pprint(details[1])"
   ]
  },
  {
   "cell_type": "code",
   "execution_count": 15,
   "id": "80ca64a3",
   "metadata": {
    "collapsed": true
   },
   "outputs": [
    {
     "name": "stdout",
     "output_type": "stream",
     "text": [
      "[{'address': {'address_line_1': 'Marlborough Hill',\n",
      "              'country': 'England',\n",
      "              'locality': 'Harrow',\n",
      "              'postal_code': 'HA1 1UD',\n",
      "              'premises': 'Healthaid House'},\n",
      "  'country_of_residence': 'United Kingdom',\n",
      "  'date_of_birth': {'month': 12, 'year': 1950},\n",
      "  'etag': '4ab90109c0bbd815c6064b0f7d8f40d402f15e79',\n",
      "  'kind': 'individual-person-with-significant-control',\n",
      "  'links': {'self': '/company/10692496/persons-with-significant-control/individual/LE834qoA1WrCJ87u_FBHkWvKeog'},\n",
      "  'name': 'Mr Clive Ralph Gordon Strawford',\n",
      "  'name_elements': {'forename': 'Clive',\n",
      "                    'middle_name': 'Ralph Gordon',\n",
      "                    'surname': 'Strawford',\n",
      "                    'title': 'Mr'},\n",
      "  'nationality': 'British',\n",
      "  'natures_of_control': ['ownership-of-shares-75-to-100-percent',\n",
      "                         'voting-rights-75-to-100-percent',\n",
      "                         'right-to-appoint-and-remove-directors'],\n",
      "  'notified_on': '2017-03-27'}]\n"
     ]
    }
   ],
   "source": [
    "persons = all_persons_in_company(details[0]['company_number'])\n",
    "pp.pprint(persons)"
   ]
  },
  {
   "cell_type": "markdown",
   "id": "18915b62",
   "metadata": {},
   "source": [
    "### Business Question 1: What is the best place in the UK to open a cafe?\n",
    "\n",
    "Which city can be best for a new initiater of a cafe business?"
   ]
  },
  {
   "cell_type": "code",
   "execution_count": 16,
   "id": "bearing-northwest",
   "metadata": {},
   "outputs": [
    {
     "name": "stdout",
     "output_type": "stream",
     "text": [
      "Requirement already satisfied: seaborn in /opt/conda/lib/python3.9/site-packages (0.11.1)\n",
      "Requirement already satisfied: scipy>=1.0 in /opt/conda/lib/python3.9/site-packages (from seaborn) (1.7.0)\n",
      "Requirement already satisfied: matplotlib>=2.2 in /opt/conda/lib/python3.9/site-packages (from seaborn) (3.4.2)\n",
      "Requirement already satisfied: pandas>=0.23 in /opt/conda/lib/python3.9/site-packages (from seaborn) (1.3.1)\n",
      "Requirement already satisfied: numpy>=1.15 in /opt/conda/lib/python3.9/site-packages (from seaborn) (1.21.1)\n",
      "Requirement already satisfied: pillow>=6.2.0 in /opt/conda/lib/python3.9/site-packages (from matplotlib>=2.2->seaborn) (8.2.0)\n",
      "Requirement already satisfied: pyparsing>=2.2.1 in /opt/conda/lib/python3.9/site-packages (from matplotlib>=2.2->seaborn) (2.4.7)\n",
      "Requirement already satisfied: python-dateutil>=2.7 in /opt/conda/lib/python3.9/site-packages (from matplotlib>=2.2->seaborn) (2.8.1)\n",
      "Requirement already satisfied: kiwisolver>=1.0.1 in /opt/conda/lib/python3.9/site-packages (from matplotlib>=2.2->seaborn) (1.3.1)\n",
      "Requirement already satisfied: cycler>=0.10 in /opt/conda/lib/python3.9/site-packages (from matplotlib>=2.2->seaborn) (0.10.0)\n",
      "Requirement already satisfied: six in /opt/conda/lib/python3.9/site-packages (from cycler>=0.10->matplotlib>=2.2->seaborn) (1.15.0)\n",
      "Requirement already satisfied: pytz>=2017.3 in /opt/conda/lib/python3.9/site-packages (from pandas>=0.23->seaborn) (2021.1)\n"
     ]
    }
   ],
   "source": [
    "!pip install seaborn\n",
    "import numpy as np\n",
    "import pandas as pd\n",
    "import matplotlib.pyplot as plt\n",
    "import seaborn as sns"
   ]
  },
  {
   "cell_type": "code",
   "execution_count": 17,
   "id": "7c9a234e",
   "metadata": {
    "deletable": false,
    "nbgrader": {
     "cell_type": "code",
     "checksum": "9a6e3a6a854c5207e8fcb66335471a5d",
     "grade": true,
     "grade_id": "cell-b5b5ea7c8326b1d9",
     "locked": false,
     "points": 100,
     "schema_version": 3,
     "solution": true,
     "task": false
    },
    "scrolled": true
   },
   "outputs": [
    {
     "name": "stdout",
     "output_type": "stream",
     "text": [
      "600\n"
     ]
    }
   ],
   "source": [
    "# Getting companies with 'Cafe', 'Café', and 'Coffee' in name to gather a sample of cafes in UK\n",
    "all_cafes = search_for_companies_with_query(\"Cafe\", number_of_companies = 200) + search_for_companies_with_query(\"Café\", number_of_companies = 200) + search_for_companies_with_query(\"Coffee\", number_of_companies = 200)\n",
    "print(len(all_cafes))\n",
    "#pp.pprint(all_cafes[2])"
   ]
  },
  {
   "cell_type": "code",
   "execution_count": 18,
   "id": "17d4319c",
   "metadata": {},
   "outputs": [],
   "source": [
    "# Defining functions to get active and dessolved cafes to check their locations in following steps\n",
    "def get_active_companies(cafes):\n",
    "    active_cafes = []\n",
    "    for cafe in cafes:\n",
    "        if cafe['company_status'] == str('active'):\n",
    "            active_cafes.append(cafe)\n",
    "    return active_cafes\n",
    "\n",
    "def get_dissolved_companies(cafes):\n",
    "    dissolved_cafes = []\n",
    "    for cafe in cafes:\n",
    "        if cafe['company_status'] == str('dissolved'):\n",
    "            dissolved_cafes.append(cafe)\n",
    "    return dissolved_cafes"
   ]
  },
  {
   "cell_type": "code",
   "execution_count": 19,
   "id": "trying-drain",
   "metadata": {},
   "outputs": [],
   "source": [
    "active_cafes = get_active_companies(all_cafes) \n",
    "dissolved_cafes = get_dissolved_companies(all_cafes)"
   ]
  },
  {
   "cell_type": "code",
   "execution_count": 20,
   "id": "f9308860",
   "metadata": {},
   "outputs": [],
   "source": [
    "# Defining functions to get addresses and then city/town information recorded as 'locality' in the dataset\n",
    "def get_address(cafes):\n",
    "    addresses = []\n",
    "    for cafe in cafes:\n",
    "        addresses.append(cafe['address'])\n",
    "    return addresses\n",
    "\n",
    "def get_locality_of_addresses(addresses):\n",
    "    return [ get_locality(addresses)\n",
    "            for address in addresses\n",
    "            if address != []]\n",
    "\n",
    "def get_locality(found_addresses):\n",
    "    return [ address['locality']\n",
    "            for address in found_addresses\n",
    "            if 'locality' in address.keys()]"
   ]
  },
  {
   "cell_type": "code",
   "execution_count": 21,
   "id": "generic-advertising",
   "metadata": {},
   "outputs": [],
   "source": [
    "active_addresses = get_address(active_cafes)\n",
    "dissolved_addresses = get_address(dissolved_cafes)"
   ]
  },
  {
   "cell_type": "code",
   "execution_count": 22,
   "id": "modern-president",
   "metadata": {},
   "outputs": [],
   "source": [
    "active_localities = get_locality(active_addresses)\n",
    "dissolved_localities = get_locality(dissolved_addresses)"
   ]
  },
  {
   "cell_type": "code",
   "execution_count": 23,
   "id": "attached-delta",
   "metadata": {},
   "outputs": [],
   "source": [
    "# Checking unique locality values and their counts indicating number of cafes located in there\n",
    "def get_unique_localities(localities): \n",
    "    unique_localities = []\n",
    "    for city in localities:\n",
    "        if city not in unique_localities:\n",
    "            unique_localities.append(city)\n",
    "    return unique_localities  "
   ]
  },
  {
   "cell_type": "code",
   "execution_count": 24,
   "id": "considerable-dominant",
   "metadata": {
    "scrolled": true
   },
   "outputs": [],
   "source": [
    "counts_active = dict.fromkeys(get_unique_localities(active_localities), 0)\n",
    "for city in active_localities:\n",
    "    counts_active[city] += 1\n",
    "\n",
    "counts_dissolved = dict.fromkeys(get_unique_localities(dissolved_localities), 0)\n",
    "for city in dissolved_localities:\n",
    "    counts_dissolved[city] += 1\n",
    "    \n",
    "active_cafes_df = pd.DataFrame.from_dict(counts_active, orient='index', columns=['Number of Active Cafes'])                                                                         \n",
    "dissolved_cafes_df = pd.DataFrame.from_dict(counts_dissolved, orient='index', columns=['Number of Dissolved Cafes'])  "
   ]
  },
  {
   "cell_type": "code",
   "execution_count": 25,
   "id": "pursuant-logistics",
   "metadata": {},
   "outputs": [
    {
     "data": {
      "text/html": [
       "<div>\n",
       "<style scoped>\n",
       "    .dataframe tbody tr th:only-of-type {\n",
       "        vertical-align: middle;\n",
       "    }\n",
       "\n",
       "    .dataframe tbody tr th {\n",
       "        vertical-align: top;\n",
       "    }\n",
       "\n",
       "    .dataframe thead th {\n",
       "        text-align: right;\n",
       "    }\n",
       "</style>\n",
       "<table border=\"1\" class=\"dataframe\">\n",
       "  <thead>\n",
       "    <tr style=\"text-align: right;\">\n",
       "      <th></th>\n",
       "      <th>Number of Active Cafes</th>\n",
       "    </tr>\n",
       "  </thead>\n",
       "  <tbody>\n",
       "    <tr>\n",
       "      <th>London</th>\n",
       "      <td>96</td>\n",
       "    </tr>\n",
       "    <tr>\n",
       "      <th>Glasgow</th>\n",
       "      <td>12</td>\n",
       "    </tr>\n",
       "    <tr>\n",
       "      <th>Birmingham</th>\n",
       "      <td>8</td>\n",
       "    </tr>\n",
       "    <tr>\n",
       "      <th>Leicester</th>\n",
       "      <td>7</td>\n",
       "    </tr>\n",
       "    <tr>\n",
       "      <th>Manchester</th>\n",
       "      <td>7</td>\n",
       "    </tr>\n",
       "    <tr>\n",
       "      <th>...</th>\n",
       "      <td>...</td>\n",
       "    </tr>\n",
       "    <tr>\n",
       "      <th>Horsforth</th>\n",
       "      <td>1</td>\n",
       "    </tr>\n",
       "    <tr>\n",
       "      <th>Garve</th>\n",
       "      <td>1</td>\n",
       "    </tr>\n",
       "    <tr>\n",
       "      <th>Leeds West Yorkshire</th>\n",
       "      <td>1</td>\n",
       "    </tr>\n",
       "    <tr>\n",
       "      <th>Dartford</th>\n",
       "      <td>1</td>\n",
       "    </tr>\n",
       "    <tr>\n",
       "      <th>Cranbrook</th>\n",
       "      <td>1</td>\n",
       "    </tr>\n",
       "  </tbody>\n",
       "</table>\n",
       "<p>275 rows × 1 columns</p>\n",
       "</div>"
      ],
      "text/plain": [
       "                      Number of Active Cafes\n",
       "London                                    96\n",
       "Glasgow                                   12\n",
       "Birmingham                                 8\n",
       "Leicester                                  7\n",
       "Manchester                                 7\n",
       "...                                      ...\n",
       "Horsforth                                  1\n",
       "Garve                                      1\n",
       "Leeds West Yorkshire                       1\n",
       "Dartford                                   1\n",
       "Cranbrook                                  1\n",
       "\n",
       "[275 rows x 1 columns]"
      ]
     },
     "execution_count": 25,
     "metadata": {},
     "output_type": "execute_result"
    }
   ],
   "source": [
    "active_cafes_df.sort_values('Number of Active Cafes', axis =0 , ascending = False)"
   ]
  },
  {
   "cell_type": "code",
   "execution_count": 26,
   "id": "abandoned-westminster",
   "metadata": {},
   "outputs": [],
   "source": [
    "# Eliminating small cities with less than 5 cafes considering less customer potential\n",
    "active_cafes_df.reset_index(level=0, inplace=True)\n",
    "active_cafes_df.rename(columns={\"index\":\"City\"}, inplace=True)\n",
    "\n",
    "active_cafes_df = active_cafes_df.loc[active_cafes_df['Number of Active Cafes'] > 4]"
   ]
  },
  {
   "cell_type": "code",
   "execution_count": 27,
   "id": "biological-tours",
   "metadata": {},
   "outputs": [
    {
     "data": {
      "text/html": [
       "<div>\n",
       "<style scoped>\n",
       "    .dataframe tbody tr th:only-of-type {\n",
       "        vertical-align: middle;\n",
       "    }\n",
       "\n",
       "    .dataframe tbody tr th {\n",
       "        vertical-align: top;\n",
       "    }\n",
       "\n",
       "    .dataframe thead th {\n",
       "        text-align: right;\n",
       "    }\n",
       "</style>\n",
       "<table border=\"1\" class=\"dataframe\">\n",
       "  <thead>\n",
       "    <tr style=\"text-align: right;\">\n",
       "      <th></th>\n",
       "      <th>City</th>\n",
       "      <th>Number of Active Cafes</th>\n",
       "    </tr>\n",
       "  </thead>\n",
       "  <tbody>\n",
       "    <tr>\n",
       "      <th>0</th>\n",
       "      <td>Glasgow</td>\n",
       "      <td>12</td>\n",
       "    </tr>\n",
       "    <tr>\n",
       "      <th>1</th>\n",
       "      <td>Ashford</td>\n",
       "      <td>5</td>\n",
       "    </tr>\n",
       "    <tr>\n",
       "      <th>2</th>\n",
       "      <td>Bristol</td>\n",
       "      <td>5</td>\n",
       "    </tr>\n",
       "    <tr>\n",
       "      <th>3</th>\n",
       "      <td>Manchester</td>\n",
       "      <td>7</td>\n",
       "    </tr>\n",
       "    <tr>\n",
       "      <th>4</th>\n",
       "      <td>Liverpool</td>\n",
       "      <td>6</td>\n",
       "    </tr>\n",
       "    <tr>\n",
       "      <th>5</th>\n",
       "      <td>Belfast</td>\n",
       "      <td>6</td>\n",
       "    </tr>\n",
       "    <tr>\n",
       "      <th>6</th>\n",
       "      <td>Leicester</td>\n",
       "      <td>7</td>\n",
       "    </tr>\n",
       "    <tr>\n",
       "      <th>7</th>\n",
       "      <td>Birmingham</td>\n",
       "      <td>8</td>\n",
       "    </tr>\n",
       "    <tr>\n",
       "      <th>8</th>\n",
       "      <td>Sheffield</td>\n",
       "      <td>5</td>\n",
       "    </tr>\n",
       "    <tr>\n",
       "      <th>9</th>\n",
       "      <td>Haywards Heath</td>\n",
       "      <td>5</td>\n",
       "    </tr>\n",
       "  </tbody>\n",
       "</table>\n",
       "</div>"
      ],
      "text/plain": [
       "             City  Number of Active Cafes\n",
       "0         Glasgow                      12\n",
       "1         Ashford                       5\n",
       "2         Bristol                       5\n",
       "3      Manchester                       7\n",
       "4       Liverpool                       6\n",
       "5         Belfast                       6\n",
       "6       Leicester                       7\n",
       "7      Birmingham                       8\n",
       "8       Sheffield                       5\n",
       "9  Haywards Heath                       5"
      ]
     },
     "execution_count": 27,
     "metadata": {},
     "output_type": "execute_result"
    }
   ],
   "source": [
    "# Also eliminating London due to too high competition and looking for new opportunities elsewhere\n",
    "active_cafes_df = active_cafes_df.loc[active_cafes_df['City'] != 'London']\n",
    "active_cafes_df = active_cafes_df.reset_index(drop=True)\n",
    "\n",
    "active_cafes_df"
   ]
  },
  {
   "cell_type": "code",
   "execution_count": 28,
   "id": "nonprofit-brief",
   "metadata": {},
   "outputs": [
    {
     "data": {
      "text/html": [
       "<div>\n",
       "<style scoped>\n",
       "    .dataframe tbody tr th:only-of-type {\n",
       "        vertical-align: middle;\n",
       "    }\n",
       "\n",
       "    .dataframe tbody tr th {\n",
       "        vertical-align: top;\n",
       "    }\n",
       "\n",
       "    .dataframe thead th {\n",
       "        text-align: right;\n",
       "    }\n",
       "</style>\n",
       "<table border=\"1\" class=\"dataframe\">\n",
       "  <thead>\n",
       "    <tr style=\"text-align: right;\">\n",
       "      <th></th>\n",
       "      <th>Number of Dissolved Cafes</th>\n",
       "    </tr>\n",
       "  </thead>\n",
       "  <tbody>\n",
       "    <tr>\n",
       "      <th>London</th>\n",
       "      <td>14</td>\n",
       "    </tr>\n",
       "    <tr>\n",
       "      <th>Birmingham</th>\n",
       "      <td>5</td>\n",
       "    </tr>\n",
       "    <tr>\n",
       "      <th>Nottingham</th>\n",
       "      <td>3</td>\n",
       "    </tr>\n",
       "    <tr>\n",
       "      <th>Leeds</th>\n",
       "      <td>3</td>\n",
       "    </tr>\n",
       "    <tr>\n",
       "      <th>Brighton</th>\n",
       "      <td>2</td>\n",
       "    </tr>\n",
       "    <tr>\n",
       "      <th>Cardiff</th>\n",
       "      <td>2</td>\n",
       "    </tr>\n",
       "    <tr>\n",
       "      <th>Clydebank</th>\n",
       "      <td>1</td>\n",
       "    </tr>\n",
       "    <tr>\n",
       "      <th>Altrincham</th>\n",
       "      <td>1</td>\n",
       "    </tr>\n",
       "    <tr>\n",
       "      <th>Oldham</th>\n",
       "      <td>1</td>\n",
       "    </tr>\n",
       "    <tr>\n",
       "      <th>Coventry</th>\n",
       "      <td>1</td>\n",
       "    </tr>\n",
       "  </tbody>\n",
       "</table>\n",
       "</div>"
      ],
      "text/plain": [
       "            Number of Dissolved Cafes\n",
       "London                             14\n",
       "Birmingham                          5\n",
       "Nottingham                          3\n",
       "Leeds                               3\n",
       "Brighton                            2\n",
       "Cardiff                             2\n",
       "Clydebank                           1\n",
       "Altrincham                          1\n",
       "Oldham                              1\n",
       "Coventry                            1"
      ]
     },
     "execution_count": 28,
     "metadata": {},
     "output_type": "execute_result"
    }
   ],
   "source": [
    "# Now checking dissolved cafe numbers\n",
    "dissolved_cafes_df.sort_values('Number of Dissolved Cafes', axis =0 , ascending = False)[0:10]"
   ]
  },
  {
   "cell_type": "code",
   "execution_count": 29,
   "id": "contained-invitation",
   "metadata": {},
   "outputs": [],
   "source": [
    "# Filtering cities with more than 1 dissolved cafes to see risky places\n",
    "dissolved_cafes_df.reset_index(level=0, inplace=True)\n",
    "dissolved_cafes_df.rename(columns={\"index\":\"City\"}, inplace=True)\n",
    "dissolved_cafes_df = dissolved_cafes_df.loc[dissolved_cafes_df['Number of Dissolved Cafes'] > 1]"
   ]
  },
  {
   "cell_type": "code",
   "execution_count": 30,
   "id": "radio-cargo",
   "metadata": {},
   "outputs": [
    {
     "data": {
      "text/html": [
       "<div>\n",
       "<style scoped>\n",
       "    .dataframe tbody tr th:only-of-type {\n",
       "        vertical-align: middle;\n",
       "    }\n",
       "\n",
       "    .dataframe tbody tr th {\n",
       "        vertical-align: top;\n",
       "    }\n",
       "\n",
       "    .dataframe thead th {\n",
       "        text-align: right;\n",
       "    }\n",
       "</style>\n",
       "<table border=\"1\" class=\"dataframe\">\n",
       "  <thead>\n",
       "    <tr style=\"text-align: right;\">\n",
       "      <th></th>\n",
       "      <th>City</th>\n",
       "      <th>Number of Dissolved Cafes</th>\n",
       "    </tr>\n",
       "  </thead>\n",
       "  <tbody>\n",
       "    <tr>\n",
       "      <th>0</th>\n",
       "      <td>Birmingham</td>\n",
       "      <td>5</td>\n",
       "    </tr>\n",
       "    <tr>\n",
       "      <th>1</th>\n",
       "      <td>Nottingham</td>\n",
       "      <td>3</td>\n",
       "    </tr>\n",
       "    <tr>\n",
       "      <th>2</th>\n",
       "      <td>Leeds</td>\n",
       "      <td>3</td>\n",
       "    </tr>\n",
       "    <tr>\n",
       "      <th>3</th>\n",
       "      <td>Brighton</td>\n",
       "      <td>2</td>\n",
       "    </tr>\n",
       "    <tr>\n",
       "      <th>4</th>\n",
       "      <td>Cardiff</td>\n",
       "      <td>2</td>\n",
       "    </tr>\n",
       "  </tbody>\n",
       "</table>\n",
       "</div>"
      ],
      "text/plain": [
       "         City  Number of Dissolved Cafes\n",
       "0  Birmingham                          5\n",
       "1  Nottingham                          3\n",
       "2       Leeds                          3\n",
       "3    Brighton                          2\n",
       "4     Cardiff                          2"
      ]
     },
     "execution_count": 30,
     "metadata": {},
     "output_type": "execute_result"
    }
   ],
   "source": [
    "# Also eliminating London\n",
    "dissolved_cafes_df = dissolved_cafes_df.loc[dissolved_cafes_df['City'] != 'London']\n",
    "dissolved_cafes_df = dissolved_cafes_df.reset_index(drop=True)\n",
    "dissolved_cafes_df"
   ]
  },
  {
   "cell_type": "code",
   "execution_count": 31,
   "id": "national-textbook",
   "metadata": {},
   "outputs": [],
   "source": [
    "# Analysing the location of active cafes older than 5 years\n",
    "from datetime import date\n",
    "\n",
    "def get_older_cafes(active_cafes):\n",
    "    older_cafes = []\n",
    "    for cafe in active_cafes:\n",
    "        cafe_age = date.today() - datetime.strptime(cafe['date_of_creation'], '%Y-%m-%d').date()\n",
    "        if round(cafe_age.days/365,2) > 5:\n",
    "            older_cafes.append(cafe)\n",
    "    return older_cafes"
   ]
  },
  {
   "cell_type": "code",
   "execution_count": 32,
   "id": "leading-scenario",
   "metadata": {},
   "outputs": [
    {
     "data": {
      "text/html": [
       "<div>\n",
       "<style scoped>\n",
       "    .dataframe tbody tr th:only-of-type {\n",
       "        vertical-align: middle;\n",
       "    }\n",
       "\n",
       "    .dataframe tbody tr th {\n",
       "        vertical-align: top;\n",
       "    }\n",
       "\n",
       "    .dataframe thead th {\n",
       "        text-align: right;\n",
       "    }\n",
       "</style>\n",
       "<table border=\"1\" class=\"dataframe\">\n",
       "  <thead>\n",
       "    <tr style=\"text-align: right;\">\n",
       "      <th></th>\n",
       "      <th>City</th>\n",
       "      <th>Number of Cafes Older than 5 Years</th>\n",
       "    </tr>\n",
       "  </thead>\n",
       "  <tbody>\n",
       "    <tr>\n",
       "      <th>0</th>\n",
       "      <td>Bradford</td>\n",
       "      <td>2</td>\n",
       "    </tr>\n",
       "    <tr>\n",
       "      <th>1</th>\n",
       "      <td>Glasgow</td>\n",
       "      <td>4</td>\n",
       "    </tr>\n",
       "    <tr>\n",
       "      <th>2</th>\n",
       "      <td>Lowestoft</td>\n",
       "      <td>2</td>\n",
       "    </tr>\n",
       "    <tr>\n",
       "      <th>3</th>\n",
       "      <td>Cambridge</td>\n",
       "      <td>2</td>\n",
       "    </tr>\n",
       "    <tr>\n",
       "      <th>4</th>\n",
       "      <td>Norwich</td>\n",
       "      <td>2</td>\n",
       "    </tr>\n",
       "    <tr>\n",
       "      <th>5</th>\n",
       "      <td>Southport</td>\n",
       "      <td>2</td>\n",
       "    </tr>\n",
       "    <tr>\n",
       "      <th>6</th>\n",
       "      <td>Leeds</td>\n",
       "      <td>4</td>\n",
       "    </tr>\n",
       "    <tr>\n",
       "      <th>7</th>\n",
       "      <td>Leicester</td>\n",
       "      <td>3</td>\n",
       "    </tr>\n",
       "    <tr>\n",
       "      <th>8</th>\n",
       "      <td>Liverpool</td>\n",
       "      <td>2</td>\n",
       "    </tr>\n",
       "    <tr>\n",
       "      <th>9</th>\n",
       "      <td>Bristol</td>\n",
       "      <td>2</td>\n",
       "    </tr>\n",
       "    <tr>\n",
       "      <th>10</th>\n",
       "      <td>Belfast</td>\n",
       "      <td>2</td>\n",
       "    </tr>\n",
       "    <tr>\n",
       "      <th>11</th>\n",
       "      <td>Weybridge</td>\n",
       "      <td>2</td>\n",
       "    </tr>\n",
       "    <tr>\n",
       "      <th>12</th>\n",
       "      <td>Haywards Heath</td>\n",
       "      <td>4</td>\n",
       "    </tr>\n",
       "    <tr>\n",
       "      <th>13</th>\n",
       "      <td>Birmingham</td>\n",
       "      <td>2</td>\n",
       "    </tr>\n",
       "    <tr>\n",
       "      <th>14</th>\n",
       "      <td>Reading</td>\n",
       "      <td>2</td>\n",
       "    </tr>\n",
       "  </tbody>\n",
       "</table>\n",
       "</div>"
      ],
      "text/plain": [
       "              City  Number of Cafes Older than 5 Years\n",
       "0         Bradford                                   2\n",
       "1          Glasgow                                   4\n",
       "2        Lowestoft                                   2\n",
       "3        Cambridge                                   2\n",
       "4          Norwich                                   2\n",
       "5        Southport                                   2\n",
       "6            Leeds                                   4\n",
       "7        Leicester                                   3\n",
       "8        Liverpool                                   2\n",
       "9          Bristol                                   2\n",
       "10         Belfast                                   2\n",
       "11       Weybridge                                   2\n",
       "12  Haywards Heath                                   4\n",
       "13      Birmingham                                   2\n",
       "14         Reading                                   2"
      ]
     },
     "execution_count": 32,
     "metadata": {},
     "output_type": "execute_result"
    }
   ],
   "source": [
    "older_cafes = get_older_cafes(active_cafes)\n",
    "older_addresses = get_address(older_cafes)\n",
    "older_localities = get_locality(older_addresses)\n",
    "\n",
    "counts_older = dict.fromkeys(get_unique_localities(older_localities), 0)\n",
    "for city in older_localities:\n",
    "    counts_older[city] += 1\n",
    "\n",
    "older_cafes_df = pd.DataFrame.from_dict(counts_older, orient='index', columns=['Number of Cafes Older than 5 Years'])\n",
    "older_cafes_df.reset_index(level=0, inplace=True)\n",
    "older_cafes_df.rename(columns={\"index\":\"City\"}, inplace=True)\n",
    "\n",
    "# Getting cities with more than 1 cafe older than 10 years except London\n",
    "older_cafes_df = older_cafes_df.loc[older_cafes_df['City'] != 'London']\n",
    "older_cafes_df = older_cafes_df.loc[older_cafes_df['Number of Cafes Older than 5 Years'] > 1]\n",
    "older_cafes_df.sort_values('Number of Cafes Older than 5 Years', axis =0 , ascending = False)\n",
    "older_cafes_df = older_cafes_df.reset_index(drop=True)\n",
    "older_cafes_df"
   ]
  },
  {
   "cell_type": "markdown",
   "id": "front-gamma",
   "metadata": {},
   "source": [
    "### Business Question 1: Mini-report and visualisation:"
   ]
  },
  {
   "cell_type": "markdown",
   "id": "9268c3a9",
   "metadata": {},
   "source": [
    "We are looking to open a new cafe as an inexperienced entrepreneur and wish to gain insight for which cities in the UK can be a better location for us to start our business. Assuming very big and very small cities are outliers, we observe cafe distribution in remaining cities.\n",
    "\n",
    "Firstly, we focus on the cities where number of dissolved cafes have been more than majority of the cities having only one dissolved cafe in our dataset. Therefore, the cities shown in Graph-1 are most likely to be avoided.\n",
    "\n",
    "Observing the cities with highest number of active cafes in Graph-2; Glasgow, Birmingham and Manchester take the lead. These cities have good potential in terms of cafe-culture and customers as well as competition to be considered.\n",
    "\n",
    "Finally, assuming mature cafes as +5 years-old and observing where they are mostly located, we see Glasgow, Leeds and Haywards Heath stand out.\n",
    "\n",
    "With these insights, opportunies in Glasgow shoud be further investigated as it has many active and mature cafes where the number of dissolved cafes are relatively low (as not present in Graph-1). As competition concerns can arise, some other cities on average that could be a good start are Haywards Heath, Leicester or Cambridge. Further market research for a to-be cafe owner can start from these possible locations."
   ]
  },
  {
   "cell_type": "code",
   "execution_count": 34,
   "id": "f2922d94",
   "metadata": {},
   "outputs": [
    {
     "data": {
      "image/png": "[encoded data removed]",
      "text/plain": [
       "<Figure size 432x288 with 1 Axes>"
      ]
     },
     "metadata": {
      "needs_background": "light"
     },
     "output_type": "display_data"
    },
    {
     "data": {
      "image/png": "[encoded data removed]",
      "text/plain": [
       "<Figure size 432x288 with 1 Axes>"
      ]
     },
     "metadata": {
      "needs_background": "light"
     },
     "output_type": "display_data"
    },
    {
     "data": {
      "image/png": "[encoded data removed]",
      "text/plain": [
       "<Figure size 432x288 with 1 Axes>"
      ]
     },
     "metadata": {
      "needs_background": "light"
     },
     "output_type": "display_data"
    }
   ],
   "source": [
    "number_dissolved = dissolved_cafes_df['Number of Dissolved Cafes'].tolist()\n",
    "cities = dissolved_cafes_df['City'].tolist()\n",
    "\n",
    "New_Colors = ['green','purple', 'blue','teal']\n",
    "\n",
    "plt.barh(cities,number_dissolved, color=New_Colors)\n",
    "plt.title('Graph-1: Dissolved Cafes per City (if > 1)')\n",
    "plt.ylabel('Cities')\n",
    "plt.xlabel('Number of Dissolved Cafes')\n",
    "plt.show()\n",
    "\n",
    "number_active = active_cafes_df['Number of Active Cafes'].tolist()\n",
    "cities = active_cafes_df['City'].tolist()\n",
    "\n",
    "plt.barh(cities,number_active, color=New_Colors)\n",
    "plt.title('Graph-2: Active Cafes per City (if > 5)')\n",
    "plt.ylabel('Cities')\n",
    "plt.xlabel('Number of Active Cafes')\n",
    "plt.show()\n",
    "\n",
    "number_older = older_cafes_df['Number of Cafes Older than 5 Years'].tolist()\n",
    "cities = older_cafes_df['City'].tolist()\n",
    "\n",
    "plt.barh(cities,number_older, color=New_Colors)\n",
    "plt.title('Graph-3: Cafes Older than 5 Years (if > 1)')\n",
    "plt.ylabel('Cities')\n",
    "plt.xlabel('Number of Cafes Older than 5 Years')\n",
    "plt.show()"
   ]
  },
  {
   "cell_type": "markdown",
   "id": "1cc860d0",
   "metadata": {},
   "source": [
    "### Business Question 2: When is a good time to start a tourism business (as a travel agency) in the UK?\n",
    "Is it better to start a travel agency during hot or cold season? Does this matter for the sustainability of the company?\n",
    "\n",
    "Focus group SIC: 79110\tTravel agency activities"
   ]
  },
  {
   "cell_type": "code",
   "execution_count": 35,
   "id": "b2aad17e",
   "metadata": {
    "deletable": false,
    "nbgrader": {
     "cell_type": "code",
     "checksum": "5852b9053d1c37cb5d3d238ee64a94cf",
     "grade": true,
     "grade_id": "cell-7c8b65431ad41ec6",
     "locked": false,
     "points": 100,
     "schema_version": 3,
     "solution": true,
     "task": false
    }
   },
   "outputs": [
    {
     "name": "stdout",
     "output_type": "stream",
     "text": [
      "600\n"
     ]
    }
   ],
   "source": [
    "# Getting tourism related companies\n",
    "travel_companies = search_for_companies_with_query(\"Travel\", number_of_companies = 300) + search_for_companies_with_query(\"Travel Agency\", number_of_companies = 300)\n",
    "print(len(travel_companies))\n",
    "#pp.pprint(travel_companies[3])"
   ]
  },
  {
   "cell_type": "code",
   "execution_count": 36,
   "id": "intended-carrier",
   "metadata": {},
   "outputs": [],
   "source": [
    "# Getting detailed info for companies to check SIC codes. SIC code for travel agencies: '79110'.\n",
    "def get_company_numbers(companies):\n",
    "    company_numbers = []\n",
    "    for company in companies:\n",
    "        company_numbers.append(company['company_number'])\n",
    "    return company_numbers"
   ]
  },
  {
   "cell_type": "code",
   "execution_count": 37,
   "id": "cordless-wrestling",
   "metadata": {},
   "outputs": [],
   "source": [
    "travel_company_numbers = get_company_numbers(travel_companies)"
   ]
  },
  {
   "cell_type": "code",
   "execution_count": 38,
   "id": "indonesian-savannah",
   "metadata": {},
   "outputs": [
    {
     "name": "stdout",
     "output_type": "stream",
     "text": [
      "status code is not 'SUCCESS 200'. Will wait 20 seconds\n",
      "status code is not 'SUCCESS 200'. Will wait 20 seconds\n",
      "status code is not 'SUCCESS 200'. Will wait 20 seconds\n",
      "status code is not 'SUCCESS 200'. Will wait 20 seconds\n",
      "status code is not 'SUCCESS 200'. Will wait 20 seconds\n",
      "status code is not 'SUCCESS 200'. Will wait 20 seconds\n",
      "status code is not 'SUCCESS 200'. Will wait 20 seconds\n",
      "status code is not 'SUCCESS 200'. Will wait 20 seconds\n",
      "status code is not 'SUCCESS 200'. Will wait 20 seconds\n",
      "status code is not 'SUCCESS 200'. Will wait 20 seconds\n",
      "status code is not 'SUCCESS 200'. Will wait 20 seconds\n",
      "status code is not 'SUCCESS 200'. Will wait 20 seconds\n"
     ]
    }
   ],
   "source": [
    "details = detailed_info_about_companies_with_ids(travel_company_numbers)"
   ]
  },
  {
   "cell_type": "code",
   "execution_count": 39,
   "id": "strategic-strength",
   "metadata": {},
   "outputs": [
    {
     "name": "stdout",
     "output_type": "stream",
     "text": [
      "[['43390', '46440', '46690', '47910'], ['58290'], ['79110'], ['56101'], ['79110']]\n",
      "['BELNOVA LTD', 'BINAMICS TRAVEL LIMITED', 'CREATIVE TRAVEL CO. LTD', 'EDINBURGH HOSPITALITY GROUP LTD', 'GLOBAL TRAVEL COLLECTION UK, LTD']\n"
     ]
    }
   ],
   "source": [
    "sic_codes = []\n",
    "for detail in details:\n",
    "    if 'sic_codes' in detail.keys():\n",
    "        sic_codes.append(detail['sic_codes'])\n",
    "    else:\n",
    "        sic_codes.append(['no_code'])\n",
    "print(sic_codes[0:5])\n",
    "\n",
    "company_names = []\n",
    "for detail in details:\n",
    "    if 'company_name' in detail.keys():\n",
    "        company_names.append(detail['company_name'])\n",
    "    else:\n",
    "        company_names.append(['no_name'])\n",
    "print(company_names[0:5])\n",
    "\n",
    "keys = company_names\n",
    "values = sic_codes\n",
    "\n",
    "SIC_dict = {keys[i]: values[i] for i in range(len(keys))}"
   ]
  },
  {
   "cell_type": "code",
   "execution_count": 40,
   "id": "industrial-institute",
   "metadata": {},
   "outputs": [
    {
     "name": "stdout",
     "output_type": "stream",
     "text": [
      "{'address': {'address_line_1': 'Crichton Drive',\n",
      "             'country': 'Scotland',\n",
      "             'locality': 'Grangemouth',\n",
      "             'postal_code': 'FK3 9DF',\n",
      "             'premises': '8'},\n",
      " 'address_snippet': '8 Crichton Drive, Grangemouth, Scotland, FK3 9DF',\n",
      " 'company_number': 'SC647255',\n",
      " 'company_status': 'active',\n",
      " 'company_type': 'ltd',\n",
      " 'date_of_creation': '2019-11-15',\n",
      " 'description': 'SC647255 - Incorporated on 15 November 2019',\n",
      " 'description_identifier': ['incorporated-on'],\n",
      " 'kind': 'searchresults#company',\n",
      " 'links': {'self': '/company/SC647255'},\n",
      " 'matches': {'snippet': [1, 6], 'title': [10, 15]},\n",
      " 'snippet': 'TRAVEL DREAMS (GRANGEMOUTH) ',\n",
      " 'title': 'CREATIVE TRAVEL CO. LTD'}\n"
     ]
    }
   ],
   "source": [
    "# Filtering companies with desired SIC code only\n",
    "travel_agency_names = []\n",
    "for key in SIC_dict.keys():\n",
    "    if '79110' in SIC_dict[key]:\n",
    "        travel_agency_names.append(key)\n",
    "\n",
    "travel_agencies = []\n",
    "for company in travel_companies:\n",
    "    if company['title'] in travel_agency_names:\n",
    "        travel_agencies.append(company)\n",
    "        \n",
    "pp.pprint(travel_agencies[0])"
   ]
  },
  {
   "cell_type": "code",
   "execution_count": 41,
   "id": "radical-recording",
   "metadata": {},
   "outputs": [],
   "source": [
    "active_agencies = get_active_companies(travel_agencies)\n",
    "dissolved_agencies = get_dissolved_companies(travel_agencies)"
   ]
  },
  {
   "cell_type": "code",
   "execution_count": 42,
   "id": "canadian-yeast",
   "metadata": {},
   "outputs": [],
   "source": [
    "# Getting creation months of companies and the cessation dates for dissolved companies\n",
    "import datetime\n",
    "from datetime import datetime\n",
    "\n",
    "def get_creation_months(agencies):\n",
    "    creation_months=[]\n",
    "    for agency in agencies:\n",
    "        if 'date_of_creation' in agency.keys():\n",
    "            creation_months.append(datetime.strptime(agency['date_of_creation'], '%Y-%m-%d').month)\n",
    "    return creation_months\n",
    "            \n",
    "creation_months_of_active_agencies = get_creation_months(active_agencies)\n",
    "creation_months_of_dissolved_agencies = get_creation_months(dissolved_agencies)\n",
    "\n",
    "def get_cessation_months(dissolved_agencies):\n",
    "    cessation_months=[]\n",
    "    for agency in dissolved_agencies:\n",
    "        if 'date_of_cessation' in agency.keys():\n",
    "            cessation_months.append(datetime.strptime(agency['date_of_cessation'], '%Y-%m-%d').month)\n",
    "    return cessation_months\n",
    "\n",
    "cessation_months_of_dissolved_agencies = get_cessation_months(dissolved_agencies)"
   ]
  },
  {
   "cell_type": "code",
   "execution_count": 43,
   "id": "behavioral-infrared",
   "metadata": {},
   "outputs": [
    {
     "data": {
      "text/html": [
       "<div>\n",
       "<style scoped>\n",
       "    .dataframe tbody tr th:only-of-type {\n",
       "        vertical-align: middle;\n",
       "    }\n",
       "\n",
       "    .dataframe tbody tr th {\n",
       "        vertical-align: top;\n",
       "    }\n",
       "\n",
       "    .dataframe thead th {\n",
       "        text-align: right;\n",
       "    }\n",
       "</style>\n",
       "<table border=\"1\" class=\"dataframe\">\n",
       "  <thead>\n",
       "    <tr style=\"text-align: right;\">\n",
       "      <th></th>\n",
       "      <th>0</th>\n",
       "      <th>1</th>\n",
       "      <th>2</th>\n",
       "      <th>3</th>\n",
       "      <th>4</th>\n",
       "      <th>5</th>\n",
       "      <th>6</th>\n",
       "      <th>7</th>\n",
       "      <th>8</th>\n",
       "      <th>9</th>\n",
       "      <th>10</th>\n",
       "      <th>11</th>\n",
       "    </tr>\n",
       "  </thead>\n",
       "  <tbody>\n",
       "    <tr>\n",
       "      <th>Month</th>\n",
       "      <td>1</td>\n",
       "      <td>2</td>\n",
       "      <td>3</td>\n",
       "      <td>4</td>\n",
       "      <td>5</td>\n",
       "      <td>6</td>\n",
       "      <td>7</td>\n",
       "      <td>8</td>\n",
       "      <td>9</td>\n",
       "      <td>10</td>\n",
       "      <td>11</td>\n",
       "      <td>12</td>\n",
       "    </tr>\n",
       "    <tr>\n",
       "      <th>Number of Agencies Created</th>\n",
       "      <td>23</td>\n",
       "      <td>24</td>\n",
       "      <td>18</td>\n",
       "      <td>18</td>\n",
       "      <td>15</td>\n",
       "      <td>13</td>\n",
       "      <td>18</td>\n",
       "      <td>19</td>\n",
       "      <td>20</td>\n",
       "      <td>23</td>\n",
       "      <td>16</td>\n",
       "      <td>16</td>\n",
       "    </tr>\n",
       "    <tr>\n",
       "      <th>Still Active</th>\n",
       "      <td>16</td>\n",
       "      <td>18</td>\n",
       "      <td>13</td>\n",
       "      <td>14</td>\n",
       "      <td>12</td>\n",
       "      <td>10</td>\n",
       "      <td>12</td>\n",
       "      <td>13</td>\n",
       "      <td>15</td>\n",
       "      <td>20</td>\n",
       "      <td>12</td>\n",
       "      <td>14</td>\n",
       "    </tr>\n",
       "    <tr>\n",
       "      <th>Dissolved</th>\n",
       "      <td>7</td>\n",
       "      <td>6</td>\n",
       "      <td>5</td>\n",
       "      <td>2</td>\n",
       "      <td>3</td>\n",
       "      <td>3</td>\n",
       "      <td>6</td>\n",
       "      <td>6</td>\n",
       "      <td>5</td>\n",
       "      <td>3</td>\n",
       "      <td>4</td>\n",
       "      <td>2</td>\n",
       "    </tr>\n",
       "  </tbody>\n",
       "</table>\n",
       "</div>"
      ],
      "text/plain": [
       "                            0   1   2   3   4   5   6   7   8   9   10  11\n",
       "Month                        1   2   3   4   5   6   7   8   9  10  11  12\n",
       "Number of Agencies Created  23  24  18  18  15  13  18  19  20  23  16  16\n",
       "Still Active                16  18  13  14  12  10  12  13  15  20  12  14\n",
       "Dissolved                    7   6   5   2   3   3   6   6   5   3   4   2"
      ]
     },
     "execution_count": 43,
     "metadata": {},
     "output_type": "execute_result"
    }
   ],
   "source": [
    "# Observing total number of agencies created per month in the dataset with active and dissolved division\n",
    "counts_travel_agencies = dict.fromkeys(get_creation_months(travel_agencies), 0)\n",
    "for month in get_creation_months(travel_agencies):\n",
    "    counts_travel_agencies[month] += 1\n",
    "\n",
    "counts_active = dict.fromkeys(creation_months_of_active_agencies, 0)\n",
    "for month in creation_months_of_active_agencies:\n",
    "    counts_active[month] += 1\n",
    "    \n",
    "counts_dissolved = dict.fromkeys(creation_months_of_dissolved_agencies, 0)\n",
    "for month in creation_months_of_dissolved_agencies:\n",
    "    counts_dissolved[month] += 1\n",
    "\n",
    "all_agencies_df = pd.DataFrame.from_dict(counts_travel_agencies, orient='index', columns=['Number of Agencies Created'])    \n",
    "active_agencies_df = pd.DataFrame.from_dict(counts_active, orient='index', columns=['Still Active'])\n",
    "dissolved_agencies_df = pd.DataFrame.from_dict(counts_dissolved, orient='index', columns=['Dissolved'])\n",
    "\n",
    "table_of_months = pd.concat([all_agencies_df, active_agencies_df, dissolved_agencies_df], axis=1)\n",
    "\n",
    "table_of_months.reset_index(level=0, inplace=True)\n",
    "table_of_months.rename(columns={\"index\":\"Month\"}, inplace=True)\n",
    "table_of_months.transpose()"
   ]
  },
  {
   "cell_type": "code",
   "execution_count": 44,
   "id": "abandoned-orientation",
   "metadata": {},
   "outputs": [
    {
     "data": {
      "text/html": [
       "<div>\n",
       "<style scoped>\n",
       "    .dataframe tbody tr th:only-of-type {\n",
       "        vertical-align: middle;\n",
       "    }\n",
       "\n",
       "    .dataframe tbody tr th {\n",
       "        vertical-align: top;\n",
       "    }\n",
       "\n",
       "    .dataframe thead th {\n",
       "        text-align: right;\n",
       "    }\n",
       "</style>\n",
       "<table border=\"1\" class=\"dataframe\">\n",
       "  <thead>\n",
       "    <tr style=\"text-align: right;\">\n",
       "      <th></th>\n",
       "      <th>0</th>\n",
       "      <th>1</th>\n",
       "      <th>2</th>\n",
       "      <th>3</th>\n",
       "      <th>4</th>\n",
       "      <th>5</th>\n",
       "      <th>6</th>\n",
       "      <th>7</th>\n",
       "      <th>8</th>\n",
       "      <th>9</th>\n",
       "      <th>10</th>\n",
       "      <th>11</th>\n",
       "    </tr>\n",
       "  </thead>\n",
       "  <tbody>\n",
       "    <tr>\n",
       "      <th>Month</th>\n",
       "      <td>1.0</td>\n",
       "      <td>2.0</td>\n",
       "      <td>3.0</td>\n",
       "      <td>4.0</td>\n",
       "      <td>5.0</td>\n",
       "      <td>6.0</td>\n",
       "      <td>7.0</td>\n",
       "      <td>8.0</td>\n",
       "      <td>9.0</td>\n",
       "      <td>10.0</td>\n",
       "      <td>11.0</td>\n",
       "      <td>12.0</td>\n",
       "    </tr>\n",
       "    <tr>\n",
       "      <th>Number of Agencies Created</th>\n",
       "      <td>23.0</td>\n",
       "      <td>24.0</td>\n",
       "      <td>18.0</td>\n",
       "      <td>18.0</td>\n",
       "      <td>15.0</td>\n",
       "      <td>13.0</td>\n",
       "      <td>18.0</td>\n",
       "      <td>19.0</td>\n",
       "      <td>20.0</td>\n",
       "      <td>23.0</td>\n",
       "      <td>16.0</td>\n",
       "      <td>16.0</td>\n",
       "    </tr>\n",
       "    <tr>\n",
       "      <th>Still Active</th>\n",
       "      <td>16.0</td>\n",
       "      <td>18.0</td>\n",
       "      <td>13.0</td>\n",
       "      <td>14.0</td>\n",
       "      <td>12.0</td>\n",
       "      <td>10.0</td>\n",
       "      <td>12.0</td>\n",
       "      <td>13.0</td>\n",
       "      <td>15.0</td>\n",
       "      <td>20.0</td>\n",
       "      <td>12.0</td>\n",
       "      <td>14.0</td>\n",
       "    </tr>\n",
       "    <tr>\n",
       "      <th>Dissolved</th>\n",
       "      <td>7.0</td>\n",
       "      <td>6.0</td>\n",
       "      <td>5.0</td>\n",
       "      <td>2.0</td>\n",
       "      <td>3.0</td>\n",
       "      <td>3.0</td>\n",
       "      <td>6.0</td>\n",
       "      <td>6.0</td>\n",
       "      <td>5.0</td>\n",
       "      <td>3.0</td>\n",
       "      <td>4.0</td>\n",
       "      <td>2.0</td>\n",
       "    </tr>\n",
       "    <tr>\n",
       "      <th>Survival Rate</th>\n",
       "      <td>70.0</td>\n",
       "      <td>75.0</td>\n",
       "      <td>72.0</td>\n",
       "      <td>78.0</td>\n",
       "      <td>80.0</td>\n",
       "      <td>77.0</td>\n",
       "      <td>67.0</td>\n",
       "      <td>68.0</td>\n",
       "      <td>75.0</td>\n",
       "      <td>87.0</td>\n",
       "      <td>75.0</td>\n",
       "      <td>88.0</td>\n",
       "    </tr>\n",
       "  </tbody>\n",
       "</table>\n",
       "</div>"
      ],
      "text/plain": [
       "                              0     1     2     3     4     5     6     7   \\\n",
       "Month                        1.0   2.0   3.0   4.0   5.0   6.0   7.0   8.0   \n",
       "Number of Agencies Created  23.0  24.0  18.0  18.0  15.0  13.0  18.0  19.0   \n",
       "Still Active                16.0  18.0  13.0  14.0  12.0  10.0  12.0  13.0   \n",
       "Dissolved                    7.0   6.0   5.0   2.0   3.0   3.0   6.0   6.0   \n",
       "Survival Rate               70.0  75.0  72.0  78.0  80.0  77.0  67.0  68.0   \n",
       "\n",
       "                              8     9     10    11  \n",
       "Month                        9.0  10.0  11.0  12.0  \n",
       "Number of Agencies Created  20.0  23.0  16.0  16.0  \n",
       "Still Active                15.0  20.0  12.0  14.0  \n",
       "Dissolved                    5.0   3.0   4.0   2.0  \n",
       "Survival Rate               75.0  87.0  75.0  88.0  "
      ]
     },
     "execution_count": 44,
     "metadata": {},
     "output_type": "execute_result"
    }
   ],
   "source": [
    "table_of_months['Survival Rate'] = round(table_of_months['Still Active']/table_of_months['Number of Agencies Created']*100,0)\n",
    "table_of_months.transpose()"
   ]
  },
  {
   "cell_type": "code",
   "execution_count": 45,
   "id": "prostate-impact",
   "metadata": {},
   "outputs": [
    {
     "data": {
      "text/html": [
       "<div>\n",
       "<style scoped>\n",
       "    .dataframe tbody tr th:only-of-type {\n",
       "        vertical-align: middle;\n",
       "    }\n",
       "\n",
       "    .dataframe tbody tr th {\n",
       "        vertical-align: top;\n",
       "    }\n",
       "\n",
       "    .dataframe thead th {\n",
       "        text-align: right;\n",
       "    }\n",
       "</style>\n",
       "<table border=\"1\" class=\"dataframe\">\n",
       "  <thead>\n",
       "    <tr style=\"text-align: right;\">\n",
       "      <th></th>\n",
       "      <th>1</th>\n",
       "      <th>10</th>\n",
       "      <th>0</th>\n",
       "      <th>5</th>\n",
       "      <th>6</th>\n",
       "      <th>8</th>\n",
       "      <th>2</th>\n",
       "      <th>4</th>\n",
       "      <th>3</th>\n",
       "      <th>11</th>\n",
       "      <th>9</th>\n",
       "      <th>7</th>\n",
       "    </tr>\n",
       "  </thead>\n",
       "  <tbody>\n",
       "    <tr>\n",
       "      <th>Month</th>\n",
       "      <td>1</td>\n",
       "      <td>2</td>\n",
       "      <td>3</td>\n",
       "      <td>4</td>\n",
       "      <td>5</td>\n",
       "      <td>6</td>\n",
       "      <td>7</td>\n",
       "      <td>8</td>\n",
       "      <td>9</td>\n",
       "      <td>10</td>\n",
       "      <td>11</td>\n",
       "      <td>12</td>\n",
       "    </tr>\n",
       "    <tr>\n",
       "      <th>Number of Cessation</th>\n",
       "      <td>6</td>\n",
       "      <td>2</td>\n",
       "      <td>6</td>\n",
       "      <td>2</td>\n",
       "      <td>5</td>\n",
       "      <td>3</td>\n",
       "      <td>8</td>\n",
       "      <td>9</td>\n",
       "      <td>4</td>\n",
       "      <td>2</td>\n",
       "      <td>2</td>\n",
       "      <td>3</td>\n",
       "    </tr>\n",
       "  </tbody>\n",
       "</table>\n",
       "</div>"
      ],
      "text/plain": [
       "                     1   10  0   5   6   8   2   4   3   11  9   7 \n",
       "Month                 1   2   3   4   5   6   7   8   9  10  11  12\n",
       "Number of Cessation   6   2   6   2   5   3   8   9   4   2   2   3"
      ]
     },
     "execution_count": 45,
     "metadata": {},
     "output_type": "execute_result"
    }
   ],
   "source": [
    "# Checking the number of dissolved agencies per month\n",
    "counts_cessation = dict.fromkeys(cessation_months_of_dissolved_agencies, 0)\n",
    "for month in cessation_months_of_dissolved_agencies:\n",
    "    counts_cessation[month] += 1\n",
    "\n",
    "dissolved_cessation_df = pd.DataFrame.from_dict(counts_cessation, orient='index', columns=['Number of Cessation'])\n",
    "\n",
    "dissolved_cessation_df.reset_index(level=0, inplace=True)\n",
    "dissolved_cessation_df.rename(columns={\"index\":\"Month\"}, inplace=True)\n",
    "\n",
    "dissolved_cessation_df = dissolved_cessation_df.sort_values('Month', axis =0 , ascending = True)\n",
    "dissolved_cessation_df.transpose()"
   ]
  },
  {
   "cell_type": "markdown",
   "id": "f5f4cee1",
   "metadata": {},
   "source": [
    "### Business Question 2: Mini-report and visualisation:"
   ]
  },
  {
   "cell_type": "markdown",
   "id": "d908526d",
   "metadata": {},
   "source": [
    "To gain insight for which season or even precisely which month to prefer to start a travel agency, we firstly check how many companies started at a certain month are still active and how many have been dissolved in our dataset.\n",
    "Looking at the first graph, unexpectedly for many, agencies started during colder season seems more-likely to stay in business. October definitely stands out as the number of active agencies is the highest where number of dissolved is one of the lowest. December and April also drives attention with very low number of dissolved agencies.\n",
    "\n",
    "For clearer view of creation month's effect, the survival rate of each is visualised in our second graph. This rate is calculated as a percentage of active agencies over total number of agencies started in that particular month. Where all rates are above 60%, October and December stands out with survival rates above 80% followed by spring season, supporting our first insight.\n",
    "\n",
    "Additionally, we observe when most of the agency cessations take place. Shown in the third graph, there is hardly a seasonal pattern however, clearly cessations peak around hot season in July and August and are at minimum around year-end. \n",
    "\n",
    "We conclude best months to start a travel agency are October and December where July and August seem as the sensitive period in business."
   ]
  },
  {
   "cell_type": "code",
   "execution_count": 47,
   "id": "1094910b",
   "metadata": {
    "scrolled": true
   },
   "outputs": [
    {
     "data": {
      "text/plain": [
       "<AxesSubplot:title={'center':'Number of Cessations by Month'}, xlabel='Month', ylabel='Number of Agencies Ceased'>"
      ]
     },
     "execution_count": 47,
     "metadata": {},
     "output_type": "execute_result"
    },
    {
     "data": {
      "image/png": "[encoded data removed]",
      "text/plain": [
       "<Figure size 432x288 with 1 Axes>"
      ]
     },
     "metadata": {
      "needs_background": "light"
     },
     "output_type": "display_data"
    },
    {
     "data": {
      "image/png": "[encoded data removed]",
      "text/plain": [
       "<Figure size 432x288 with 1 Axes>"
      ]
     },
     "metadata": {
      "needs_background": "light"
     },
     "output_type": "display_data"
    },
    {
     "data": {
      "image/png": "[encoded data removed]",
      "text/plain": [
       "<Figure size 432x288 with 1 Axes>"
      ]
     },
     "metadata": {
      "needs_background": "light"
     },
     "output_type": "display_data"
    }
   ],
   "source": [
    "table_of_months.plot(title='Number of Active and Dissolved Travel Agencies by Creation Month', x=\"Month\", y=[\"Still Active\", \"Dissolved\"], kind = \"bar\", xlabel = 'Month', ylabel = 'Number of Agencies')\n",
    "\n",
    "table_of_months.plot(title='Survival Rate by Creation Month', x=\"Month\", y=[\"Survival Rate\"], kind = \"bar\", xlabel = 'Month', ylabel = 'Survival Rate (%)', ylim=(0,100))\n",
    "\n",
    "dissolved_cessation_df.plot(title ='Number of Cessations by Month', x=\"Month\", y=[\"Number of Cessation\"], kind = \"bar\", color = 'orange', xlabel='Month', ylabel = 'Number of Agencies Ceased')"
   ]
  },
  {
   "cell_type": "markdown",
   "id": "accurate-tsunami",
   "metadata": {},
   "source": [
    "### Business Question 3:  Is the UK becoming more attractive to international entrepreneurs for IT company initiatives?\n",
    "\n",
    "Do younger IT companies have more diverse boards than relatively older ones?\n",
    "\n",
    "Focus group SIC: 62020\tInformation technology consultancy activities"
   ]
  },
  {
   "cell_type": "code",
   "execution_count": 17,
   "id": "d2d0bcda",
   "metadata": {
    "deletable": false,
    "nbgrader": {
     "cell_type": "code",
     "checksum": "7cc2cae3f32d42f786fc296b8cca2655",
     "grade": true,
     "grade_id": "cell-fdc7a4890d4d0d75",
     "locked": false,
     "points": 100,
     "schema_version": 3,
     "solution": true,
     "task": false
    }
   },
   "outputs": [
    {
     "name": "stdout",
     "output_type": "stream",
     "text": [
      "600\n"
     ]
    }
   ],
   "source": [
    "# Getting IT related companies\n",
    "tech_companies = search_for_companies_with_query(\"Information\", number_of_companies = 200) + search_for_companies_with_query(\"Technologies\", number_of_companies = 200) + search_for_companies_with_query(\"IT\", number_of_companies = 200)\n",
    "print(len(tech_companies))\n",
    "#pp.pprint(tech_companies[3])"
   ]
  },
  {
   "cell_type": "code",
   "execution_count": 18,
   "id": "9cb5fc7b",
   "metadata": {},
   "outputs": [
    {
     "name": "stdout",
     "output_type": "stream",
     "text": [
      "status code is not 'SUCCESS 200'. Will wait 20 seconds\n",
      "status code is not 'SUCCESS 200'. Will wait 20 seconds\n",
      "status code is not 'SUCCESS 200'. Will wait 20 seconds\n",
      "status code is not 'SUCCESS 200'. Will wait 20 seconds\n",
      "status code is not 'SUCCESS 200'. Will wait 20 seconds\n",
      "status code is not 'SUCCESS 200'. Will wait 20 seconds\n",
      "status code is not 'SUCCESS 200'. Will wait 20 seconds\n",
      "status code is not 'SUCCESS 200'. Will wait 20 seconds\n",
      "status code is not 'SUCCESS 200'. Will wait 20 seconds\n",
      "status code is not 'SUCCESS 200'. Will wait 20 seconds\n",
      "status code is not 'SUCCESS 200'. Will wait 20 seconds\n",
      "[['82990'], ['99999'], ['62020', '70229'], ['69109'], ['88100', '88990']]\n",
      "['INFORMATION LIMITED', 'FUSION CELL CONSULTING LIMITED', 'INFORMATION UN LIMITED', 'INFORMATION ACCESS SOLUTIONS LTD', 'INFORMATION ADVICE AND FITNESS CIC']\n",
      "{'address': {'address_line_1': 'Gordon Road',\n",
      "             'address_line_2': 'Ashford',\n",
      "             'postal_code': 'TW15 3ES',\n",
      "             'premises': '3'},\n",
      " 'address_snippet': '3 Gordon Road, Ashford, TW15 3ES',\n",
      " 'company_number': '05697000',\n",
      " 'company_status': 'active',\n",
      " 'company_type': 'ltd',\n",
      " 'date_of_creation': '2006-02-03',\n",
      " 'description': '05697000 - Incorporated on  3 February 2006',\n",
      " 'description_identifier': ['incorporated-on'],\n",
      " 'kind': 'searchresults#company',\n",
      " 'links': {'self': '/company/05697000'},\n",
      " 'matches': {'snippet': [], 'title': [1, 11]},\n",
      " 'snippet': '',\n",
      " 'title': 'INFORMATION UN LIMITED'}\n"
     ]
    }
   ],
   "source": [
    "# SIC code check\n",
    "tech_company_numbers = get_company_numbers(tech_companies)\n",
    "details = detailed_info_about_companies_with_ids(tech_company_numbers)\n",
    "\n",
    "sic_codes = []\n",
    "for detail in details:\n",
    "    if 'sic_codes' in detail.keys():\n",
    "        sic_codes.append(detail['sic_codes'])\n",
    "    else:\n",
    "        sic_codes.append(['no_code'])\n",
    "print(sic_codes[0:5])\n",
    "\n",
    "company_names = []\n",
    "for detail in details:\n",
    "    if 'company_name' in detail.keys():\n",
    "        company_names.append(detail['company_name'])\n",
    "    else:\n",
    "        company_names.append(['no_name'])\n",
    "print(company_names[0:5])\n",
    "\n",
    "keys = company_names\n",
    "values = sic_codes\n",
    "\n",
    "SIC_dict = {keys[i]: values[i] for i in range(len(keys))}\n",
    "\n",
    "IT_company_names = []\n",
    "for key in SIC_dict.keys():\n",
    "    if '62020' in SIC_dict[key]:\n",
    "        IT_company_names.append(key)\n",
    "\n",
    "IT_companies = []\n",
    "for company in tech_companies:\n",
    "    if company['title'] in IT_company_names:\n",
    "        IT_companies.append(company)\n",
    "        \n",
    "pp.pprint(IT_companies[0])"
   ]
  },
  {
   "cell_type": "code",
   "execution_count": 91,
   "id": "b7446b0f",
   "metadata": {},
   "outputs": [
    {
     "name": "stdout",
     "output_type": "stream",
     "text": [
      "161\n",
      "21\n"
     ]
    }
   ],
   "source": [
    "# Looking at number of active and dissolved companies within IT consultancy group\n",
    "active_IT = get_active_companies(IT_companies)\n",
    "dissolved_IT = get_dissolved_companies(IT_companies)\n",
    "print(len(active_IT))\n",
    "print(len(dissolved_IT))"
   ]
  },
  {
   "cell_type": "code",
   "execution_count": 20,
   "id": "educational-parent",
   "metadata": {},
   "outputs": [
    {
     "name": "stdout",
     "output_type": "stream",
     "text": [
      "9.08\n"
     ]
    }
   ],
   "source": [
    "# As number of dissolved companies is significantly low, we keep the analysis for active companies\n",
    "# Defining a function to get average age of IT companies to make a classification as younger and older than average\n",
    "from datetime import date\n",
    "\n",
    "def average_age(active_companies):\n",
    "    company_ages = []\n",
    "    for company in active_companies:\n",
    "        company_age = date.today() - datetime.strptime(company['date_of_creation'], '%Y-%m-%d').date()\n",
    "        company_ages.append(company_age.days)\n",
    "    return round((sum(company_ages)/len(company_ages))/365,2)\n",
    "\n",
    "average_age = average_age(active_IT)\n",
    "print(average_age)\n",
    "\n",
    "def get_young_companies(companies):\n",
    "    young_IT = []\n",
    "    for company in companies:\n",
    "        company_age = date.today() - datetime.strptime(company['date_of_creation'], '%Y-%m-%d').date()\n",
    "        if company_age.days/365 <= average_age:\n",
    "            young_IT.append(company)\n",
    "    return young_IT\n",
    "\n",
    "def get_older_companies(companies):\n",
    "    older_IT = []\n",
    "    for company in companies:\n",
    "        company_age = date.today() - datetime.strptime(company['date_of_creation'], '%Y-%m-%d').date()\n",
    "        if company_age.days/365 > average_age:\n",
    "            older_IT.append(company)\n",
    "    return older_IT"
   ]
  },
  {
   "cell_type": "code",
   "execution_count": 21,
   "id": "humanitarian-spectacular",
   "metadata": {},
   "outputs": [
    {
     "name": "stdout",
     "output_type": "stream",
     "text": [
      "{'address': {'address_line_1': 'Wivelsfield Green',\n",
      "             'country': 'United Kingdom',\n",
      "             'locality': 'Haywards Heath',\n",
      "             'postal_code': 'RH17 7RH',\n",
      "             'premises': 'Mirkwood North Common Road'},\n",
      " 'address_snippet': 'Mirkwood North Common Road, Wivelsfield Green, Haywards '\n",
      "                    'Heath, United Kingdom, RH17 7RH',\n",
      " 'company_number': '11065953',\n",
      " 'company_status': 'active',\n",
      " 'company_type': 'ltd',\n",
      " 'date_of_creation': '2017-11-15',\n",
      " 'description': '11065953 - Incorporated on 15 November 2017',\n",
      " 'description_identifier': ['incorporated-on'],\n",
      " 'kind': 'searchresults#company',\n",
      " 'links': {'self': '/company/11065953'},\n",
      " 'matches': {'snippet': [], 'title': [1, 11]},\n",
      " 'snippet': '',\n",
      " 'title': 'INFORMATION ARCHITECTURE LIMITED'}\n"
     ]
    }
   ],
   "source": [
    "young_IT = get_young_companies(active_IT)\n",
    "older_IT = get_older_companies(active_IT)\n",
    "\n",
    "pp.pprint(young_IT[0])"
   ]
  },
  {
   "cell_type": "code",
   "execution_count": 22,
   "id": "ranking-guidance",
   "metadata": {},
   "outputs": [],
   "source": [
    "# Getting people info for defined younger and older IT company groups\n",
    "young_IT_numbers = get_company_numbers(young_IT)\n",
    "older_IT_numbers = get_company_numbers(older_IT)\n",
    "\n",
    "def get_people_info(company_numbers):\n",
    "    people_in_filtered_companies = []\n",
    "    for number in company_numbers:\n",
    "        people_in_filtered_companies.append(all_persons_in_company(number))\n",
    "    return people_in_filtered_companies\n",
    "\n",
    "young_IT_people = get_people_info(young_IT_numbers)\n",
    "older_IT_people = get_people_info(older_IT_numbers)"
   ]
  },
  {
   "cell_type": "code",
   "execution_count": 23,
   "id": "controlled-damage",
   "metadata": {},
   "outputs": [],
   "source": [
    "# Getting nationalities of people for each group\n",
    "def get_nationality_of_people(all_people):\n",
    "    return [ get_nationality_of_person(people)\n",
    "            for people in all_people\n",
    "            if people != []]\n",
    "\n",
    "def get_nationality_of_person(found_people):\n",
    "    return [ person['nationality']\n",
    "            for person in found_people\n",
    "            if 'nationality' in person.keys()]\n",
    "\n",
    "young_IT_nations = get_nationality_of_people(young_IT_people)\n",
    "older_IT_nations = get_nationality_of_people(older_IT_people)\n",
    "\n",
    "def get_edited_list_of_nationalities(found_nationalities):\n",
    "    merged_list = []\n",
    "    for nationality in found_nationalities:\n",
    "        for n in nationality: #eliminating company divison to go for a general overview\n",
    "            merged_list.append(n)\n",
    "    return merged_list\n",
    "\n",
    "young_IT_nationalities = get_edited_list_of_nationalities(young_IT_nations)\n",
    "older_IT_nationalities = get_edited_list_of_nationalities(older_IT_nations)"
   ]
  },
  {
   "cell_type": "code",
   "execution_count": 24,
   "id": "piano-sperm",
   "metadata": {},
   "outputs": [],
   "source": [
    "# Counting unique nationalities for each group\n",
    "def get_unique_nationalities(nationalities): \n",
    "    unique_nationalities = []\n",
    "    for nationality in nationalities:\n",
    "        if nationality not in unique_nationalities:\n",
    "            unique_nationalities.append(nationality)\n",
    "    return unique_nationalities"
   ]
  },
  {
   "cell_type": "code",
   "execution_count": 68,
   "id": "nearby-teach",
   "metadata": {
    "scrolled": true
   },
   "outputs": [
    {
     "name": "stdout",
     "output_type": "stream",
     "text": [
      "               In Young IT\n",
      "British                 75\n",
      "Italian                  3\n",
      "South African            2\n",
      "English                  7\n",
      "Romanian                 3\n",
      "Colombian                1\n",
      "Hungarian                3\n",
      "Indian                  14\n",
      "Nigerian                 1\n",
      "Czech                    1\n",
      "Pakistani                3\n",
      "Welsh                    1\n",
      "Turkish                  6\n",
      "Sri Lankan               1\n",
      "Lithuanian               1\n",
      "Portuguese               1\n",
      "Iranian                  2\n",
      "Latvian                  2\n",
      "Irish                    2\n",
      "Danish                   1\n",
      "         In Older IT\n",
      "British           78\n",
      "Dutch              1\n",
      "English            3\n",
      "Indian             4\n",
      "Irish              1\n",
      "Latvian            1\n"
     ]
    }
   ],
   "source": [
    "import pandas as pd\n",
    "counts_young = dict.fromkeys(get_unique_nationalities(young_IT_nationalities), 0)\n",
    "for nat in young_IT_nationalities:\n",
    "    counts_young[nat] += 1\n",
    "\n",
    "counts_older = dict.fromkeys(get_unique_nationalities(older_IT_nationalities), 0)\n",
    "for nat in older_IT_nationalities:\n",
    "    counts_older[nat] += 1\n",
    "\n",
    "# Summarising nationality counts as dataframes\n",
    "young_nats_df = pd.DataFrame.from_dict(counts_young, orient='index', columns=['In Young IT'])                                                                         \n",
    "older_nats_df = pd.DataFrame.from_dict(counts_older, orient='index', columns=['In Older IT'])\n",
    "\n",
    "print(young_nats_df)\n",
    "print(older_nats_df)"
   ]
  },
  {
   "cell_type": "code",
   "execution_count": 69,
   "id": "owned-piano",
   "metadata": {},
   "outputs": [
    {
     "name": "stderr",
     "output_type": "stream",
     "text": [
      "<ipython-input-69-7e9788e8a11b>:18: SettingWithCopyWarning: \n",
      "A value is trying to be set on a copy of a slice from a DataFrame\n",
      "\n",
      "See the caveats in the documentation: https://pandas.pydata.org/pandas-docs/stable/user_guide/indexing.html#returning-a-view-versus-a-copy\n",
      "  young_nats_df['In Young IT'][i] = other_value\n"
     ]
    },
    {
     "data": {
      "text/html": [
       "<div>\n",
       "<style scoped>\n",
       "    .dataframe tbody tr th:only-of-type {\n",
       "        vertical-align: middle;\n",
       "    }\n",
       "\n",
       "    .dataframe tbody tr th {\n",
       "        vertical-align: top;\n",
       "    }\n",
       "\n",
       "    .dataframe thead th {\n",
       "        text-align: right;\n",
       "    }\n",
       "</style>\n",
       "<table border=\"1\" class=\"dataframe\">\n",
       "  <thead>\n",
       "    <tr style=\"text-align: right;\">\n",
       "      <th></th>\n",
       "      <th>Nationality</th>\n",
       "      <th>In Young IT</th>\n",
       "    </tr>\n",
       "  </thead>\n",
       "  <tbody>\n",
       "    <tr>\n",
       "      <th>0</th>\n",
       "      <td>British</td>\n",
       "      <td>75.0</td>\n",
       "    </tr>\n",
       "    <tr>\n",
       "      <th>1</th>\n",
       "      <td>English</td>\n",
       "      <td>7.0</td>\n",
       "    </tr>\n",
       "    <tr>\n",
       "      <th>2</th>\n",
       "      <td>Indian</td>\n",
       "      <td>14.0</td>\n",
       "    </tr>\n",
       "    <tr>\n",
       "      <th>3</th>\n",
       "      <td>Other</td>\n",
       "      <td>28.0</td>\n",
       "    </tr>\n",
       "  </tbody>\n",
       "</table>\n",
       "</div>"
      ],
      "text/plain": [
       "  Nationality  In Young IT\n",
       "0     British         75.0\n",
       "1     English          7.0\n",
       "2      Indian         14.0\n",
       "3       Other         28.0"
      ]
     },
     "execution_count": 69,
     "metadata": {},
     "output_type": "execute_result"
    }
   ],
   "source": [
    "# Editing the groups with too few nationalities for a better summarised view in visuals\n",
    "young_nats_df.reset_index(level=0, inplace=True)\n",
    "young_nats_df.rename(columns={\"index\":\"Nationality\"}, inplace=True)\n",
    "\n",
    "other = []\n",
    "for i in list(young_nats_df.index):\n",
    "    if young_nats_df['In Young IT'][i] < 6:\n",
    "        other.append(young_nats_df['In Young IT'][i])\n",
    "\n",
    "other_value = sum(other)\n",
    "new_row = {'Nationality':'Other'}\n",
    "young_nats_df = young_nats_df.loc[young_nats_df['In Young IT'] > 6]\n",
    "young_nats_df = young_nats_df.append(new_row, ignore_index=True)\n",
    "young_nats_df = young_nats_df.reset_index(drop=True)\n",
    "\n",
    "for i in list(young_nats_df.index):\n",
    "    if young_nats_df['Nationality'][i] == 'Other':\n",
    "        young_nats_df['In Young IT'][i] = other_value\n",
    "\n",
    "young_nats_df"
   ]
  },
  {
   "cell_type": "code",
   "execution_count": 70,
   "id": "excess-dakota",
   "metadata": {},
   "outputs": [],
   "source": [
    "older_nats_df.reset_index(level=0, inplace=True)\n",
    "older_nats_df.rename(columns={\"index\":\"Nationality\"}, inplace=True)\n",
    "\n",
    "other1 = []\n",
    "for i in list(older_nats_df.index):\n",
    "    if older_nats_df['In Older IT'][i] < 2:\n",
    "        other1.append(older_nats_df['In Older IT'][i])"
   ]
  },
  {
   "cell_type": "code",
   "execution_count": 71,
   "id": "ambient-marshall",
   "metadata": {},
   "outputs": [
    {
     "name": "stderr",
     "output_type": "stream",
     "text": [
      "<ipython-input-71-de36418f7329>:9: SettingWithCopyWarning: \n",
      "A value is trying to be set on a copy of a slice from a DataFrame\n",
      "\n",
      "See the caveats in the documentation: https://pandas.pydata.org/pandas-docs/stable/user_guide/indexing.html#returning-a-view-versus-a-copy\n",
      "  older_nats_df['In Older IT'][i] = other_value1\n"
     ]
    },
    {
     "data": {
      "text/html": [
       "<div>\n",
       "<style scoped>\n",
       "    .dataframe tbody tr th:only-of-type {\n",
       "        vertical-align: middle;\n",
       "    }\n",
       "\n",
       "    .dataframe tbody tr th {\n",
       "        vertical-align: top;\n",
       "    }\n",
       "\n",
       "    .dataframe thead th {\n",
       "        text-align: right;\n",
       "    }\n",
       "</style>\n",
       "<table border=\"1\" class=\"dataframe\">\n",
       "  <thead>\n",
       "    <tr style=\"text-align: right;\">\n",
       "      <th></th>\n",
       "      <th>Nationality</th>\n",
       "      <th>In Older IT</th>\n",
       "    </tr>\n",
       "  </thead>\n",
       "  <tbody>\n",
       "    <tr>\n",
       "      <th>0</th>\n",
       "      <td>British</td>\n",
       "      <td>78.0</td>\n",
       "    </tr>\n",
       "    <tr>\n",
       "      <th>1</th>\n",
       "      <td>English</td>\n",
       "      <td>3.0</td>\n",
       "    </tr>\n",
       "    <tr>\n",
       "      <th>2</th>\n",
       "      <td>Indian</td>\n",
       "      <td>4.0</td>\n",
       "    </tr>\n",
       "    <tr>\n",
       "      <th>3</th>\n",
       "      <td>Other</td>\n",
       "      <td>3.0</td>\n",
       "    </tr>\n",
       "  </tbody>\n",
       "</table>\n",
       "</div>"
      ],
      "text/plain": [
       "  Nationality  In Older IT\n",
       "0     British         78.0\n",
       "1     English          3.0\n",
       "2      Indian          4.0\n",
       "3       Other          3.0"
      ]
     },
     "execution_count": 71,
     "metadata": {},
     "output_type": "execute_result"
    }
   ],
   "source": [
    "other_value1 = sum(other1)\n",
    "new_row1 = {'Nationality':'Other'}\n",
    "older_nats_df = older_nats_df.loc[older_nats_df['In Older IT'] > 2]\n",
    "older_nats_df = older_nats_df.append(new_row1, ignore_index=True)\n",
    "older_nats_df = older_nats_df.reset_index(drop=True)\n",
    "\n",
    "for i in list(older_nats_df.index):\n",
    "    if older_nats_df['Nationality'][i] == 'Other':\n",
    "        older_nats_df['In Older IT'][i] = other_value1\n",
    "        \n",
    "older_nats_df"
   ]
  },
  {
   "cell_type": "code",
   "execution_count": 76,
   "id": "organized-python",
   "metadata": {},
   "outputs": [],
   "source": [
    "young_nats_df = young_nats_df.set_index('Nationality')\n",
    "older_nats_df = older_nats_df.set_index('Nationality')"
   ]
  },
  {
   "cell_type": "code",
   "execution_count": 77,
   "id": "existing-metropolitan",
   "metadata": {},
   "outputs": [
    {
     "data": {
      "text/html": [
       "<div>\n",
       "<style scoped>\n",
       "    .dataframe tbody tr th:only-of-type {\n",
       "        vertical-align: middle;\n",
       "    }\n",
       "\n",
       "    .dataframe tbody tr th {\n",
       "        vertical-align: top;\n",
       "    }\n",
       "\n",
       "    .dataframe thead th {\n",
       "        text-align: right;\n",
       "    }\n",
       "</style>\n",
       "<table border=\"1\" class=\"dataframe\">\n",
       "  <thead>\n",
       "    <tr style=\"text-align: right;\">\n",
       "      <th></th>\n",
       "      <th>In Young IT</th>\n",
       "      <th>In Older IT</th>\n",
       "    </tr>\n",
       "    <tr>\n",
       "      <th>Nationality</th>\n",
       "      <th></th>\n",
       "      <th></th>\n",
       "    </tr>\n",
       "  </thead>\n",
       "  <tbody>\n",
       "    <tr>\n",
       "      <th>British</th>\n",
       "      <td>75.0</td>\n",
       "      <td>78.0</td>\n",
       "    </tr>\n",
       "    <tr>\n",
       "      <th>English</th>\n",
       "      <td>7.0</td>\n",
       "      <td>3.0</td>\n",
       "    </tr>\n",
       "    <tr>\n",
       "      <th>Indian</th>\n",
       "      <td>14.0</td>\n",
       "      <td>4.0</td>\n",
       "    </tr>\n",
       "    <tr>\n",
       "      <th>Other</th>\n",
       "      <td>28.0</td>\n",
       "      <td>3.0</td>\n",
       "    </tr>\n",
       "  </tbody>\n",
       "</table>\n",
       "</div>"
      ],
      "text/plain": [
       "             In Young IT  In Older IT\n",
       "Nationality                          \n",
       "British             75.0         78.0\n",
       "English              7.0          3.0\n",
       "Indian              14.0          4.0\n",
       "Other               28.0          3.0"
      ]
     },
     "execution_count": 77,
     "metadata": {},
     "output_type": "execute_result"
    }
   ],
   "source": [
    "table = pd.concat([young_nats_df, older_nats_df], axis=1)\n",
    "nanvariables = ['In Young IT', 'In Older IT']\n",
    "\n",
    "def replace_missing_values(dataset, variable):\n",
    "    new_data = dataset.copy()\n",
    "    new_data[variable] = new_data[variable].fillna(0)    \n",
    "    return new_data\n",
    "\n",
    "for var in nanvariables:\n",
    "    table = replace_missing_values(table, var)\n",
    "\n",
    "table"
   ]
  },
  {
   "cell_type": "markdown",
   "id": "0c1c4916",
   "metadata": {},
   "source": [
    "### Business Question 3: Mini-report and visualisation:"
   ]
  },
  {
   "cell_type": "markdown",
   "id": "d7bf0985",
   "metadata": {},
   "source": [
    "As digitalisation and data science gain more importance everyday, IT consultancy is one of the fastest-paced growing sectors. Do younger companies of this exciting field in the UK are more international initiatives than mature ones?\n",
    "Our search for insight starts by getting a set of IT consultancies and dividing them into two groups as younger and older companies. This division is done by calculating the average age of full set, which is 9.08 years, companies below this age have been considered as younger and above as older. \n",
    "\n",
    "Observing nationality details of people in two groups, following 'British' and 'English', 'Indian' population is the most common non-UK nationality in both groups. For better overview without complexity, all other nationalities are gathered under 'Other' category. It is beneficial to add, this category includes 'Irish' and 'Welsh' where they are negligibly small in numbers.\n",
    "\n",
    "In below pie charts, we see the division of nationality categories for younger, on the left-hand-side, and older IT consultancies, on the right-hand-side. Younger consultancies are clearly more diverse than the olders having 33.9% of non-UK nationalities where this rate is only 7.9% for older consultancies. Thus, it is clear that recently there has been more international initiatives in IT consultancy within the UK. It will be exciting to see how this will shape the market in near future."
   ]
  },
  {
   "cell_type": "code",
   "execution_count": 89,
   "id": "removed-partner",
   "metadata": {},
   "outputs": [
    {
     "data": {
      "image/png": "[encoded data removed]",
      "text/plain": [
       "<Figure size 1080x1080 with 2 Axes>"
      ]
     },
     "metadata": {},
     "output_type": "display_data"
    }
   ],
   "source": [
    "colors = sns.color_palette(\"viridis\", as_cmap=False)\n",
    "movement = (0, 0, 0.05, 0.1)\n",
    "plot = table.plot.pie(subplots=True,autopct='%.1f%%',figsize=(15,15), colors=colors, explode=movement)"
   ]
  }
 ],
 "metadata": {
  "kernelspec": {
   "display_name": "Python 3",
   "language": "python",
   "name": "python3"
  },
  "language_info": {
   "codemirror_mode": {
    "name": "ipython",
    "version": 3
   },
   "file_extension": ".py",
   "mimetype": "text/x-python",
   "name": "python",
   "nbconvert_exporter": "python",
   "pygments_lexer": "ipython3",
   "version": "3.8.8"
  }
 },
 "nbformat": 4,
 "nbformat_minor": 5
}
